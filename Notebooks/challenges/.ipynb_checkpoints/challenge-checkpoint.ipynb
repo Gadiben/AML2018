{
 "cells": [
  {
   "cell_type": "markdown",
   "metadata": {},
   "source": [
    "2018 Edition"
   ]
  },
  {
   "cell_type": "markdown",
   "metadata": {},
   "source": [
    "# Challenge: What is the future selling price of a home?\n",
    "\n",
    "A home is often the largest and most expensive purchase a person makes in his or her lifetime. Ensuring homeowners have a trusted way to monitor this asset is incredibly important.\n",
    "\n",
    "In this competition, students are required to develop a full-fledged approach to make predictions about the future sale prices of homes. A full-fledged approach constist, at least, in the following steps:\n",
    "\n",
    "* Descriptive statistics about the data\n",
    "* Data cleaning and pre-processing\n",
    "* Defining a modeling approach to the problem\n",
    "* Build such a statistical model\n",
    "* Validate the outcome of the model\n",
    "\n",
    "Now, should you ask a home buyer to describe their dream house, they probably wouldn't begin with describing features such as the height of the basement ceiling or the proximity to a railroad. As you will see, the dataset we use in this competition proves that many more features influence price negotiations than the number of bedrooms or a white-picket fence.\n",
    "\n",
    "With 79 explanatory variables describing (almost) every aspect of residential homes in a small city in the US, this competition challenges you to predict the final price of each home."
   ]
  },
  {
   "cell_type": "markdown",
   "metadata": {},
   "source": [
    "# The dataset\n",
    "\n",
    "## File descriptions\n",
    "\n",
    "* train.csv - the training dataset\n",
    "* test.csv - the test dataset\n",
    "* data_description.txt - full description of each column\n",
    "\n",
    "## Data fields\n",
    "Here's a brief version of what you'll find in the data description file.\n",
    "\n",
    "* SalePrice - the property's sale price in dollars. This is the target variable that you're trying to predict.\n",
    "* MSSubClass: The building class\n",
    "* MSZoning: The general zoning classification\n",
    "* LotFrontage: Linear feet of street connected to property\n",
    "* LotArea: Lot size in square feet\n",
    "* Street: Type of road access\n",
    "* Alley: Type of alley access\n",
    "* LotShape: General shape of property\n",
    "* LandContour: Flatness of the property\n",
    "* Utilities: Type of utilities available\n",
    "* LotConfig: Lot configuration\n",
    "* LandSlope: Slope of property\n",
    "* Neighborhood: Physical locations within Ames city limits\n",
    "* Condition1: Proximity to main road or railroad\n",
    "* Condition2: Proximity to main road or railroad (if a second is present)\n",
    "* BldgType: Type of dwelling\n",
    "* HouseStyle: Style of dwelling\n",
    "* OverallQual: Overall material and finish quality\n",
    "* OverallCond: Overall condition rating\n",
    "* YearBuilt: Original construction date\n",
    "* YearRemodAdd: Remodel date\n",
    "* RoofStyle: Type of roof\n",
    "* RoofMatl: Roof material\n",
    "* Exterior1st: Exterior covering on house\n",
    "* Exterior2nd: Exterior covering on house (if more than one material)\n",
    "* MasVnrType: Masonry veneer type\n",
    "* MasVnrArea: Masonry veneer area in square feet\n",
    "* ExterQual: Exterior material quality\n",
    "* ExterCond: Present condition of the material on the exterior\n",
    "* Foundation: Type of foundation\n",
    "* BsmtQual: Height of the basement\n",
    "* BsmtCond: General condition of the basement\n",
    "* BsmtExposure: Walkout or garden level basement walls\n",
    "* BsmtFinType1: Quality of basement finished area\n",
    "* BsmtFinSF1: Type 1 finished square feet\n",
    "* BsmtFinType2: Quality of second finished area (if present)\n",
    "* BsmtFinSF2: Type 2 finished square feet\n",
    "* BsmtUnfSF: Unfinished square feet of basement area\n",
    "* TotalBsmtSF: Total square feet of basement area\n",
    "* Heating: Type of heating\n",
    "* HeatingQC: Heating quality and condition\n",
    "* CentralAir: Central air conditioning\n",
    "* Electrical: Electrical system\n",
    "* 1stFlrSF: First Floor square feet\n",
    "* 2ndFlrSF: Second floor square feet\n",
    "* LowQualFinSF: Low quality finished square feet (all floors)\n",
    "* GrLivArea: Above grade (ground) living area square feet\n",
    "* BsmtFullBath: Basement full bathrooms\n",
    "* BsmtHalfBath: Basement half bathrooms\n",
    "* FullBath: Full bathrooms above grade\n",
    "* HalfBath: Half baths above grade\n",
    "* Bedroom: Number of bedrooms above basement level\n",
    "* Kitchen: Number of kitchens\n",
    "* KitchenQual: Kitchen quality\n",
    "* TotRmsAbvGrd: Total rooms above grade (does not include bathrooms)\n",
    "* Functional: Home functionality rating\n",
    "* Fireplaces: Number of fireplaces\n",
    "* FireplaceQu: Fireplace quality\n",
    "* GarageType: Garage location\n",
    "* GarageYrBlt: Year garage was built\n",
    "* GarageFinish: Interior finish of the garage\n",
    "* GarageCars: Size of garage in car capacity\n",
    "* GarageArea: Size of garage in square feet\n",
    "* GarageQual: Garage quality\n",
    "* GarageCond: Garage condition\n",
    "* PavedDrive: Paved driveway\n",
    "* WoodDeckSF: Wood deck area in square feet\n",
    "* OpenPorchSF: Open porch area in square feet\n",
    "* EnclosedPorch: Enclosed porch area in square feet\n",
    "* 3SsnPorch: Three season porch area in square feet\n",
    "* ScreenPorch: Screen porch area in square feet\n",
    "* PoolArea: Pool area in square feet\n",
    "* PoolQC: Pool quality\n",
    "* Fence: Fence quality\n",
    "* MiscFeature: Miscellaneous feature not covered in other categories\n",
    "* MiscVal: Value (in dollars) of miscellaneous feature\n",
    "* MoSold: Month Sold\n",
    "* YrSold: Year Sold\n",
    "* SaleType: Type of sale\n",
    "* SaleCondition: Condition of sale\n"
   ]
  },
  {
   "cell_type": "markdown",
   "metadata": {},
   "source": [
    "# Our Notebook"
   ]
  },
  {
   "cell_type": "markdown",
   "metadata": {},
   "source": [
    "### Textbook material\n",
    "* “An Introduction to Statistical Learning”, by Gareth James, Daniela Witten, Trevor Hastie and Robert Tibshirani\n",
    "https://link.springer.com/content/pdf/10.1007/978-1-4614-7138-7.pdf\n",
    " * Chapter 2, Chapter 3, “Linear Models”\n",
    " * Chapter 8, “Tree-based Methods”"
   ]
  },
  {
   "cell_type": "markdown",
   "metadata": {},
   "source": [
    "### Advanced readings\n",
    "* “An Introduction to Statistical Learning”, by Gareth James, Daniela Witten, Trevor Hastie and Robert Tibshirani\n",
    " * Chapter 9, “Support Vector Machines”\n",
    "* “Gradient Boosting”, WikiPedia\n",
    "https://en.wikipedia.org/wiki/Gradient_boosting\n",
    "* “XGBoost: A Scalable Tree Boosting System”, https://arxiv.org/abs/1603.02754\n",
    "* A video tutorial on XGBoost,\n",
    "https://campus.datacamp.com/courses/extreme-gradient-boosting-with-xgboost/"
   ]
  },
  {
   "cell_type": "markdown",
   "metadata": {},
   "source": [
    "### Imports"
   ]
  },
  {
   "cell_type": "code",
   "execution_count": 2,
   "metadata": {},
   "outputs": [
    {
     "name": "stderr",
     "output_type": "stream",
     "text": [
      "/opt/conda/lib/python3.6/site-packages/statsmodels/compat/pandas.py:56: FutureWarning: The pandas.core.datetools module is deprecated and will be removed in a future version. Please use the pandas.tseries module instead.\n",
      "  from pandas.core import datetools\n"
     ]
    }
   ],
   "source": [
    "import os\n",
    "import sys\n",
    "import re\n",
    "import random\n",
    "import math\n",
    "import scipy\n",
    "import numpy as np\n",
    "import pandas as pd\n",
    "from time import time\n",
    "\n",
    "#%matplotlib inline\n",
    "import matplotlib.pyplot as plt\n",
    "import matplotlib.patches as pat\n",
    "from matplotlib.animation import FuncAnimation\n",
    "import matplotlib.colors as colors\n",
    "import matplotlib.cm as cm\n",
    "\n",
    "from pyspark import SparkContext\n",
    "from pyspark.sql import SQLContext\n",
    "from pyspark.sql.types import *\n",
    "from pyspark.sql import Row\n",
    "from pyspark.sql.functions import *\n",
    "\n",
    "from statsmodels.nonparametric.kernel_density import KDEMultivariate\n",
    "from statsmodels.nonparametric.kde import KDEUnivariate\n",
    "\n",
    "sqlContext = SQLContext(sc)\n",
    "\n",
    "challenge_data_folder = \"./challenge_data\"\n",
    "\n",
    "from datetime import datetime\n",
    "from datetime import timedelta\n",
    "from itertools import islice\n",
    "import statsmodels.api as sm\n",
    "\n",
    "from IPython.display import HTML\n",
    "#Map widget\n",
    "install = !pip install ipyleaflet\n",
    "from ipyleaflet import (\n",
    "    Map,\n",
    "    Marker,\n",
    "    TileLayer, ImageOverlay,\n",
    "    Polyline, Polygon, Rectangle, Circle, CircleMarker,\n",
    "    GeoJSON, DrawControl, LayerGroup, basemaps\n",
    ")\n",
    "install = !pip install geocoder\n",
    "import geocoder\n",
    "\n",
    "# !apt-get install ImageMagick #Package to convert images to gif"
   ]
  },
  {
   "cell_type": "markdown",
   "metadata": {},
   "source": [
    "### Descriptive statistics about the data"
   ]
  },
  {
   "cell_type": "code",
   "execution_count": 3,
   "metadata": {},
   "outputs": [],
   "source": [
    "pdTrainData = pd.read_csv(challenge_data_folder+\"/train.csv\") #Load training data\n",
    "columnTypesDict = pdTrainData.dtypes.to_dict() #Infer part of the data schema\n",
    "columnNames = list(columnTypesDict.keys()) #List of all features name"
   ]
  },
  {
   "cell_type": "code",
   "execution_count": 4,
   "metadata": {},
   "outputs": [
    {
     "data": {
      "text/html": [
       "<div>\n",
       "<style scoped>\n",
       "    .dataframe tbody tr th:only-of-type {\n",
       "        vertical-align: middle;\n",
       "    }\n",
       "\n",
       "    .dataframe tbody tr th {\n",
       "        vertical-align: top;\n",
       "    }\n",
       "\n",
       "    .dataframe thead th {\n",
       "        text-align: right;\n",
       "    }\n",
       "</style>\n",
       "<table border=\"1\" class=\"dataframe\">\n",
       "  <thead>\n",
       "    <tr style=\"text-align: right;\">\n",
       "      <th></th>\n",
       "      <th>Id</th>\n",
       "      <th>MSSubClass</th>\n",
       "      <th>MSZoning</th>\n",
       "      <th>LotFrontage</th>\n",
       "      <th>LotArea</th>\n",
       "      <th>Street</th>\n",
       "      <th>Alley</th>\n",
       "      <th>LotShape</th>\n",
       "      <th>LandContour</th>\n",
       "      <th>Utilities</th>\n",
       "      <th>...</th>\n",
       "      <th>PoolArea</th>\n",
       "      <th>PoolQC</th>\n",
       "      <th>Fence</th>\n",
       "      <th>MiscFeature</th>\n",
       "      <th>MiscVal</th>\n",
       "      <th>MoSold</th>\n",
       "      <th>YrSold</th>\n",
       "      <th>SaleType</th>\n",
       "      <th>SaleCondition</th>\n",
       "      <th>SalePrice</th>\n",
       "    </tr>\n",
       "  </thead>\n",
       "  <tbody>\n",
       "    <tr>\n",
       "      <th>0</th>\n",
       "      <td>1</td>\n",
       "      <td>60</td>\n",
       "      <td>RL</td>\n",
       "      <td>65.0</td>\n",
       "      <td>8450</td>\n",
       "      <td>Pave</td>\n",
       "      <td>NaN</td>\n",
       "      <td>Reg</td>\n",
       "      <td>Lvl</td>\n",
       "      <td>AllPub</td>\n",
       "      <td>...</td>\n",
       "      <td>0</td>\n",
       "      <td>NaN</td>\n",
       "      <td>NaN</td>\n",
       "      <td>NaN</td>\n",
       "      <td>0</td>\n",
       "      <td>2</td>\n",
       "      <td>2008</td>\n",
       "      <td>WD</td>\n",
       "      <td>Normal</td>\n",
       "      <td>208500</td>\n",
       "    </tr>\n",
       "    <tr>\n",
       "      <th>1</th>\n",
       "      <td>2</td>\n",
       "      <td>20</td>\n",
       "      <td>RL</td>\n",
       "      <td>80.0</td>\n",
       "      <td>9600</td>\n",
       "      <td>Pave</td>\n",
       "      <td>NaN</td>\n",
       "      <td>Reg</td>\n",
       "      <td>Lvl</td>\n",
       "      <td>AllPub</td>\n",
       "      <td>...</td>\n",
       "      <td>0</td>\n",
       "      <td>NaN</td>\n",
       "      <td>NaN</td>\n",
       "      <td>NaN</td>\n",
       "      <td>0</td>\n",
       "      <td>5</td>\n",
       "      <td>2007</td>\n",
       "      <td>WD</td>\n",
       "      <td>Normal</td>\n",
       "      <td>181500</td>\n",
       "    </tr>\n",
       "    <tr>\n",
       "      <th>2</th>\n",
       "      <td>3</td>\n",
       "      <td>60</td>\n",
       "      <td>RL</td>\n",
       "      <td>68.0</td>\n",
       "      <td>11250</td>\n",
       "      <td>Pave</td>\n",
       "      <td>NaN</td>\n",
       "      <td>IR1</td>\n",
       "      <td>Lvl</td>\n",
       "      <td>AllPub</td>\n",
       "      <td>...</td>\n",
       "      <td>0</td>\n",
       "      <td>NaN</td>\n",
       "      <td>NaN</td>\n",
       "      <td>NaN</td>\n",
       "      <td>0</td>\n",
       "      <td>9</td>\n",
       "      <td>2008</td>\n",
       "      <td>WD</td>\n",
       "      <td>Normal</td>\n",
       "      <td>223500</td>\n",
       "    </tr>\n",
       "    <tr>\n",
       "      <th>3</th>\n",
       "      <td>4</td>\n",
       "      <td>70</td>\n",
       "      <td>RL</td>\n",
       "      <td>60.0</td>\n",
       "      <td>9550</td>\n",
       "      <td>Pave</td>\n",
       "      <td>NaN</td>\n",
       "      <td>IR1</td>\n",
       "      <td>Lvl</td>\n",
       "      <td>AllPub</td>\n",
       "      <td>...</td>\n",
       "      <td>0</td>\n",
       "      <td>NaN</td>\n",
       "      <td>NaN</td>\n",
       "      <td>NaN</td>\n",
       "      <td>0</td>\n",
       "      <td>2</td>\n",
       "      <td>2006</td>\n",
       "      <td>WD</td>\n",
       "      <td>Abnorml</td>\n",
       "      <td>140000</td>\n",
       "    </tr>\n",
       "    <tr>\n",
       "      <th>4</th>\n",
       "      <td>5</td>\n",
       "      <td>60</td>\n",
       "      <td>RL</td>\n",
       "      <td>84.0</td>\n",
       "      <td>14260</td>\n",
       "      <td>Pave</td>\n",
       "      <td>NaN</td>\n",
       "      <td>IR1</td>\n",
       "      <td>Lvl</td>\n",
       "      <td>AllPub</td>\n",
       "      <td>...</td>\n",
       "      <td>0</td>\n",
       "      <td>NaN</td>\n",
       "      <td>NaN</td>\n",
       "      <td>NaN</td>\n",
       "      <td>0</td>\n",
       "      <td>12</td>\n",
       "      <td>2008</td>\n",
       "      <td>WD</td>\n",
       "      <td>Normal</td>\n",
       "      <td>250000</td>\n",
       "    </tr>\n",
       "  </tbody>\n",
       "</table>\n",
       "<p>5 rows × 81 columns</p>\n",
       "</div>"
      ],
      "text/plain": [
       "   Id  MSSubClass MSZoning  LotFrontage  LotArea Street Alley LotShape  \\\n",
       "0   1          60       RL         65.0     8450   Pave   NaN      Reg   \n",
       "1   2          20       RL         80.0     9600   Pave   NaN      Reg   \n",
       "2   3          60       RL         68.0    11250   Pave   NaN      IR1   \n",
       "3   4          70       RL         60.0     9550   Pave   NaN      IR1   \n",
       "4   5          60       RL         84.0    14260   Pave   NaN      IR1   \n",
       "\n",
       "  LandContour Utilities    ...     PoolArea PoolQC Fence MiscFeature MiscVal  \\\n",
       "0         Lvl    AllPub    ...            0    NaN   NaN         NaN       0   \n",
       "1         Lvl    AllPub    ...            0    NaN   NaN         NaN       0   \n",
       "2         Lvl    AllPub    ...            0    NaN   NaN         NaN       0   \n",
       "3         Lvl    AllPub    ...            0    NaN   NaN         NaN       0   \n",
       "4         Lvl    AllPub    ...            0    NaN   NaN         NaN       0   \n",
       "\n",
       "  MoSold YrSold  SaleType  SaleCondition  SalePrice  \n",
       "0      2   2008        WD         Normal     208500  \n",
       "1      5   2007        WD         Normal     181500  \n",
       "2      9   2008        WD         Normal     223500  \n",
       "3      2   2006        WD        Abnorml     140000  \n",
       "4     12   2008        WD         Normal     250000  \n",
       "\n",
       "[5 rows x 81 columns]"
      ]
     },
     "execution_count": 4,
     "metadata": {},
     "output_type": "execute_result"
    }
   ],
   "source": [
    "pdTrainData.head()"
   ]
  },
  {
   "cell_type": "code",
   "execution_count": 5,
   "metadata": {},
   "outputs": [
    {
     "name": "stdout",
     "output_type": "stream",
     "text": [
      "False\n",
      "False\n"
     ]
    }
   ],
   "source": [
    "print(\"Bedroom\" in columnNames) #present in data description but not in training data\n",
    "print(\"Kitchen\" in columnNames)"
   ]
  },
  {
   "cell_type": "code",
   "execution_count": 6,
   "metadata": {},
   "outputs": [],
   "source": [
    "pathDescr = (challenge_data_folder+\"/Data description.rtf\")\n",
    "txtDescripData = open(pathDescr).readlines()"
   ]
  },
  {
   "cell_type": "code",
   "execution_count": 7,
   "metadata": {},
   "outputs": [],
   "source": [
    "columnValues={}\n",
    "columnIndex=[]\n",
    "nbHeader = 7\n",
    "NoHeaderTxtDescripData = txtDescripData[nbHeader:]\n",
    "for feature in columnNames:\n",
    "    if feature == 'Id': continue\n",
    "    for index,line in enumerate(NoHeaderTxtDescripData):\n",
    "        if feature in line:\n",
    "            if(line.split(feature)[0]=='' and line.split(feature)[1][0]==':' ): #Make sure exactly this feature in this line \n",
    "                columnIndex.append((feature,index))\n",
    "            pass"
   ]
  },
  {
   "cell_type": "code",
   "execution_count": 8,
   "metadata": {},
   "outputs": [
    {
     "name": "stdout",
     "output_type": "stream",
     "text": [
      "{'MSSubClass': ['20', '30', '40', '45', '50', '60', '70', '75', '80', '85', '90', '120', '150', '160', '180', '190'], 'MSZoning': ['A', 'C', 'FV', 'I', 'RH', 'RL', 'RP', 'RM'], 'Street': ['Grvl', 'Pave'], 'Alley': ['Grvl', 'Pave', 'NA'], 'LotShape': ['Reg', 'IR1', 'IR2', 'IR3'], 'LandContour': ['Lvl', 'Bnk', 'HLS', 'Low'], 'Utilities': ['AllPub', 'NoSewr', 'NoSeWa', 'ELO'], 'LotConfig': ['Inside', 'Corner', 'CulDSac', 'FR2', 'FR3'], 'LandSlope': ['Gtl', 'Mod', 'Sev'], 'Neighborhood': ['Blmngtn', 'Blueste', 'BrDale', 'BrkSide', 'ClearCr', 'CollgCr', 'Crawfor', 'Edwards', 'Gilbert', 'IDOTRR', 'MeadowV', 'Mitchel', 'NAmes', 'NoRidge', 'NPkVill', 'NridgHt', 'NWAmes', 'OldTown', 'SWISU', 'Sawyer', 'SawyerW', 'Somerst', 'StoneBr', 'Timber', 'Veenker'], 'Condition1': ['Artery', 'Feedr', 'Norm', 'RRNn', 'RRAn', 'PosN', 'PosA', 'RRNe', 'RRAe'], 'Condition2': ['Artery', 'Feedr', 'Norm', 'RRNn', 'RRAn', 'PosN', 'PosA', 'RRNe', 'RRAe'], 'BldgType': ['1Fam', '2fmCon', 'Duplex', 'TwnhsE', 'TwnhsI'], 'HouseStyle': ['1Story', '1.5Fin', '1.5Unf', '2Story', '2.5Fin', '2.5Unf', 'SFoyer', 'SLvl'], 'OverallQual': ['10', '9', '8', '7', '6', '5', '4', '3', '2', '1'], 'OverallCond': ['10', '9', '8', '7', '6', '5', '4', '3', '2', '1'], 'RoofStyle': ['Flat', 'Gable', 'Gambrel', 'Hip', 'Mansard', 'Shed'], 'RoofMatl': ['ClyTile', 'CompShg', 'Membran', 'Metal', 'Roll', 'Tar&Grv', 'WdShake', 'WdShngl'], 'Exterior1st': ['AsbShng', 'AsphShn', 'BrkComm', 'BrkFace', 'CBlock', 'CemntBd', 'HdBoard', 'ImStucc', 'MetalSd', 'Other', 'Plywood', 'PreCast', 'Stone', 'Stucco', 'VinylSd', 'Wd Sdng', 'WdShing'], 'Exterior2nd': ['AsbShng', 'AsphShn', 'Brk Cmn', 'BrkFace', 'CBlock', 'CmentBd', 'HdBoard', 'ImStucc', 'MetalSd', 'Other', 'Plywood', 'PreCast', 'Stone', 'Stucco', 'VinylSd', 'Wd Sdng', 'Wd Shng'], 'MasVnrType': ['BrkCmn', 'BrkFace', 'CBlock', 'None', 'Stone'], 'ExterQual': ['Ex', 'Gd', 'TA', 'Fa', 'Po'], 'ExterCond': ['Ex', 'Gd', 'TA', 'Fa', 'Po'], 'Foundation': ['BrkTil', 'CBlock', 'PConc', 'Slab', 'Stone', 'Wood'], 'BsmtQual': ['Ex', 'Gd', 'TA', 'Fa', 'Po', 'NA'], 'BsmtCond': ['Ex', 'Gd', 'TA', 'Fa', 'Po', 'NA'], 'BsmtExposure': ['Gd', 'Av', 'Mn', 'No', 'NA'], 'BsmtFinType1': ['GLQ', 'ALQ', 'BLQ', 'Rec', 'LwQ', 'Unf', 'NA'], 'BsmtFinType2': ['GLQ', 'ALQ', 'BLQ', 'Rec', 'LwQ', 'Unf', 'NA'], 'Heating': ['Floor', 'GasA', 'GasW', 'Grav', 'OthW', 'Wall'], 'HeatingQC': ['Ex', 'Gd', 'TA', 'Fa', 'Po'], 'CentralAir': ['N', 'Y'], 'Electrical': ['SBrkr', 'FuseA', 'FuseF', 'FuseP', 'Mix'], 'KitchenQual': ['Ex', 'Gd', 'TA', 'Fa', 'Po'], 'Functional': ['Typ', 'Min1', 'Min2', 'Mod', 'Maj1', 'Maj2', 'Sev', 'Sal'], 'FireplaceQu': ['Ex', 'Gd', 'TA', 'Fa', 'Po', 'NA'], 'GarageType': ['2Types', 'Attchd', 'Basment', 'BuiltIn', 'CarPort', 'Detchd', 'NA'], 'GarageFinish': ['Fin', 'RFn', 'Unf', 'NA'], 'GarageQual': ['Ex', 'Gd', 'TA', 'Fa', 'Po', 'NA'], 'GarageCond': ['Ex', 'Gd', 'TA', 'Fa', 'Po', 'NA'], 'PavedDrive': ['Y', 'P', 'N'], 'PoolQC': ['Ex', 'Gd', 'TA', 'Fa', 'NA'], 'Fence': ['GdPrv', 'MnPrv', 'GdWo', 'MnWw', 'NA'], 'MiscFeature': ['Elev', 'Gar2', 'Othr', 'Shed', 'TenC', 'NA'], 'SaleType': ['WD', 'CWD', 'VWD', 'New', 'COD', 'Con', 'ConLw', 'ConLI', 'ConLD', 'Oth'], 'SaleCondition': ['Normal', 'Abnorml', 'AdjLand', 'Alloca', 'Family', 'Partial']}\n"
     ]
    }
   ],
   "source": [
    "NoSpecificValfeatures = []\n",
    "SpecificVal = {} #Will contain as keys column names and values the specified values in the description file\n",
    "\n",
    "for index,featureLine in enumerate(columnIndex):\n",
    "    \n",
    "    startLine= featureLine[1]+2\n",
    "    if index == len(columnIndex)-1: endLine = len(NoHeaderTxtDescripData)-1\n",
    "    else: endLine = columnIndex[index+1][1]-1\n",
    "    values = []\n",
    "    if endLine <= startLine: #No specified value in the description file\n",
    "        if featureLine[0]=='Heating': print(columnIndex[index])\n",
    "        NoSpecificValfeatures.append(featureLine[0])\n",
    "        continue\n",
    "    for i in range(startLine,endLine):\n",
    "        line =NoHeaderTxtDescripData[i] \n",
    "        values.append(line.split('\\t')[0].strip())\n",
    "    SpecificVal[featureLine[0]]=values\n",
    "    \n",
    "print(SpecificVal)"
   ]
  },
  {
   "cell_type": "code",
   "execution_count": 9,
   "metadata": {},
   "outputs": [
    {
     "data": {
      "text/plain": [
       "['LotFrontage',\n",
       " 'LotArea',\n",
       " 'YearBuilt',\n",
       " 'YearRemodAdd',\n",
       " 'MasVnrArea',\n",
       " 'BsmtFinSF1',\n",
       " 'BsmtFinSF2',\n",
       " 'BsmtUnfSF',\n",
       " 'TotalBsmtSF',\n",
       " '1stFlrSF',\n",
       " '2ndFlrSF',\n",
       " 'LowQualFinSF',\n",
       " 'GrLivArea',\n",
       " 'BsmtFullBath',\n",
       " 'FullBath',\n",
       " 'HalfBath',\n",
       " 'BedroomAbvGr',\n",
       " 'KitchenAbvGr',\n",
       " 'TotRmsAbvGrd',\n",
       " 'Fireplaces',\n",
       " 'GarageYrBlt',\n",
       " 'GarageCars',\n",
       " 'GarageArea',\n",
       " 'WoodDeckSF',\n",
       " 'OpenPorchSF',\n",
       " 'EnclosedPorch',\n",
       " '3SsnPorch',\n",
       " 'ScreenPorch',\n",
       " 'PoolArea',\n",
       " 'MiscVal',\n",
       " 'MoSold',\n",
       " 'YrSold']"
      ]
     },
     "execution_count": 9,
     "metadata": {},
     "output_type": "execute_result"
    }
   ],
   "source": [
    "NoSpecificValfeatures"
   ]
  },
  {
   "cell_type": "code",
   "execution_count": 10,
   "metadata": {},
   "outputs": [
    {
     "data": {
      "image/png": "[encoded data removed]",
      "text/plain": [
       "<matplotlib.figure.Figure at 0x7fe555cd00b8>"
      ]
     },
     "metadata": {},
     "output_type": "display_data"
    },
    {
     "data": {
      "image/png": "[encoded data removed]",
      "text/plain": [
       "<matplotlib.figure.Figure at 0x7fe51b0ceba8>"
      ]
     },
     "metadata": {},
     "output_type": "display_data"
    }
   ],
   "source": [
    "pdTrainData.boxplot(column=[\"SalePrice\"])\n",
    "plt.show()\n",
    "pdTrainData.boxplot(column=[\"LotArea\"])\n",
    "plt.show()"
   ]
  },
  {
   "cell_type": "code",
   "execution_count": 31,
   "metadata": {},
   "outputs": [
    {
     "data": {
      "image/png": "[encoded data removed]",
      "text/plain": [
       "<matplotlib.figure.Figure at 0x7fe5196d1ac8>"
      ]
     },
     "metadata": {},
     "output_type": "display_data"
    },
    {
     "name": "stdout",
     "output_type": "stream",
     "text": [
      "Number of unvalid sample with a sale price <= 0: 0\n"
     ]
    },
    {
     "data": {
      "image/png": "[encoded data removed]",
      "text/plain": [
       "<matplotlib.figure.Figure at 0x7fe5196f2860>"
      ]
     },
     "metadata": {},
     "output_type": "display_data"
    }
   ],
   "source": [
    "salePrices = pdTrainData.SalePrice.tolist()\n",
    "plt.hist(salePrices, bins='auto', density=True, cumulative=False)\n",
    "plt.title(\"Repartion of sale price in the training Data\")\n",
    "\n",
    "plt.show()\n",
    "print(\"Number of unvalid sample with a sale price <= 0:\",pdTrainData.SalePrice[pdTrainData.SalePrice<=0].count())\n",
    "\n",
    "plt.boxplot(salePrices, vert=False)\n",
    "plt.show()"
   ]
  },
  {
   "cell_type": "code",
   "execution_count": 12,
   "metadata": {},
   "outputs": [
    {
     "data": {
      "image/png": "[encoded data removed]",
      "text/plain": [
       "<matplotlib.figure.Figure at 0x7fe52361f160>"
      ]
     },
     "metadata": {},
     "output_type": "display_data"
    }
   ],
   "source": [
    "plt.scatter(pdTrainData.LotArea, pdTrainData.SalePrice, alpha=0.2)\n",
    "plt.xlabel(\"LotArea\")\n",
    "plt.ylabel(\"SalePrice\")\n",
    "plt.show()"
   ]
  },
  {
   "cell_type": "code",
   "execution_count": 13,
   "metadata": {},
   "outputs": [
    {
     "data": {
      "text/plain": [
       "946"
      ]
     },
     "execution_count": 13,
     "metadata": {},
     "output_type": "execute_result"
    }
   ],
   "source": [
    "pdTrainData[pdTrainData.MSZoning == 'RL'].Id.count()"
   ]
  },
  {
   "cell_type": "code",
   "execution_count": 14,
   "metadata": {},
   "outputs": [
    {
     "name": "stdout",
     "output_type": "stream",
     "text": [
      "A : 0\n",
      "C : 0\n",
      "FV : 55\n",
      "I : 0\n",
      "RH : 12\n",
      "RL : 946\n",
      "RP : 0\n",
      "RM : 178\n"
     ]
    },
    {
     "data": {
      "image/png": "[encoded data removed]",
      "text/plain": [
       "<matplotlib.figure.Figure at 0x7fe51af7d4a8>"
      ]
     },
     "metadata": {},
     "output_type": "display_data"
    }
   ],
   "source": [
    "value='RL'\n",
    "\n",
    "for MSZoningValue in SpecificVal['MSZoning']:\n",
    "    pdTrainData_MSZoningValue = pdTrainData[pdTrainData.MSZoning == MSZoningValue]\n",
    "    print(MSZoningValue,':',pdTrainData[pdTrainData.MSZoning == MSZoningValue].Id.count())\n",
    "    \n",
    "    if MSZoningValue==value: alpha = 0.5\n",
    "    else: alpha = 0\n",
    "        \n",
    "    plt.scatter(pdTrainData_MSZoningValue.LotArea, pdTrainData_MSZoningValue.SalePrice, alpha=alpha, label=MSZoningValue)\n",
    "plt.xlabel(\"LotArea\")\n",
    "plt.ylabel(\"SalePrice\")\n",
    "plt.legend()\n",
    "plt.show()\n",
    "\n",
    "#matplotlib.animation avec une update function"
   ]
  },
  {
   "cell_type": "code",
   "execution_count": 15,
   "metadata": {},
   "outputs": [
    {
     "name": "stdout",
     "output_type": "stream",
     "text": [
      "rm: cannot remove ‘temp/*.gif’: No such file or directory\n",
      "/bin/sh: 1: convert: not found\n",
      "OK\n"
     ]
    }
   ],
   "source": [
    "import seaborn as sns\n",
    "sns.set()\n",
    "sns.set_style({'legend.frameon':True})\n",
    "for specVal in SpecificVal['MSZoning']:\n",
    "    plt.figure(figsize=(12,8))\n",
    "    plt.subplots_adjust(left = .1)\n",
    "    plt.scatter(pdTrainData.LotArea,pdTrainData.SalePrice,linewidth=0.5,facecolor='w',alpha =0.2,edgecolor='k')\n",
    "    for MSZoningValue in SpecificVal['MSZoning']:\n",
    "        pdTrainData_MSZoningValue = pdTrainData[pdTrainData.MSZoning == MSZoningValue]\n",
    "        \n",
    "        if MSZoningValue==specVal: alpha = 0.7\n",
    "        else: alpha = 0\n",
    "            \n",
    "        plt.scatter(pdTrainData_MSZoningValue.LotArea, pdTrainData_MSZoningValue.SalePrice, alpha=alpha, label=MSZoningValue)\n",
    "        \n",
    "    plt.xlabel(\"LotArea\")\n",
    "    ylbl = plt.ylabel(\"SalePrice\")\n",
    "    lgd = plt.legend()\n",
    "    filename='temp/step'+str(specVal)+'.png'\n",
    "    plt.savefig(filename)\n",
    "    plt.clf()\n",
    "    plt.close()\n",
    "    #plt.gca()\n",
    "!rm temp/*.gif\n",
    "!convert -delay 100 temp/*.png temp/animated_scatter.gif\n",
    "!rm temp/*.png\n",
    "print(\"OK\")"
   ]
  },
  {
   "cell_type": "code",
   "execution_count": 16,
   "metadata": {},
   "outputs": [
    {
     "data": {
      "text/html": [
       "<img src=\"temp/animated_scatter.gif\">"
      ],
      "text/plain": [
       "<IPython.core.display.HTML object>"
      ]
     },
     "execution_count": 16,
     "metadata": {},
     "output_type": "execute_result"
    }
   ],
   "source": [
    "HTML('<img src=\"temp/animated_scatter.gif\">') # style=\"width:700px;height:500px\">')"
   ]
  },
  {
   "cell_type": "markdown",
   "metadata": {},
   "source": [
    "### Sale Price versus Area Price"
   ]
  },
  {
   "cell_type": "code",
   "execution_count": 17,
   "metadata": {},
   "outputs": [],
   "source": [
    "#Neighborhood 89\n",
    "#NextCategory 117\n",
    "\n",
    "dicStreetName = {} # Abbreviation : Street name\n",
    "dicStreetLoc = {} # Abbreviation : location returned by geocoder\n",
    "dicStreetPriceAreas = {} #Abbreviation : (sum(Prices), sum(lotArea), price per priceArea)\n",
    "for index in range(92,117):\n",
    "    line = txtDescripData[index]\n",
    "    line = line.strip()\n",
    "    line = line.split('\\t')\n",
    "    dicStreetName[line[0]]= line[1][:-1]\n",
    "    dicStreetLoc[line[0]] = geocoder.google(line[1][:-1]+', Ames')\n",
    "    dicStreetPriceAreas[line[0]]=[0,0,0]"
   ]
  },
  {
   "cell_type": "code",
   "execution_count": 18,
   "metadata": {},
   "outputs": [],
   "source": [
    "cmapRdYlGn = cm.get_cmap('RdYlGn')\n",
    "markersList=[]\n",
    "def calcAreaPrice(row):\n",
    "    neighborhood = row.Neighborhood\n",
    "    dicStreetPriceAreas[neighborhood][0]+=row.SalePrice\n",
    "    dicStreetPriceAreas[neighborhood][1]+=row.LotArea\n",
    "    #print(dicStreetPriceAreas[neighborhood])\n",
    "none = pdTrainData.apply(calcAreaPrice,axis=1)"
   ]
  },
  {
   "cell_type": "code",
   "execution_count": 20,
   "metadata": {},
   "outputs": [
    {
     "data": {
      "image/png": "[encoded data removed]",
      "text/plain": [
       "<matplotlib.figure.Figure at 0x7fe51aed3860>"
      ]
     },
     "metadata": {},
     "output_type": "display_data"
    }
   ],
   "source": [
    "#maxAreaPrice = -np.inf\n",
    "#minAreaPrice = np.inf\n",
    "markersList = []\n",
    "areaPrices = []\n",
    "for place in dicStreetPriceAreas:\n",
    "    areaPrice = dicStreetPriceAreas[place][0]/dicStreetPriceAreas[place][1]\n",
    "    dicStreetPriceAreas[place][2] = areaPrice\n",
    "    areaPrices.append(areaPrice)\n",
    "    #maxAreaPrice = np.max(maxAreaPrice,areaPrice)\n",
    "    #minAreaPrice = np.min(minAreaPrice,areaPrice)\n",
    "hist = plt.hist(areaPrices,cumulative=True,normed=True)\n",
    "plt.show()"
   ]
  },
  {
   "cell_type": "code",
   "execution_count": 21,
   "metadata": {},
   "outputs": [
    {
     "data": {
      "image/png": "[encoded data removed]",
      "text/plain": [
       "<matplotlib.figure.Figure at 0x7fe51b1027f0>"
      ]
     },
     "metadata": {},
     "output_type": "display_data"
    },
    {
     "name": "stdout",
     "output_type": "stream",
     "text": [
      "Area Price around Ames\n"
     ]
    },
    {
     "data": {
      "application/vnd.jupyter.widget-view+json": {
       "model_id": "c5b7ca6c90df43bd91c9811a75d1e4d6",
       "version_major": 2,
       "version_minor": 0
      },
      "text/plain": [
       "Map(basemap={'url': 'https://{s}.tile.openstreetmap.org/{z}/{x}/{y}.png', 'max_zoom': 19, 'attribution': 'Map …"
      ]
     },
     "metadata": {},
     "output_type": "display_data"
    }
   ],
   "source": [
    "markersList = []\n",
    "for place in dicStreetPriceAreas:\n",
    "    coordGeo = dicStreetLoc[place]\n",
    "    areaPrice = dicStreetPriceAreas[place][2]\n",
    "    try:\n",
    "        lastLowerValuesIndex = list(map(lambda x: x<= areaPrice,hist[1])).index(False)-1\n",
    "    except ValueError:\n",
    "        lastLowerValuesIndex = len(hist[0])-1\n",
    "    #print(lastLowerValuesIndex)\n",
    "    colorfloat = hist[0][lastLowerValuesIndex] #Use the cumulative hist to get the color\n",
    "    #colorfloat = (-minAreaPrice)/(maxAreaPrice-minAreaPrice)\n",
    "\n",
    "    #print(dicStreetPirceArea[place][2],colorfloat)\n",
    "    markerColor = colors.rgb2hex(cmapRdYlGn(1-colorfloat))#green to red\n",
    "    marker = CircleMarker(location=(coordGeo.lat, coordGeo.lng), radius=10, color=markerColor, fill_color=markerColor)\n",
    "    markersList.append(marker)\n",
    "\n",
    "g = geocoder.google('Ames')\n",
    "m = Map(center=[g.lat, g.lng], zoom=11)\n",
    "\n",
    "markersList = [x for x in markersList if x!=None]\n",
    "group = LayerGroup(layers=markersList)\n",
    "\n",
    "\n",
    "fig,ax = fig, ax = plt.subplots(figsize=(19,1))\n",
    "plt.title(\"Color with respect to area price\")\n",
    "minPriceArea = 7\n",
    "maxPriceArea = 90\n",
    "for areaPrice in np.arange(minPriceArea,maxPriceArea,1):\n",
    "    try:\n",
    "        lastLowerValuesIndex = list(map(lambda x: x<= areaPrice,hist[1])).index(False)-1\n",
    "    except ValueError:\n",
    "        lastLowerValuesIndex = len(hist[0])-1\n",
    "    #print(lastLowerValuesIndex)\n",
    "    colorfloat = hist[0][lastLowerValuesIndex] #Use the cumulative hist to get the color\n",
    "    plt.scatter(areaPrice,0,c = cmapRdYlGn(1-colorfloat),s=1000)\n",
    "plt.setp( ax.get_yticklabels(), visible=False)\n",
    "ax.yaxis.set_ticks_position('none') \n",
    "plt.show()\n",
    "\n",
    "m.add_layer(group)\n",
    "print(\"Area Price around Ames\")\n",
    "m\n",
    "\n"
   ]
  },
  {
   "cell_type": "markdown",
   "metadata": {},
   "source": [
    "## Data cleaning and pre-processing"
   ]
  },
  {
   "cell_type": "code",
   "execution_count": 22,
   "metadata": {},
   "outputs": [],
   "source": [
    "pathBadDescr = (challenge_data_folder+\"/Bad_Description.rtf\")\n",
    "txtBadDescripData = open(pathBadDescr).readlines()"
   ]
  },
  {
   "cell_type": "code",
   "execution_count": 23,
   "metadata": {},
   "outputs": [
    {
     "data": {
      "text/plain": [
       "{'Alley': [(nan, 1125)],\n",
       " 'BldgType': [('Duplex', 41), ('2fmCon', 28), ('Twnhs', 37)],\n",
       " 'BsmtCond': [(nan, 32)],\n",
       " 'BsmtExposure': [(nan, 33)],\n",
       " 'BsmtFinType1': [(nan, 32)],\n",
       " 'BsmtFinType2': [(nan, 33)],\n",
       " 'BsmtQual': [(nan, 32)],\n",
       " 'Exterior2nd': [('Wd Shng', 29), ('Brk Cmn', 7), ('CmentBd', 49)],\n",
       " 'Fence': [(nan, 973)],\n",
       " 'FireplaceQu': [(nan, 564)],\n",
       " 'GarageCond': [(nan, 67)],\n",
       " 'GarageFinish': [(nan, 67)],\n",
       " 'GarageQual': [(nan, 67)],\n",
       " 'GarageType': [(nan, 67)],\n",
       " 'MSZoning': [('C (all)', 9)],\n",
       " 'MasVnrType': [(nan, 6)],\n",
       " 'MiscFeature': [(nan, 1153)],\n",
       " 'Neighborhood': [('NAmes', 179)],\n",
       " 'PoolQC': [(nan, 1196)]}"
      ]
     },
     "execution_count": 23,
     "metadata": {},
     "output_type": "execute_result"
    }
   ],
   "source": [
    "columnValuesBad={}\n",
    "columnIndexBad=[]\n",
    "nbHeader = 7\n",
    "NoHeaderTxtBadDescripData = txtBadDescripData[nbHeader:]\n",
    "for feature in columnNames:\n",
    "    if feature == 'Id': continue\n",
    "    for index,line in enumerate(NoHeaderTxtBadDescripData):\n",
    "        if feature in line:\n",
    "            if(line.split(feature)[0]=='') :\n",
    "                columnIndexBad.append((feature,index))\n",
    "            pass\n",
    "NoSpecificValfeaturesBad = []\n",
    "SpecificValBad = {} #Will contain as keys column names and values the specified values in the description file\n",
    "\n",
    "for index,featureLine in enumerate(columnIndexBad):\n",
    "    startLine= featureLine[1]+2\n",
    "    if index == len(columnIndexBad)-1: endLine = len(NoHeaderTxtBadDescripData)-1\n",
    "    else: endLine = columnIndexBad[index+1][1]-1\n",
    "    values = []\n",
    "    if endLine <= startLine: #No specified value in the description file\n",
    "        NoSpecificValfeaturesBad.append(featureLine[0])\n",
    "        continue\n",
    "    for i in range(startLine,endLine):\n",
    "        line =NoHeaderTxtBadDescripData[i] \n",
    "        values.append(line.split('\\t')[0].strip())\n",
    "    SpecificValBad[featureLine[0]]=values\n",
    "    \n",
    "dicBadValuesBad = {}\n",
    "for factor in SpecificValBad:\n",
    "    #For a factor search for any value not specified in the description file \n",
    "    #In terms of type of valu\n",
    "    \n",
    "    typeCol = columnTypesDict[factor]\n",
    "    if typeCol == 'int64': valSpec = [int(i) for i in SpecificValBad[factor]]\n",
    "    else: valSpec = SpecificValBad[factor]\n",
    "    pdInter = pdTrainData.apply(lambda x: x[factor] not in valSpec,axis=1)\n",
    "    potentialBadValues = pdTrainData[pdTrainData.apply(lambda x: x[factor] not in valSpec,axis=1)]\n",
    "    nbBadVal = len(potentialBadValues)\n",
    "    \n",
    "    if nbBadVal>0:\n",
    "        dicBadValuesBad[factor] = []\n",
    "        badValues = potentialBadValues[factor].values\n",
    "        #print(badValues)\n",
    "        distinctVal = set(badValues)\n",
    "        for val in distinctVal:\n",
    "            dicBadValuesBad[factor].append((val,np.sum([str(x)==str(val) for x in badValues])))\n",
    "dicBadValuesBad\n"
   ]
  },
  {
   "cell_type": "markdown",
   "metadata": {},
   "source": [
    "Errors: <br>\n",
    "Bedroom instead of BedroomAbvGr<br>\n",
    "Kitchen instead of KitchenAbvGr<br>"
   ]
  },
  {
   "cell_type": "code",
   "execution_count": 24,
   "metadata": {},
   "outputs": [
    {
     "data": {
      "text/plain": [
       "{'Alley': [(nan, 1125)],\n",
       " 'BldgType': [('Twnhs', 37)],\n",
       " 'BsmtCond': [(nan, 32)],\n",
       " 'BsmtExposure': [(nan, 33)],\n",
       " 'BsmtFinType1': [(nan, 32)],\n",
       " 'BsmtFinType2': [(nan, 33)],\n",
       " 'BsmtQual': [(nan, 32)],\n",
       " 'Fence': [(nan, 973)],\n",
       " 'FireplaceQu': [(nan, 564)],\n",
       " 'GarageCond': [(nan, 67)],\n",
       " 'GarageFinish': [(nan, 67)],\n",
       " 'GarageQual': [(nan, 67)],\n",
       " 'GarageType': [(nan, 67)],\n",
       " 'MSZoning': [('C (all)', 9)],\n",
       " 'MasVnrType': [(nan, 6)],\n",
       " 'MiscFeature': [(nan, 1153)],\n",
       " 'PoolQC': [(nan, 1196)]}"
      ]
     },
     "execution_count": 24,
     "metadata": {},
     "output_type": "execute_result"
    }
   ],
   "source": [
    "#Retrieve Nans for the columns with specified values\n",
    "dicBadValues = {}\n",
    "for factor in SpecificVal:\n",
    "    #For a factor search for any value not specified in the description file \n",
    "    #In terms of type of valu\n",
    "    \n",
    "    typeCol = columnTypesDict[factor]\n",
    "    if typeCol == 'int64': valSpec = [int(i) for i in SpecificVal[factor]]\n",
    "    else: valSpec = SpecificVal[factor]\n",
    "    pdInter = pdTrainData.apply(lambda x: x[factor] not in valSpec,axis=1)\n",
    "    potentialBadValues = pdTrainData[pdTrainData.apply(lambda x: x[factor] not in valSpec,axis=1)]\n",
    "    nbBadVal = len(potentialBadValues)\n",
    "    \n",
    "    if nbBadVal>0:\n",
    "        dicBadValues[factor] = []\n",
    "        badValues = potentialBadValues[factor].values\n",
    "        #print(badValues)\n",
    "        distinctVal = set(badValues)\n",
    "        for val in distinctVal:\n",
    "            dicBadValues[factor].append((val,np.sum([str(x)==str(val) for x in badValues])))\n",
    "dicBadValues"
   ]
  },
  {
   "cell_type": "code",
   "execution_count": 25,
   "metadata": {},
   "outputs": [
    {
     "data": {
      "text/plain": [
       "{'Alley': [(nan, 1125)],\n",
       " 'BldgType': [('Twnhs', 37)],\n",
       " 'BsmtCond': [(nan, 32)],\n",
       " 'BsmtExposure': [(nan, 33)],\n",
       " 'BsmtFinType1': [(nan, 32)],\n",
       " 'BsmtFinType2': [(nan, 33)],\n",
       " 'BsmtQual': [(nan, 32)],\n",
       " 'Fence': [(nan, 973)],\n",
       " 'FireplaceQu': [(nan, 564)],\n",
       " 'GarageCond': [(nan, 67)],\n",
       " 'GarageFinish': [(nan, 67)],\n",
       " 'GarageQual': [(nan, 67)],\n",
       " 'GarageType': [(nan, 67)],\n",
       " 'GarageYrBlt': [(nan, 67)],\n",
       " 'LotFrontage': [(nan, 210)],\n",
       " 'MSZoning': [('C (all)', 9)],\n",
       " 'MasVnrArea': [(nan, 6)],\n",
       " 'MasVnrType': [(nan, 6)],\n",
       " 'MiscFeature': [(nan, 1153)],\n",
       " 'PoolQC': [(nan, 1196)]}"
      ]
     },
     "execution_count": 25,
     "metadata": {},
     "output_type": "execute_result"
    }
   ],
   "source": [
    "#Retrieve Nans for the columns with not specified values\n",
    "def getNotSpecifiedBadValues(x,typeFun):\n",
    "    try:\n",
    "        test = typeFun(x)\n",
    "        if str(x)=='nan':\n",
    "            return True\n",
    "        else:\n",
    "            return False\n",
    "    except:\n",
    "        return True\n",
    "for feature in NoSpecificValfeatures:\n",
    "    \n",
    "    dtypeColumn = columnTypesDict[feature]\n",
    "    if dtypeColumn=='float64': typeFun = float\n",
    "    elif dtypeColumn=='int64': typeFun = int\n",
    "    pdInter = pdTrainData[pdTrainData.apply(lambda x: getNotSpecifiedBadValues(x[feature],typeFun),axis=1)]\n",
    "    if len(pdInter)>0:\n",
    "        dicBadValues[feature]=[]\n",
    "        ListErros = pdInter[feature].values\n",
    "        setBadVal = set(ListErros)\n",
    "        for val in setBadVal:\n",
    "            if str(val) not in [str(t[0]) for t in dicBadValues[feature]]:\n",
    "                dicBadValues[feature].append((val,np.sum([str(x)==str(val) for x in ListErros])))\n",
    "dicBadValues"
   ]
  },
  {
   "cell_type": "markdown",
   "metadata": {},
   "source": [
    "# Comment\n",
    "<div class='alert alert-warning'>\n",
    "Fixed some errors but some persist <br>\n",
    "<li>C(all)</li>\n",
    "<li>Twnhs</li>\n",
    "Have no direct typo or wrintings<br>\n",
    "Biggest problem is the important amount of Nan values. They indicate that no valus is avalaibale. <br>\n",
    "One can see that for some factors such as the \"PoolQC\" or pool quality, very few houses in the training data have a value specified. This can lead to errors in the prediction. If a House we want to estimate the price has a value for its pool quality, the model may not have learned enough information about how this affect the saling price and therefore introduce errors.\n",
    "</div>"
   ]
  },
  {
   "cell_type": "markdown",
   "metadata": {},
   "source": [
    "## Defining a modeling approach to the problem"
   ]
  },
  {
   "cell_type": "markdown",
   "metadata": {},
   "source": [
    "### A very simple model\n",
    "\n",
    "The first step is to begin with a really simple model, in order to have first results and write functions to retrieve the data and write the results in the right format. The goal is also to write functions to evaluate the results and test it.\n",
    "<br>\n",
    "The first model we will do doesn't take care of \"NaN\" (=unknown) values because we will only use the lotArea and the neighborhood.\n",
    "<br>\n",
    "The idea is to retrieve the mean price per $m^2$ for each neighborhood, and then calculate the price thanks to the lotArea."
   ]
  },
  {
   "cell_type": "code",
   "execution_count": 26,
   "metadata": {},
   "outputs": [
    {
     "name": "stdout",
     "output_type": "stream",
     "text": [
      "{'Blmngtn': [2890327, 50089, 57.70382718760606], 'Blueste': [275000, 3250, 84.61538461538461], 'BrDale': [1252900, 21135, 59.280813815945116], 'BrkSide': [5595975, 330925, 16.910100475938656], 'ClearCr': [5340332, 793176, 6.732846177897465], 'CollgCr': [23717159, 1160391, 20.43893739265472], 'Crawfor': [8207974, 484916, 16.92658934743337], 'Edwards': [10352700, 806034, 12.843999136512851], 'Gilbert': [12833934, 746406, 17.19430711971769], 'IDOTRR': [3330180, 276267, 12.054208428802571], 'MeadowV': [1456800, 35310, 41.25743415463042], 'Mitchel': [6573436, 461865, 14.23237526116939], 'NAmes': [26138118, 1842051, 14.189682044633944], 'NoRidge': [10842940, 470411, 23.049928679388874], 'NPkVill': [1013000, 20436, 49.569387355646896], 'NridgHt': [21655177, 749574, 28.8899788413152], 'NWAmes': [10477405, 634997, 16.49992834611817], 'OldTown': [12197259, 776453, 15.708946967813892], 'SWISU': [2848334, 162721, 17.504403242359622], 'Sawyer': [9038692, 673312, 13.4242253219904], 'SawyerW': [9490192, 489592, 19.38387882154937], 'Somerst': [15362918, 519839, 29.55322320949371], 'StoneBr': [7224475, 244976, 29.490541930638102], 'Timber': [7249827, 763044, 9.50119128123673], 'Veenker': [2332500, 154124, 15.133918143832238]}\n"
     ]
    }
   ],
   "source": [
    "print(dicStreetPriceAreas)"
   ]
  },
  {
   "cell_type": "code",
   "execution_count": null,
   "metadata": {
    "slideshow": {
     "slide_type": "-"
    }
   },
   "outputs": [],
   "source": [
    "pdTData = pd.read_csv(challenge_data_folder+\"/train.csv\")"
   ]
  },
  {
   "cell_type": "markdown",
   "metadata": {},
   "source": [
    "# Goal of the challenge\n",
    "\n",
    "It is your job to predict the sales price for each house. For each Id in the test set, you must predict the value of the SalePrice variable.\n",
    "\n",
    "## Metric\n",
    "Notebooks are evaluated on Root-Mean-Squared-Error (RMSE) between the logarithm of the predicted value and the logarithm of the observed sales price. (Taking logs means that errors in predicting expensive houses and cheap houses will affect the result equally.)\n",
    "\n",
    "## Submission File Format\n",
    "The file should contain a header and have the following format:\n",
    "\n",
    "```\n",
    "Id,SalePrice\n",
    "1461,169000.1\n",
    "1462,187724.1233\n",
    "1463,175221\n",
    "etc.\n",
    "```\n",
    "\n",
    "You will find an example submission file within the data directory in the repository."
   ]
  },
  {
   "cell_type": "markdown",
   "metadata": {},
   "source": [
    "# Grading the notebook\n",
    "\n",
    "This challenge is going to be graded as a regular notebook for the AML labs. As a consequence, students should submit:\n",
    "\n",
    "* the html version of the notebook, using the Data Science Labs submission website, as usual [**Assignement: Challenge Notebook**]\n",
    "* the submission file (in csv format), that we will use to rank students according to the metric defined above, again through the Data Science Labs submission website [**Assignement: Challenge Predictions**]\n",
    "\n",
    "In summary, you will have to submit 2 files!"
   ]
  }
 ],
 "metadata": {
  "kernelspec": {
   "display_name": "Python 3",
   "language": "python",
   "name": "python3"
  },
  "language_info": {
   "codemirror_mode": {
    "name": "ipython",
    "version": 3
   },
   "file_extension": ".py",
   "mimetype": "text/x-python",
   "name": "python",
   "nbconvert_exporter": "python",
   "pygments_lexer": "ipython3",
   "version": "3.6.4"
  }
 },
 "nbformat": 4,
 "nbformat_minor": 2
}
