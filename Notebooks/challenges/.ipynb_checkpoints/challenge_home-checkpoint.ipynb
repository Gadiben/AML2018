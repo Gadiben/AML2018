{
 "cells": [
  {
   "cell_type": "markdown",
   "metadata": {},
   "source": [
    "2018 Edition"
   ]
  },
  {
   "cell_type": "markdown",
   "metadata": {},
   "source": [
    "# Challenge: What is the future selling price of a home?\n",
    "\n",
    "A home is often the largest and most expensive purchase a person makes in his or her lifetime. Ensuring homeowners have a trusted way to monitor this asset is incredibly important.\n",
    "\n",
    "In this competition, students are required to develop a full-fledged approach to make predictions about the future sale prices of homes. A full-fledged approach constist, at least, in the following steps:\n",
    "\n",
    "* Descriptive statistics about the data\n",
    "* Data cleaning and pre-processing\n",
    "* Defining a modeling approach to the problem\n",
    "* Build such a statistical model\n",
    "* Validate the outcome of the model\n",
    "\n",
    "Now, should you ask a home buyer to describe their dream house, they probably wouldn't begin with describing features such as the height of the basement ceiling or the proximity to a railroad. As you will see, the dataset we use in this competition proves that many more features influence price negotiations than the number of bedrooms or a white-picket fence.\n",
    "\n",
    "With 79 explanatory variables describing (almost) every aspect of residential homes in a small city in the US, this competition challenges you to predict the final price of each home."
   ]
  },
  {
   "cell_type": "code",
   "execution_count": 23,
   "metadata": {},
   "outputs": [],
   "source": [
    "import matplotlib.pyplot as plt\n",
    "import matplotlib.cm as cm\n",
    "import matplotlib.colors as colors\n",
    "import numpy as np\n",
    "from ipyleaflet import (\n",
    "    Map,\n",
    "    Marker,\n",
    "    TileLayer, ImageOverlay,\n",
    "    Polyline, Polygon, Rectangle, Circle, CircleMarker,\n",
    "    GeoJSON, DrawControl, LayerGroup, basemaps\n",
    ")\n",
    "\n",
    "import geocoder\n",
    "import pandas as pd\n",
    "challenge_data_folder = \"challenge_data\"\n",
    "trainData = pd.read_csv(challenge_data_folder+'/train.csv')"
   ]
  },
  {
   "cell_type": "code",
   "execution_count": 24,
   "metadata": {},
   "outputs": [
    {
     "data": {
      "text/plain": [
       "0    CollgCr\n",
       "1    Veenker\n",
       "2    CollgCr\n",
       "3    Crawfor\n",
       "4    NoRidge\n",
       "Name: Neighborhood, dtype: object"
      ]
     },
     "execution_count": 24,
     "metadata": {},
     "output_type": "execute_result"
    }
   ],
   "source": [
    "trainData.Neighborhood.head()"
   ]
  },
  {
   "cell_type": "code",
   "execution_count": 25,
   "metadata": {},
   "outputs": [],
   "source": [
    "maxSalingPrice = np.max(trainData.SalePrice)\n",
    "minSalingPrice = np.min(trainData.SalePrice)"
   ]
  },
  {
   "cell_type": "code",
   "execution_count": 26,
   "metadata": {},
   "outputs": [],
   "source": [
    "dataDescript = open(challenge_data_folder+\"/Data description.rtf\").readlines()"
   ]
  },
  {
   "cell_type": "markdown",
   "metadata": {},
   "source": [
    "## Descriptive statistics about the Data"
   ]
  },
  {
   "cell_type": "code",
   "execution_count": 27,
   "metadata": {},
   "outputs": [],
   "source": [
    "#Neighborhood 89\n",
    "#NextCategory 117\n",
    "dicStreetName = {}\n",
    "dicStreetLoc = {}\n",
    "dicStreetPirceArea = {}\n",
    "for index in range(92,117):\n",
    "    line = dataDescript[index]\n",
    "    line = line.strip()\n",
    "    line = line.split('\\t')\n",
    "    dicStreetName[line[0]]= line[1][:-1]\n",
    "    dicStreetLoc[line[0]] = geocoder.google(line[1][:-1]+', Ames')\n",
    "    dicStreetPirceArea[line[0]]=[0,0,0]"
   ]
  },
  {
   "cell_type": "code",
   "execution_count": 28,
   "metadata": {},
   "outputs": [
    {
     "data": {
      "image/png": "[encoded data removed]",
      "text/plain": [
       "<matplotlib.figure.Figure at 0x7f0065bd9780>"
      ]
     },
     "metadata": {},
     "output_type": "display_data"
    }
   ],
   "source": [
    "hist = plt.hist(trainData.SalePrice,normed=True)"
   ]
  },
  {
   "cell_type": "code",
   "execution_count": 29,
   "metadata": {},
   "outputs": [
    {
     "data": {
      "image/png": "[encoded data removed]",
      "text/plain": [
       "<matplotlib.figure.Figure at 0x7f0065bd9a58>"
      ]
     },
     "metadata": {},
     "output_type": "display_data"
    }
   ],
   "source": [
    "hist = plt.hist(trainData.SalePrice,cumulative=True,normed=True)\n",
    "plt.show()\n",
    "hist = np.array(hist[:-1]) #keep values of histogramm to change color markers\n",
    "dicSaleValue = []\n",
    "for i in range(len(hist[0])):\n",
    "    dicSaleValue.append((hist[0][i],hist[1][i]))"
   ]
  },
  {
   "cell_type": "markdown",
   "metadata": {},
   "source": [
    "cmapRdYlGn = cm.get_cmap('RdYlGn')\n",
    "markersList=[]\n",
    "def placeMarker(row):\n",
    "    neighborhood = row.Neighborhood\n",
    "    coordGeo = dicStreetLoc[neighborhood]\n",
    "    if (coordGeo.lat,coordGeo.lng) ==(None,None):pass\n",
    "    if(coordGeo==(None,None)): print('Test')\n",
    "    \n",
    "    try:\n",
    "        lastLowerValuesIndex = list(map(lambda x: x[1]<= row.SalePrice,dicSaleValue)).index(False)-1\n",
    "    except ValueError:\n",
    "        lastLowerValuesIndex = len(dicSaleValue)-1\n",
    "    colorfloat = dicSaleValue[lastLowerValuesIndex][0]\n",
    "    #print(colorfloat,cmapRdYlGn(1-colorfloat)) \n",
    "    markerColor = colors.rgb2hex(cmapRdYlGn(1-colorfloat))#green to red\n",
    "    marker = CircleMarker(location=(coordGeo.lat, coordGeo.lng), radius=10, color=markerColor, fill_color=markerColor)\n",
    "    markersList.append(marker)\n",
    "trainData.apply(placeMarker,axis=1)"
   ]
  },
  {
   "cell_type": "code",
   "execution_count": 30,
   "metadata": {
    "scrolled": true
   },
   "outputs": [
    {
     "data": {
      "text/plain": [
       "0       None\n",
       "1       None\n",
       "2       None\n",
       "3       None\n",
       "4       None\n",
       "5       None\n",
       "6       None\n",
       "7       None\n",
       "8       None\n",
       "9       None\n",
       "10      None\n",
       "11      None\n",
       "12      None\n",
       "13      None\n",
       "14      None\n",
       "15      None\n",
       "16      None\n",
       "17      None\n",
       "18      None\n",
       "19      None\n",
       "20      None\n",
       "21      None\n",
       "22      None\n",
       "23      None\n",
       "24      None\n",
       "25      None\n",
       "26      None\n",
       "27      None\n",
       "28      None\n",
       "29      None\n",
       "        ... \n",
       "1170    None\n",
       "1171    None\n",
       "1172    None\n",
       "1173    None\n",
       "1174    None\n",
       "1175    None\n",
       "1176    None\n",
       "1177    None\n",
       "1178    None\n",
       "1179    None\n",
       "1180    None\n",
       "1181    None\n",
       "1182    None\n",
       "1183    None\n",
       "1184    None\n",
       "1185    None\n",
       "1186    None\n",
       "1187    None\n",
       "1188    None\n",
       "1189    None\n",
       "1190    None\n",
       "1191    None\n",
       "1192    None\n",
       "1193    None\n",
       "1194    None\n",
       "1195    None\n",
       "1196    None\n",
       "1197    None\n",
       "1198    None\n",
       "1199    None\n",
       "Length: 1200, dtype: object"
      ]
     },
     "execution_count": 30,
     "metadata": {},
     "output_type": "execute_result"
    }
   ],
   "source": [
    "cmapRdYlGn = cm.get_cmap('RdYlGn')\n",
    "markersList=[]\n",
    "def calcAreaPrice(row):\n",
    "    neighborhood = row.Neighborhood\n",
    "    dicStreetPirceArea[neighborhood][0]+=row.SalePrice\n",
    "    dicStreetPirceArea[neighborhood][1]+=row.LotArea\n",
    "trainData.apply(calcAreaPrice,axis=1)"
   ]
  },
  {
   "cell_type": "code",
   "execution_count": 31,
   "metadata": {},
   "outputs": [
    {
     "data": {
      "image/png": "[encoded data removed]",
      "text/plain": [
       "<matplotlib.figure.Figure at 0x7f0065a18d68>"
      ]
     },
     "metadata": {},
     "output_type": "display_data"
    }
   ],
   "source": [
    "maxAreaPrice = -np.inf\n",
    "minAreaPrice = np.inf\n",
    "markersList = []\n",
    "areaPrices = []\n",
    "for place in dicStreetPirceArea:\n",
    "    areaPrice = dicStreetPirceArea[place][0]/dicStreetPirceArea[place][1]\n",
    "    dicStreetPirceArea[place][2] = areaPrice\n",
    "    areaPrices.append(areaPrice)\n",
    "    maxAreaPrice = max(maxAreaPrice,areaPrice)\n",
    "    minAreaPrice = min(minAreaPrice,areaPrice)\n",
    "hist = plt.hist(areaPrices,cumulative=True,normed=True)\n",
    "plt.show()"
   ]
  },
  {
   "cell_type": "code",
   "execution_count": 48,
   "metadata": {},
   "outputs": [
    {
     "data": {
      "image/png": "[encoded data removed]",
      "text/plain": [
       "<matplotlib.figure.Figure at 0x7f00653e0828>"
      ]
     },
     "metadata": {},
     "output_type": "display_data"
    }
   ],
   "source": [
    "plt.figure(figsize=(3,6))\n",
    "for areaPrice in np.arange(minAreaPrice,maxAreaPrice,1):\n",
    "    try:\n",
    "        lastLowerValuesIndex = list(map(lambda x: x<= areaPrice,hist[1])).index(False)-1\n",
    "    except ValueError:\n",
    "        lastLowerValuesIndex = len(hist[0])-1\n",
    "    #print(lastLowerValuesIndex)\n",
    "    colorfloat = hist[0][lastLowerValuesIndex] #Use the cumulative hist to get the color\n",
    "    plt.scatter(1,areaPrice,c = cmapRdYlGn(1-colorfloat),s=1000)\n",
    "    \n",
    "plt.show()"
   ]
  },
  {
   "cell_type": "code",
   "execution_count": 53,
   "metadata": {
    "scrolled": false
   },
   "outputs": [
    {
     "data": {
      "image/png": "[encoded data removed]",
      "text/plain": [
       "<matplotlib.figure.Figure at 0x7f006e427be0>"
      ]
     },
     "metadata": {},
     "output_type": "display_data"
    },
    {
     "name": "stdout",
     "output_type": "stream",
     "text": [
      "Area Price around Ames\n"
     ]
    }
   ],
   "source": [
    "plt.figure(figsize=(19,1))\n",
    "for areaPrice in np.arange(minAreaPrice,maxAreaPrice,1):\n",
    "    try:\n",
    "        lastLowerValuesIndex = list(map(lambda x: x<= areaPrice,hist[1])).index(False)-1\n",
    "    except ValueError:\n",
    "        lastLowerValuesIndex = len(hist[0])-1\n",
    "    #print(lastLowerValuesIndex)\n",
    "    colorfloat = hist[0][lastLowerValuesIndex] #Use the cumulative hist to get the color\n",
    "    plt.scatter(areaPrice,0,c = cmapRdYlGn(1-colorfloat),s=1000)\n",
    "    \n",
    "plt.show()\n",
    "for place in dicStreetPirceArea:\n",
    "    coordGeo = dicStreetLoc[place]\n",
    "    areaPrice = dicStreetPirceArea[place][2]\n",
    "    try:\n",
    "        lastLowerValuesIndex = list(map(lambda x: x<= areaPrice,hist[1])).index(False)-1\n",
    "    except ValueError:\n",
    "        lastLowerValuesIndex = len(hist[0])-1\n",
    "    #print(lastLowerValuesIndex)\n",
    "    colorfloat = hist[0][lastLowerValuesIndex] #Use the cumulative hist to get the color\n",
    "    #colorfloat = (-minAreaPrice)/(maxAreaPrice-minAreaPrice)\n",
    "\n",
    "    #print(dicStreetPirceArea[place][2],colorfloat)\n",
    "    markerColor = colors.rgb2hex(cmapRdYlGn(1-colorfloat))#green to red\n",
    "    marker = CircleMarker(location=(coordGeo.lat, coordGeo.lng), radius=10, color=markerColor, fill_color=markerColor)\n",
    "    markersList.append(marker)\n",
    "\n",
    "g = geocoder.google('Ames')\n",
    "m = Map(center=[g.lat, g.lng], zoom=13)\n",
    "\n",
    "markersList = [x for x in markersList if x!=None]\n",
    "group = LayerGroup(layers=markersList)\n",
    "\n",
    "m.add_layer(group)\n",
    "print(\"Area Price around Ames\")\n",
    "m."
   ]
  },
  {
   "cell_type": "code",
   "execution_count": 54,
   "metadata": {},
   "outputs": [],
   "source": []
  },
  {
   "cell_type": "markdown",
   "metadata": {},
   "source": [
    "<div class=\"alert alert-warning\">\n",
    "<h3> Comments</h3>\n",
    "\n",
    "<li>Lower price further from downtown.\n",
    "<li>Noticeable differences of price in the same area like along lincoln Way --> More parameters to take into account.\n",
    "</div>"
   ]
  },
  {
   "cell_type": "markdown",
   "metadata": {},
   "source": [
    "## Preprocessing the data"
   ]
  },
  {
   "cell_type": "code",
   "execution_count": 34,
   "metadata": {},
   "outputs": [],
   "source": [
    "dataSchema = trainData.columns\n",
    "for columns in dataSchema:\n",
    "    columnVals = trainData[columns]\n",
    "    for vals in columnVals:\n",
    "        if vals=='nan':\n",
    "            print(columns,vals)"
   ]
  },
  {
   "cell_type": "markdown",
   "metadata": {},
   "source": [
    "# The dataset\n",
    "\n",
    "## File descriptions\n",
    "\n",
    "* train.csv - the training dataset\n",
    "* test.csv - the test dataset\n",
    "* data_description.txt - full description of each column\n",
    "\n",
    "## Data fields\n",
    "Here's a brief version of what you'll find in the data description file.\n",
    "\n",
    "* SalePrice - the property's sale price in dollars. This is the target variable that you're trying to predict.\n",
    "* MSSubClass: The building class\n",
    "* MSZoning: The general zoning classification\n",
    "* LotFrontage: Linear feet of street connected to property\n",
    "* LotArea: Lot size in square feet\n",
    "* Street: Type of road access\n",
    "* Alley: Type of alley access\n",
    "* LotShape: General shape of property\n",
    "* LandContour: Flatness of the property\n",
    "* Utilities: Type of utilities available\n",
    "* LotConfig: Lot configuration\n",
    "* LandSlope: Slope of property\n",
    "* Neighborhood: Physical locations within Ames city limits\n",
    "* Condition1: Proximity to main road or railroad\n",
    "* Condition2: Proximity to main road or railroad (if a second is present)\n",
    "* BldgType: Type of dwelling\n",
    "* HouseStyle: Style of dwelling\n",
    "* OverallQual: Overall material and finish quality\n",
    "* OverallCond: Overall condition rating\n",
    "* YearBuilt: Original construction date\n",
    "* YearRemodAdd: Remodel date\n",
    "* RoofStyle: Type of roof\n",
    "* RoofMatl: Roof material\n",
    "* Exterior1st: Exterior covering on house\n",
    "* Exterior2nd: Exterior covering on house (if more than one material)\n",
    "* MasVnrType: Masonry veneer type\n",
    "* MasVnrArea: Masonry veneer area in square feet\n",
    "* ExterQual: Exterior material quality\n",
    "* ExterCond: Present condition of the material on the exterior\n",
    "* Foundation: Type of foundation\n",
    "* BsmtQual: Height of the basement\n",
    "* BsmtCond: General condition of the basement\n",
    "* BsmtExposure: Walkout or garden level basement walls\n",
    "* BsmtFinType1: Quality of basement finished area\n",
    "* BsmtFinSF1: Type 1 finished square feet\n",
    "* BsmtFinType2: Quality of second finished area (if present)\n",
    "* BsmtFinSF2: Type 2 finished square feet\n",
    "* BsmtUnfSF: Unfinished square feet of basement area\n",
    "* TotalBsmtSF: Total square feet of basement area\n",
    "* Heating: Type of heating\n",
    "* HeatingQC: Heating quality and condition\n",
    "* CentralAir: Central air conditioning\n",
    "* Electrical: Electrical system\n",
    "* 1stFlrSF: First Floor square feet\n",
    "* 2ndFlrSF: Second floor square feet\n",
    "* LowQualFinSF: Low quality finished square feet (all floors)\n",
    "* GrLivArea: Above grade (ground) living area square feet\n",
    "* BsmtFullBath: Basement full bathrooms\n",
    "* BsmtHalfBath: Basement half bathrooms\n",
    "* FullBath: Full bathrooms above grade\n",
    "* HalfBath: Half baths above grade\n",
    "* Bedroom: Number of bedrooms above basement level\n",
    "* Kitchen: Number of kitchens\n",
    "* KitchenQual: Kitchen quality\n",
    "* TotRmsAbvGrd: Total rooms above grade (does not include bathrooms)\n",
    "* Functional: Home functionality rating\n",
    "* Fireplaces: Number of fireplaces\n",
    "* FireplaceQu: Fireplace quality\n",
    "* GarageType: Garage location\n",
    "* GarageYrBlt: Year garage was built\n",
    "* GarageFinish: Interior finish of the garage\n",
    "* GarageCars: Size of garage in car capacity\n",
    "* GarageArea: Size of garage in square feet\n",
    "* GarageQual: Garage quality\n",
    "* GarageCond: Garage condition\n",
    "* PavedDrive: Paved driveway\n",
    "* WoodDeckSF: Wood deck area in square feet\n",
    "* OpenPorchSF: Open porch area in square feet\n",
    "* EnclosedPorch: Enclosed porch area in square feet\n",
    "* 3SsnPorch: Three season porch area in square feet\n",
    "* ScreenPorch: Screen porch area in square feet\n",
    "* PoolArea: Pool area in square feet\n",
    "* PoolQC: Pool quality\n",
    "* Fence: Fence quality\n",
    "* MiscFeature: Miscellaneous feature not covered in other categories\n",
    "* MiscVal: Value (in dollars) of miscellaneous feature\n",
    "* MoSold: Month Sold\n",
    "* YrSold: Year Sold\n",
    "* SaleType: Type of sale\n",
    "* SaleCondition: Condition of sale\n"
   ]
  },
  {
   "cell_type": "markdown",
   "metadata": {},
   "source": [
    "# Goal of the challenge\n",
    "\n",
    "It is your job to predict the sales price for each house. For each Id in the test set, you must predict the value of the SalePrice variable.\n",
    "\n",
    "## Metric\n",
    "Notebooks are evaluated on Root-Mean-Squared-Error (RMSE) between the logarithm of the predicted value and the logarithm of the observed sales price. (Taking logs means that errors in predicting expensive houses and cheap houses will affect the result equally.)\n",
    "\n",
    "## Submission File Format\n",
    "The file should contain a header and have the following format:\n",
    "\n",
    "```\n",
    "Id,SalePrice\n",
    "1461,169000.1\n",
    "1462,187724.1233\n",
    "1463,175221\n",
    "etc.\n",
    "```\n",
    "\n",
    "You will find an example submission file within the data directory in the repository."
   ]
  },
  {
   "cell_type": "markdown",
   "metadata": {},
   "source": [
    "# Grading the notebook\n",
    "\n",
    "This challenge is going to be graded as a regular notebook for the AML labs. As a consequence, students should submit:\n",
    "\n",
    "* the html version of the notebook, using the Data Science Labs submission website, as usual [**Assignement: Challenge Notebook**]\n",
    "* the submission file (in csv format), that we will use to rank students according to the metric defined above, again through the Data Science Labs submission website [**Assignement: Challenge Predictions**]\n",
    "\n",
    "In summary, you will have to submit 2 files!"
   ]
  }
 ],
 "metadata": {
  "kernelspec": {
   "display_name": "Python 3",
   "language": "python",
   "name": "python3"
  },
  "language_info": {
   "codemirror_mode": {
    "name": "ipython",
    "version": 3
   },
   "file_extension": ".py",
   "mimetype": "text/x-python",
   "name": "python",
   "nbconvert_exporter": "python",
   "pygments_lexer": "ipython3",
   "version": "3.6.4"
  }
 },
 "nbformat": 4,
 "nbformat_minor": 2
}
