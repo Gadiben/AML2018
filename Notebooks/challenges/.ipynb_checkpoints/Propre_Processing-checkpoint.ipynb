{
 "cells": [
  {
   "cell_type": "code",
   "execution_count": 1,
   "metadata": {},
   "outputs": [
    {
     "name": "stderr",
     "output_type": "stream",
     "text": [
      "C:\\ProgramData\\Anaconda3\\lib\\site-packages\\sklearn\\cross_validation.py:41: DeprecationWarning: This module was deprecated in version 0.18 in favor of the model_selection module into which all the refactored classes and functions are moved. Also note that the interface of the new CV iterators are different from that of this module. This module will be removed in 0.20.\n",
      "  \"This module will be removed in 0.20.\", DeprecationWarning)\n"
     ]
    }
   ],
   "source": [
    "import os\n",
    "import sys\n",
    "import re\n",
    "import random\n",
    "import math\n",
    "import scipy\n",
    "import numpy as np\n",
    "import pandas as pd\n",
    "from time import time\n",
    "%matplotlib inline\n",
    "import matplotlib.pyplot as plt\n",
    "import matplotlib.pylab as pylab\n",
    "import matplotlib.gridspec as gridspec\n",
    "import matplotlib.colors as colors\n",
    "import matplotlib.cm as cm\n",
    "\n",
    "from sklearn.preprocessing import LabelEncoder\n",
    "from sklearn.preprocessing import LabelBinarizer\n",
    "from sklearn.cross_validation import train_test_split\n",
    "from sklearn.model_selection import KFold # import KFold\n",
    "from sklearn.tree import DecisionTreeClassifier\n",
    "from sklearn.metrics import accuracy_score\n",
    "from sklearn.tree import DecisionTreeRegressor\n",
    "from sklearn.tree import export_graphviz\n",
    "from sklearn.ensemble import RandomForestRegressor\n",
    "from sklearn.ensemble import ExtraTreesClassifier\n",
    "from sklearn.decomposition import PCA\n",
    "from sklearn.preprocessing import StandardScaler\n",
    "from sklearn.feature_selection import SelectFromModel\n",
    "from sklearn.pipeline import Pipeline\n",
    "\n",
    "\n",
    "from mpl_toolkits.mplot3d import Axes3D\n",
    "cmapRdYlGn = cm.get_cmap('RdYlGn')\n",
    "cmap = cm.coolwarm\n",
    "\n",
    "\n",
    "challenge_data_folder = \"./challenge_data\"\n",
    "\n",
    "from minisom import MiniSom"
   ]
  },
  {
   "cell_type": "code",
   "execution_count": null,
   "metadata": {},
   "outputs": [],
   "source": []
  },
  {
   "cell_type": "markdown",
   "metadata": {},
   "source": [
    "## Preprocessing"
   ]
  },
  {
   "cell_type": "code",
   "execution_count": 15,
   "metadata": {},
   "outputs": [],
   "source": [
    "pdAllData_Categ = pd.read_csv(challenge_data_folder+\"/train.csv\",keep_default_na=False) #Load training data NA filter FALSE to keep Not available data\n",
    "columnTypesDict = pdAllData_Categ.dtypes.to_dict() #Infer part of the data schema\n",
    "columnNames = list(columnTypesDict.keys()) #List of all features name"
   ]
  },
  {
   "cell_type": "code",
   "execution_count": 35,
   "metadata": {
    "scrolled": false
   },
   "outputs": [],
   "source": [
    "##Data cleaning\n",
    "def dataCleaning(description_file_Path):\n",
    "    \"\"\"Checks in the data for not mentioned values in the description file given.\"\"\"\n",
    "    pathDescr = (challenge_data_folder+description_file_Path)\n",
    "    txtDescripData = open(pathDescr).readlines()\n",
    "    columnValues={}\n",
    "    columnIndex=[]\n",
    "    nbHeader = 7\n",
    "    NoHeaderTxtDescripData = txtDescripData[nbHeader:]\n",
    "    #Parse the description file to retrieve all the specific values assigned to columns\n",
    "    \n",
    "    for feature in columnNames:\n",
    "        if feature == 'Id': continue\n",
    "        for index,line in enumerate(NoHeaderTxtDescripData):\n",
    "            if feature in line:\n",
    "                if(line.split(feature)[0]=='' and line.split(feature)[1][0]==':' ): #Make sure exactly this feature in this line \n",
    "                    columnIndex.append((feature,index)) #We retrieved the line where the feature is described\n",
    "                pass\n",
    "\n",
    "    NoSpecificValfeatures = []\n",
    "    SpecificVal = {} #Will contain as keys column names and values the specified values in the description file\n",
    "\n",
    "    for index,featureLine in enumerate(columnIndex):\n",
    "\n",
    "        startLine= featureLine[1]+2\n",
    "        if index == len(columnIndex)-1: endLine = len(NoHeaderTxtDescripData)-1\n",
    "        else: endLine = columnIndex[index+1][1]-1\n",
    "        values = []\n",
    "        if endLine <= startLine: #No specified value in the description file\n",
    "            NoSpecificValfeatures.append(featureLine[0])\n",
    "            continue\n",
    "        for i in range(startLine,endLine):\n",
    "            line = NoHeaderTxtDescripData[i] \n",
    "            values.append(line.split('\\t')[0].strip())\n",
    "        SpecificVal[featureLine[0]]=values #All values specified are retrieved and kept in this dictionary\n",
    "        \n",
    "    #Retrieve Bad values for the columns with specified values\n",
    "    dicBadValues = []\n",
    "    for factor in SpecificVal:\n",
    "\n",
    "        #For a factor search for any value not specified in the description file \n",
    "        #In terms of type of valu\n",
    "\n",
    "        typeCol = columnTypesDict[factor]\n",
    "        if typeCol == 'int64': valSpec = [int(i) for i in SpecificVal[factor]]\n",
    "        else: valSpec = SpecificVal[factor]\n",
    "        pdInter = pdAllData_Categ.apply(lambda x: x[factor] not in valSpec,axis=1)\n",
    "        potentialBadValues = pdAllData_Categ[pdAllData_Categ.apply(lambda x: x[factor] not in valSpec,axis=1)]\n",
    "        nbBadVal = len(potentialBadValues)\n",
    "\n",
    "        if nbBadVal>0:\n",
    "            badValues = [factor]\n",
    "            badValues.append(potentialBadValues.groupby(factor)[factor].count().to_dict())\n",
    "            dicBadValues.append(badValues)\n",
    "    #Retrieve Bad values for the columns with not specified values such as year of construction of \n",
    "\n",
    "    for feature in NoSpecificValfeatures:\n",
    "        dtypeColumn = columnTypesDict[feature]\n",
    "        if dtypeColumn=='float64': typeFun = float #infered type -> check if any values do not convert to this type\n",
    "        elif dtypeColumn=='int64': typeFun = int\n",
    "        else: typeFun=lambda x: True\n",
    "        pdInter = pdAllData_Categ[pdAllData_Categ.apply(lambda x: (x[feature]=='NA') and typeFun(x[feature]) ,axis=1)]\n",
    "        if len(pdInter)>0:\n",
    "            badValues=[feature]\n",
    "            badValues.append(pdInter.groupby(feature)[feature].count().to_dict())\n",
    "            dicBadValues.append(badValues)\n",
    "    return SpecificVal,NoSpecificValfeatures,dicBadValues"
   ]
  },
  {
   "cell_type": "code",
   "execution_count": 37,
   "metadata": {},
   "outputs": [
    {
     "data": {
      "text/plain": [
       "[['MSZoning', {'C (all)': 9}],\n",
       " ['Neighborhood', {'NAmes': 179}],\n",
       " ['BldgType', {'2fmCon': 28, 'Duplex': 41, 'Twnhs': 37}],\n",
       " ['Exterior2nd', {'Brk Cmn': 7, 'CmentBd': 49, 'Wd Shng': 29}],\n",
       " ['MasVnrType', {'NA': 6}],\n",
       " ['LotFrontage', {'NA': 210}],\n",
       " ['MasVnrArea', {'NA': 6}],\n",
       " ['GarageYrBlt', {'NA': 67}]]"
      ]
     },
     "execution_count": 37,
     "metadata": {},
     "output_type": "execute_result"
    }
   ],
   "source": [
    "bad_description_file_Path = \"/Bad_Description.rtf\"\n",
    "bad_specificVal,bad_noSpecificValfeatures,bad_dicBadValues = dataCleaning(bad_description_file_Path)\n",
    "bad_dicBadValues"
   ]
  },
  {
   "cell_type": "code",
   "execution_count": 36,
   "metadata": {},
   "outputs": [
    {
     "name": "stdout",
     "output_type": "stream",
     "text": [
      "['LotFrontage', 'LotArea', 'YearBuilt', 'YearRemodAdd', 'MasVnrArea', 'BsmtFinSF1', 'BsmtFinSF2', 'BsmtUnfSF', 'TotalBsmtSF', '1stFlrSF', '2ndFlrSF', 'LowQualFinSF', 'GrLivArea', 'BsmtFullBath', 'FullBath', 'HalfBath', 'BedroomAbvGr', 'KitchenAbvGr', 'TotRmsAbvGrd', 'Fireplaces', 'GarageYrBlt', 'GarageCars', 'GarageArea', 'WoodDeckSF', 'OpenPorchSF', 'EnclosedPorch', '3SsnPorch', 'ScreenPorch', 'PoolArea', 'MiscVal', 'MoSold', 'YrSold']\n"
     ]
    },
    {
     "data": {
      "text/plain": [
       "[['MSZoning', {'C (all)': 9}],\n",
       " ['BldgType', {'Twnhs': 37}],\n",
       " ['MasVnrType', {'NA': 6}],\n",
       " ['LotFrontage', {'NA': 210}],\n",
       " ['MasVnrArea', {'NA': 6}],\n",
       " ['GarageYrBlt', {'NA': 67}]]"
      ]
     },
     "execution_count": 36,
     "metadata": {},
     "output_type": "execute_result"
    }
   ],
   "source": [
    "description_file_Path = \"/Data description.rtf\"\n",
    "SpecificVal,NoSpecificValfeatures,dicBadValues = dataCleaning(description_file_Path)\n",
    "print(NoSpecificValfeatures)\n",
    "dicBadValues"
   ]
  },
  {
   "cell_type": "code",
   "execution_count": 20,
   "metadata": {},
   "outputs": [
    {
     "name": "stdout",
     "output_type": "stream",
     "text": [
      "When GarageYrBlt = NA, GarageType has values  {'NA'}\n",
      "When MasVnrArea = NA, MasVnrArea has values {'NA'}\n"
     ]
    }
   ],
   "source": [
    "print('When GarageYrBlt = NA, GarageType has values ',set(pdAllData_Categ[pdAllData_Categ.apply(lambda x: x.GarageYrBlt=='NA',axis=1)].GarageType.values))\n",
    "print('When MasVnrArea = NA, MasVnrArea has values',set(pdAllData_Categ[pdAllData_Categ.apply(lambda x: x.MasVnrArea=='NA',axis=1)].MasVnrType.values))"
   ]
  },
  {
   "cell_type": "markdown",
   "metadata": {},
   "source": [
    "<div class='alert alert-warning'>\n",
    "First of all, some column names were wrong in the description file erors: <br>\n",
    "Bedroom instead of BedroomAbvGr<br>\n",
    "Kitchen instead of KitchenAbvGr<br>\n",
    "\n",
    "Most errors with the initial description are easily corrected by sslighlty modifying the description file but some are more complex and persist such as :<br>\n",
    "<li>C(all)</li>\n",
    "<li>Twnhs</li>\n",
    "Have no direct typo or wrintings<br>\n",
    "Otherwise the other NA values can be explained by other specified values. The two cases above state that when a property has no garage, the year the garage has been built is not available and no MasVnrType implies no MasVnrArea which is reasonable but important to take into account.<br>\n",
    "\n",
    "\n",
    "</div>"
   ]
  }
 ],
 "metadata": {
  "kernelspec": {
   "display_name": "Python 3",
   "language": "python",
   "name": "python3"
  },
  "language_info": {
   "codemirror_mode": {
    "name": "ipython",
    "version": 3
   },
   "file_extension": ".py",
   "mimetype": "text/x-python",
   "name": "python",
   "nbconvert_exporter": "python",
   "pygments_lexer": "ipython3",
   "version": "3.6.4"
  }
 },
 "nbformat": 4,
 "nbformat_minor": 2
}
