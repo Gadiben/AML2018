{
 "cells": [
  {
   "cell_type": "markdown",
   "metadata": {},
   "source": [
    "2018 Edition"
   ]
  },
  {
   "cell_type": "markdown",
   "metadata": {},
   "source": [
    "# Challenge: What is the future selling price of a home?\n",
    "\n",
    "A home is often the largest and most expensive purchase a person makes in his or her lifetime. Ensuring homeowners have a trusted way to monitor this asset is incredibly important.\n",
    "\n",
    "In this competition, students are required to develop a full-fledged approach to make predictions about the future sale prices of homes. A full-fledged approach constist, at least, in the following steps:\n",
    "\n",
    "* Descriptive statistics about the data\n",
    "* Data cleaning and pre-processing\n",
    "* Defining a modeling approach to the problem\n",
    "* Build such a statistical model\n",
    "* Validate the outcome of the model\n",
    "\n",
    "Now, should you ask a home buyer to describe their dream house, they probably wouldn't begin with describing features such as the height of the basement ceiling or the proximity to a railroad. As you will see, the dataset we use in this competition proves that many more features influence price negotiations than the number of bedrooms or a white-picket fence.\n",
    "\n",
    "With 79 explanatory variables describing (almost) every aspect of residential homes in a small city in the US, this competition challenges you to predict the final price of each home."
   ]
  },
  {
   "cell_type": "markdown",
   "metadata": {},
   "source": [
    "# The dataset\n",
    "\n",
    "## File descriptions\n",
    "\n",
    "* train.csv - the training dataset\n",
    "* test.csv - the test dataset\n",
    "* data_description.txt - full description of each column\n",
    "\n",
    "## Data fields\n",
    "Here's a brief version of what you'll find in the data description file.\n",
    "\n",
    "* SalePrice - the property's sale price in dollars. This is the target variable that you're trying to predict.\n",
    "* MSSubClass: The building class\n",
    "* MSZoning: The general zoning classification\n",
    "* LotFrontage: Linear feet of street connected to property\n",
    "* LotArea: Lot size in square feet\n",
    "* Street: Type of road access\n",
    "* Alley: Type of alley access\n",
    "* LotShape: General shape of property\n",
    "* LandContour: Flatness of the property\n",
    "* Utilities: Type of utilities available\n",
    "* LotConfig: Lot configuration\n",
    "* LandSlope: Slope of property\n",
    "* Neighborhood: Physical locations within Ames city limits\n",
    "* Condition1: Proximity to main road or railroad\n",
    "* Condition2: Proximity to main road or railroad (if a second is present)\n",
    "* BldgType: Type of dwelling\n",
    "* HouseStyle: Style of dwelling\n",
    "* OverallQual: Overall material and finish quality\n",
    "* OverallCond: Overall condition rating\n",
    "* YearBuilt: Original construction date\n",
    "* YearRemodAdd: Remodel date\n",
    "* RoofStyle: Type of roof\n",
    "* RoofMatl: Roof material\n",
    "* Exterior1st: Exterior covering on house\n",
    "* Exterior2nd: Exterior covering on house (if more than one material)\n",
    "* MasVnrType: Masonry veneer type\n",
    "* MasVnrArea: Masonry veneer area in square feet\n",
    "* ExterQual: Exterior material quality\n",
    "* ExterCond: Present condition of the material on the exterior\n",
    "* Foundation: Type of foundation\n",
    "* BsmtQual: Height of the basement\n",
    "* BsmtCond: General condition of the basement\n",
    "* BsmtExposure: Walkout or garden level basement walls\n",
    "* BsmtFinType1: Quality of basement finished area\n",
    "* BsmtFinSF1: Type 1 finished square feet\n",
    "* BsmtFinType2: Quality of second finished area (if present)\n",
    "* BsmtFinSF2: Type 2 finished square feet\n",
    "* BsmtUnfSF: Unfinished square feet of basement area\n",
    "* TotalBsmtSF: Total square feet of basement area\n",
    "* Heating: Type of heating\n",
    "* HeatingQC: Heating quality and condition\n",
    "* CentralAir: Central air conditioning\n",
    "* Electrical: Electrical system\n",
    "* 1stFlrSF: First Floor square feet\n",
    "* 2ndFlrSF: Second floor square feet\n",
    "* LowQualFinSF: Low quality finished square feet (all floors)\n",
    "* GrLivArea: Above grade (ground) living area square feet\n",
    "* BsmtFullBath: Basement full bathrooms\n",
    "* BsmtHalfBath: Basement half bathrooms\n",
    "* FullBath: Full bathrooms above grade\n",
    "* HalfBath: Half baths above grade\n",
    "* Bedroom: Number of bedrooms above basement level\n",
    "* Kitchen: Number of kitchens\n",
    "* KitchenQual: Kitchen quality\n",
    "* TotRmsAbvGrd: Total rooms above grade (does not include bathrooms)\n",
    "* Functional: Home functionality rating\n",
    "* Fireplaces: Number of fireplaces\n",
    "* FireplaceQu: Fireplace quality\n",
    "* GarageType: Garage location\n",
    "* GarageYrBlt: Year garage was built\n",
    "* GarageFinish: Interior finish of the garage\n",
    "* GarageCars: Size of garage in car capacity\n",
    "* GarageArea: Size of garage in square feet\n",
    "* GarageQual: Garage quality\n",
    "* GarageCond: Garage condition\n",
    "* PavedDrive: Paved driveway\n",
    "* WoodDeckSF: Wood deck area in square feet\n",
    "* OpenPorchSF: Open porch area in square feet\n",
    "* EnclosedPorch: Enclosed porch area in square feet\n",
    "* 3SsnPorch: Three season porch area in square feet\n",
    "* ScreenPorch: Screen porch area in square feet\n",
    "* PoolArea: Pool area in square feet\n",
    "* PoolQC: Pool quality\n",
    "* Fence: Fence quality\n",
    "* MiscFeature: Miscellaneous feature not covered in other categories\n",
    "* MiscVal: Value (in dollars) of miscellaneous feature\n",
    "* MoSold: Month Sold\n",
    "* YrSold: Year Sold\n",
    "* SaleType: Type of sale\n",
    "* SaleCondition: Condition of sale\n"
   ]
  },
  {
   "cell_type": "markdown",
   "metadata": {},
   "source": [
    "# Our Notebook"
   ]
  },
  {
   "cell_type": "markdown",
   "metadata": {},
   "source": [
    "### Textbook material\n",
    "* “An Introduction to Statistical Learning”, by Gareth James, Daniela Witten, Trevor Hastie and Robert Tibshirani\n",
    "https://link.springer.com/content/pdf/10.1007/978-1-4614-7138-7.pdf\n",
    " * Chapter 2, Chapter 3, “Linear Models”\n",
    " * Chapter 8, “Tree-based Methods”"
   ]
  },
  {
   "cell_type": "markdown",
   "metadata": {},
   "source": [
    "### Advanced readings\n",
    "* “An Introduction to Statistical Learning”, by Gareth James, Daniela Witten, Trevor Hastie and Robert Tibshirani\n",
    " * Chapter 9, “Support Vector Machines”\n",
    "* “Gradient Boosting”, WikiPedia\n",
    "https://en.wikipedia.org/wiki/Gradient_boosting\n",
    "* “XGBoost: A Scalable Tree Boosting System”, https://arxiv.org/abs/1603.02754\n",
    "* A video tutorial on XGBoost,\n",
    "https://campus.datacamp.com/courses/extreme-gradient-boosting-with-xgboost/"
   ]
  },
  {
   "cell_type": "markdown",
   "metadata": {},
   "source": [
    "### Imports"
   ]
  },
  {
   "cell_type": "code",
   "execution_count": 1,
   "metadata": {},
   "outputs": [
    {
     "name": "stderr",
     "output_type": "stream",
     "text": [
      "/opt/conda/lib/python3.6/site-packages/statsmodels/compat/pandas.py:56: FutureWarning: The pandas.core.datetools module is deprecated and will be removed in a future version. Please use the pandas.tseries module instead.\n",
      "  from pandas.core import datetools\n"
     ]
    }
   ],
   "source": [
    "import os\n",
    "import sys\n",
    "import re\n",
    "import random\n",
    "import math\n",
    "import scipy\n",
    "import numpy as np\n",
    "import pandas as pd\n",
    "from time import time\n",
    "\n",
    "#%matplotlib inline\n",
    "import matplotlib.pyplot as plt\n",
    "import matplotlib.patches as pat\n",
    "from matplotlib.animation import FuncAnimation\n",
    "import matplotlib.colors as colors\n",
    "import matplotlib.cm as cm\n",
    "\n",
    "from pyspark import SparkContext\n",
    "from pyspark.sql import SQLContext\n",
    "from pyspark.sql.types import *\n",
    "from pyspark.sql import Row\n",
    "from pyspark.sql.functions import *\n",
    "\n",
    "from statsmodels.nonparametric.kernel_density import KDEMultivariate\n",
    "from statsmodels.nonparametric.kde import KDEUnivariate\n",
    "\n",
    "sqlContext = SQLContext(sc)\n",
    "\n",
    "challenge_data_folder = \"./challenge_data\"\n",
    "\n",
    "from datetime import datetime\n",
    "from datetime import timedelta\n",
    "from itertools import islice\n",
    "import statsmodels.api as sm\n",
    "\n",
    "from IPython.display import HTML\n",
    "#Map widget\n",
    "install = !pip install ipyleaflet\n",
    "from ipyleaflet import (\n",
    "    Map,\n",
    "    Marker,\n",
    "    TileLayer, ImageOverlay,\n",
    "    Polyline, Polygon, Rectangle, Circle, CircleMarker,\n",
    "    GeoJSON, DrawControl, LayerGroup, basemaps\n",
    ")\n",
    "install = !pip install geocoder\n",
    "import geocoder\n",
    "\n",
    "# !apt-get install ImageMagick #Package to convert images to gif"
   ]
  },
  {
   "cell_type": "markdown",
   "metadata": {},
   "source": [
    "### Descriptive statistics about the data"
   ]
  },
  {
   "cell_type": "code",
   "execution_count": 2,
   "metadata": {},
   "outputs": [],
   "source": [
    "pdTrainData = pd.read_csv(challenge_data_folder+\"/train.csv\",na_filter=False) #Load training data NA filter FALSE to keep Not available data\n",
    "columnTypesDict = pdTrainData.dtypes.to_dict() #Infer part of the data schema\n",
    "columnNames = list(columnTypesDict.keys()) #List of all features name"
   ]
  },
  {
   "cell_type": "code",
   "execution_count": 3,
   "metadata": {},
   "outputs": [
    {
     "data": {
      "text/html": [
       "<div>\n",
       "<style scoped>\n",
       "    .dataframe tbody tr th:only-of-type {\n",
       "        vertical-align: middle;\n",
       "    }\n",
       "\n",
       "    .dataframe tbody tr th {\n",
       "        vertical-align: top;\n",
       "    }\n",
       "\n",
       "    .dataframe thead th {\n",
       "        text-align: right;\n",
       "    }\n",
       "</style>\n",
       "<table border=\"1\" class=\"dataframe\">\n",
       "  <thead>\n",
       "    <tr style=\"text-align: right;\">\n",
       "      <th></th>\n",
       "      <th>Id</th>\n",
       "      <th>MSSubClass</th>\n",
       "      <th>MSZoning</th>\n",
       "      <th>LotFrontage</th>\n",
       "      <th>LotArea</th>\n",
       "      <th>Street</th>\n",
       "      <th>Alley</th>\n",
       "      <th>LotShape</th>\n",
       "      <th>LandContour</th>\n",
       "      <th>Utilities</th>\n",
       "      <th>...</th>\n",
       "      <th>PoolArea</th>\n",
       "      <th>PoolQC</th>\n",
       "      <th>Fence</th>\n",
       "      <th>MiscFeature</th>\n",
       "      <th>MiscVal</th>\n",
       "      <th>MoSold</th>\n",
       "      <th>YrSold</th>\n",
       "      <th>SaleType</th>\n",
       "      <th>SaleCondition</th>\n",
       "      <th>SalePrice</th>\n",
       "    </tr>\n",
       "  </thead>\n",
       "  <tbody>\n",
       "    <tr>\n",
       "      <th>0</th>\n",
       "      <td>1</td>\n",
       "      <td>60</td>\n",
       "      <td>RL</td>\n",
       "      <td>65</td>\n",
       "      <td>8450</td>\n",
       "      <td>Pave</td>\n",
       "      <td>NA</td>\n",
       "      <td>Reg</td>\n",
       "      <td>Lvl</td>\n",
       "      <td>AllPub</td>\n",
       "      <td>...</td>\n",
       "      <td>0</td>\n",
       "      <td>NA</td>\n",
       "      <td>NA</td>\n",
       "      <td>NA</td>\n",
       "      <td>0</td>\n",
       "      <td>2</td>\n",
       "      <td>2008</td>\n",
       "      <td>WD</td>\n",
       "      <td>Normal</td>\n",
       "      <td>208500</td>\n",
       "    </tr>\n",
       "    <tr>\n",
       "      <th>1</th>\n",
       "      <td>2</td>\n",
       "      <td>20</td>\n",
       "      <td>RL</td>\n",
       "      <td>80</td>\n",
       "      <td>9600</td>\n",
       "      <td>Pave</td>\n",
       "      <td>NA</td>\n",
       "      <td>Reg</td>\n",
       "      <td>Lvl</td>\n",
       "      <td>AllPub</td>\n",
       "      <td>...</td>\n",
       "      <td>0</td>\n",
       "      <td>NA</td>\n",
       "      <td>NA</td>\n",
       "      <td>NA</td>\n",
       "      <td>0</td>\n",
       "      <td>5</td>\n",
       "      <td>2007</td>\n",
       "      <td>WD</td>\n",
       "      <td>Normal</td>\n",
       "      <td>181500</td>\n",
       "    </tr>\n",
       "    <tr>\n",
       "      <th>2</th>\n",
       "      <td>3</td>\n",
       "      <td>60</td>\n",
       "      <td>RL</td>\n",
       "      <td>68</td>\n",
       "      <td>11250</td>\n",
       "      <td>Pave</td>\n",
       "      <td>NA</td>\n",
       "      <td>IR1</td>\n",
       "      <td>Lvl</td>\n",
       "      <td>AllPub</td>\n",
       "      <td>...</td>\n",
       "      <td>0</td>\n",
       "      <td>NA</td>\n",
       "      <td>NA</td>\n",
       "      <td>NA</td>\n",
       "      <td>0</td>\n",
       "      <td>9</td>\n",
       "      <td>2008</td>\n",
       "      <td>WD</td>\n",
       "      <td>Normal</td>\n",
       "      <td>223500</td>\n",
       "    </tr>\n",
       "    <tr>\n",
       "      <th>3</th>\n",
       "      <td>4</td>\n",
       "      <td>70</td>\n",
       "      <td>RL</td>\n",
       "      <td>60</td>\n",
       "      <td>9550</td>\n",
       "      <td>Pave</td>\n",
       "      <td>NA</td>\n",
       "      <td>IR1</td>\n",
       "      <td>Lvl</td>\n",
       "      <td>AllPub</td>\n",
       "      <td>...</td>\n",
       "      <td>0</td>\n",
       "      <td>NA</td>\n",
       "      <td>NA</td>\n",
       "      <td>NA</td>\n",
       "      <td>0</td>\n",
       "      <td>2</td>\n",
       "      <td>2006</td>\n",
       "      <td>WD</td>\n",
       "      <td>Abnorml</td>\n",
       "      <td>140000</td>\n",
       "    </tr>\n",
       "    <tr>\n",
       "      <th>4</th>\n",
       "      <td>5</td>\n",
       "      <td>60</td>\n",
       "      <td>RL</td>\n",
       "      <td>84</td>\n",
       "      <td>14260</td>\n",
       "      <td>Pave</td>\n",
       "      <td>NA</td>\n",
       "      <td>IR1</td>\n",
       "      <td>Lvl</td>\n",
       "      <td>AllPub</td>\n",
       "      <td>...</td>\n",
       "      <td>0</td>\n",
       "      <td>NA</td>\n",
       "      <td>NA</td>\n",
       "      <td>NA</td>\n",
       "      <td>0</td>\n",
       "      <td>12</td>\n",
       "      <td>2008</td>\n",
       "      <td>WD</td>\n",
       "      <td>Normal</td>\n",
       "      <td>250000</td>\n",
       "    </tr>\n",
       "  </tbody>\n",
       "</table>\n",
       "<p>5 rows × 81 columns</p>\n",
       "</div>"
      ],
      "text/plain": [
       "   Id  MSSubClass MSZoning LotFrontage  LotArea Street Alley LotShape  \\\n",
       "0   1          60       RL          65     8450   Pave    NA      Reg   \n",
       "1   2          20       RL          80     9600   Pave    NA      Reg   \n",
       "2   3          60       RL          68    11250   Pave    NA      IR1   \n",
       "3   4          70       RL          60     9550   Pave    NA      IR1   \n",
       "4   5          60       RL          84    14260   Pave    NA      IR1   \n",
       "\n",
       "  LandContour Utilities    ...     PoolArea PoolQC Fence MiscFeature MiscVal  \\\n",
       "0         Lvl    AllPub    ...            0     NA    NA          NA       0   \n",
       "1         Lvl    AllPub    ...            0     NA    NA          NA       0   \n",
       "2         Lvl    AllPub    ...            0     NA    NA          NA       0   \n",
       "3         Lvl    AllPub    ...            0     NA    NA          NA       0   \n",
       "4         Lvl    AllPub    ...            0     NA    NA          NA       0   \n",
       "\n",
       "  MoSold YrSold  SaleType  SaleCondition  SalePrice  \n",
       "0      2   2008        WD         Normal     208500  \n",
       "1      5   2007        WD         Normal     181500  \n",
       "2      9   2008        WD         Normal     223500  \n",
       "3      2   2006        WD        Abnorml     140000  \n",
       "4     12   2008        WD         Normal     250000  \n",
       "\n",
       "[5 rows x 81 columns]"
      ]
     },
     "execution_count": 3,
     "metadata": {},
     "output_type": "execute_result"
    }
   ],
   "source": [
    "pdTrainData.head()"
   ]
  },
  {
   "cell_type": "code",
   "execution_count": 4,
   "metadata": {},
   "outputs": [
    {
     "name": "stdout",
     "output_type": "stream",
     "text": [
      "False\n",
      "False\n"
     ]
    }
   ],
   "source": [
    "print(\"Bedroom\" in columnNames) #present in data description but not in training data\n",
    "print(\"Kitchen\" in columnNames)"
   ]
  },
  {
   "cell_type": "code",
   "execution_count": 5,
   "metadata": {},
   "outputs": [],
   "source": [
    "pathDescr = (challenge_data_folder+\"/Data description.rtf\")\n",
    "txtDescripData = open(pathDescr).readlines()"
   ]
  },
  {
   "cell_type": "code",
   "execution_count": 6,
   "metadata": {},
   "outputs": [],
   "source": [
    "columnValues={}\n",
    "columnIndex=[]\n",
    "nbHeader = 7\n",
    "NoHeaderTxtDescripData = txtDescripData[nbHeader:]\n",
    "for feature in columnNames:\n",
    "    if feature == 'Id': continue\n",
    "    for index,line in enumerate(NoHeaderTxtDescripData):\n",
    "        if feature in line:\n",
    "            if(line.split(feature)[0]=='' and line.split(feature)[1][0]==':' ): #Make sure exactly this feature in this line \n",
    "                columnIndex.append((feature,index))\n",
    "            pass"
   ]
  },
  {
   "cell_type": "code",
   "execution_count": 7,
   "metadata": {},
   "outputs": [
    {
     "name": "stdout",
     "output_type": "stream",
     "text": [
      "{'MSSubClass': ['20', '30', '40', '45', '50', '60', '70', '75', '80', '85', '90', '120', '150', '160', '180', '190'], 'MSZoning': ['A', 'C', 'FV', 'I', 'RH', 'RL', 'RP', 'RM'], 'Street': ['Grvl', 'Pave'], 'Alley': ['Grvl', 'Pave', 'NA'], 'LotShape': ['Reg', 'IR1', 'IR2', 'IR3'], 'LandContour': ['Lvl', 'Bnk', 'HLS', 'Low'], 'Utilities': ['AllPub', 'NoSewr', 'NoSeWa', 'ELO'], 'LotConfig': ['Inside', 'Corner', 'CulDSac', 'FR2', 'FR3'], 'LandSlope': ['Gtl', 'Mod', 'Sev'], 'Neighborhood': ['Blmngtn', 'Blueste', 'BrDale', 'BrkSide', 'ClearCr', 'CollgCr', 'Crawfor', 'Edwards', 'Gilbert', 'IDOTRR', 'MeadowV', 'Mitchel', 'NAmes', 'NoRidge', 'NPkVill', 'NridgHt', 'NWAmes', 'OldTown', 'SWISU', 'Sawyer', 'SawyerW', 'Somerst', 'StoneBr', 'Timber', 'Veenker'], 'Condition1': ['Artery', 'Feedr', 'Norm', 'RRNn', 'RRAn', 'PosN', 'PosA', 'RRNe', 'RRAe'], 'Condition2': ['Artery', 'Feedr', 'Norm', 'RRNn', 'RRAn', 'PosN', 'PosA', 'RRNe', 'RRAe'], 'BldgType': ['1Fam', '2fmCon', 'Duplex', 'TwnhsE', 'TwnhsI'], 'HouseStyle': ['1Story', '1.5Fin', '1.5Unf', '2Story', '2.5Fin', '2.5Unf', 'SFoyer', 'SLvl'], 'OverallQual': ['10', '9', '8', '7', '6', '5', '4', '3', '2', '1'], 'OverallCond': ['10', '9', '8', '7', '6', '5', '4', '3', '2', '1'], 'RoofStyle': ['Flat', 'Gable', 'Gambrel', 'Hip', 'Mansard', 'Shed'], 'RoofMatl': ['ClyTile', 'CompShg', 'Membran', 'Metal', 'Roll', 'Tar&Grv', 'WdShake', 'WdShngl'], 'Exterior1st': ['AsbShng', 'AsphShn', 'BrkComm', 'BrkFace', 'CBlock', 'CemntBd', 'HdBoard', 'ImStucc', 'MetalSd', 'Other', 'Plywood', 'PreCast', 'Stone', 'Stucco', 'VinylSd', 'Wd Sdng', 'WdShing'], 'Exterior2nd': ['AsbShng', 'AsphShn', 'Brk Cmn', 'BrkFace', 'CBlock', 'CmentBd', 'HdBoard', 'ImStucc', 'MetalSd', 'Other', 'Plywood', 'PreCast', 'Stone', 'Stucco', 'VinylSd', 'Wd Sdng', 'Wd Shng'], 'MasVnrType': ['BrkCmn', 'BrkFace', 'CBlock', 'None', 'Stone'], 'ExterQual': ['Ex', 'Gd', 'TA', 'Fa', 'Po'], 'ExterCond': ['Ex', 'Gd', 'TA', 'Fa', 'Po'], 'Foundation': ['BrkTil', 'CBlock', 'PConc', 'Slab', 'Stone', 'Wood'], 'BsmtQual': ['Ex', 'Gd', 'TA', 'Fa', 'Po', 'NA'], 'BsmtCond': ['Ex', 'Gd', 'TA', 'Fa', 'Po', 'NA'], 'BsmtExposure': ['Gd', 'Av', 'Mn', 'No', 'NA'], 'BsmtFinType1': ['GLQ', 'ALQ', 'BLQ', 'Rec', 'LwQ', 'Unf', 'NA'], 'BsmtFinType2': ['GLQ', 'ALQ', 'BLQ', 'Rec', 'LwQ', 'Unf', 'NA'], 'Heating': ['Floor', 'GasA', 'GasW', 'Grav', 'OthW', 'Wall'], 'HeatingQC': ['Ex', 'Gd', 'TA', 'Fa', 'Po'], 'CentralAir': ['N', 'Y'], 'Electrical': ['SBrkr', 'FuseA', 'FuseF', 'FuseP', 'Mix'], 'KitchenQual': ['Ex', 'Gd', 'TA', 'Fa', 'Po'], 'Functional': ['Typ', 'Min1', 'Min2', 'Mod', 'Maj1', 'Maj2', 'Sev', 'Sal'], 'FireplaceQu': ['Ex', 'Gd', 'TA', 'Fa', 'Po', 'NA'], 'GarageType': ['2Types', 'Attchd', 'Basment', 'BuiltIn', 'CarPort', 'Detchd', 'NA'], 'GarageFinish': ['Fin', 'RFn', 'Unf', 'NA'], 'GarageQual': ['Ex', 'Gd', 'TA', 'Fa', 'Po', 'NA'], 'GarageCond': ['Ex', 'Gd', 'TA', 'Fa', 'Po', 'NA'], 'PavedDrive': ['Y', 'P', 'N'], 'PoolQC': ['Ex', 'Gd', 'TA', 'Fa', 'NA'], 'Fence': ['GdPrv', 'MnPrv', 'GdWo', 'MnWw', 'NA'], 'MiscFeature': ['Elev', 'Gar2', 'Othr', 'Shed', 'TenC', 'NA'], 'SaleType': ['WD', 'CWD', 'VWD', 'New', 'COD', 'Con', 'ConLw', 'ConLI', 'ConLD', 'Oth'], 'SaleCondition': ['Normal', 'Abnorml', 'AdjLand', 'Alloca', 'Family', 'Partial']}\n"
     ]
    }
   ],
   "source": [
    "NoSpecificValfeatures = []\n",
    "SpecificVal = {} #Will contain as keys column names and values the specified values in the description file\n",
    "\n",
    "for index,featureLine in enumerate(columnIndex):\n",
    "    \n",
    "    startLine= featureLine[1]+2\n",
    "    if index == len(columnIndex)-1: endLine = len(NoHeaderTxtDescripData)-1\n",
    "    else: endLine = columnIndex[index+1][1]-1\n",
    "    values = []\n",
    "    if endLine <= startLine: #No specified value in the description file\n",
    "        if featureLine[0]=='Heating': print(columnIndex[index])\n",
    "        NoSpecificValfeatures.append(featureLine[0])\n",
    "        continue\n",
    "    for i in range(startLine,endLine):\n",
    "        line =NoHeaderTxtDescripData[i] \n",
    "        values.append(line.split('\\t')[0].strip())\n",
    "    SpecificVal[featureLine[0]]=values\n",
    "    \n",
    "print(SpecificVal)"
   ]
  },
  {
   "cell_type": "code",
   "execution_count": 8,
   "metadata": {},
   "outputs": [
    {
     "data": {
      "text/plain": [
       "['LotFrontage',\n",
       " 'LotArea',\n",
       " 'YearBuilt',\n",
       " 'YearRemodAdd',\n",
       " 'MasVnrArea',\n",
       " 'BsmtFinSF1',\n",
       " 'BsmtFinSF2',\n",
       " 'BsmtUnfSF',\n",
       " 'TotalBsmtSF',\n",
       " '1stFlrSF',\n",
       " '2ndFlrSF',\n",
       " 'LowQualFinSF',\n",
       " 'GrLivArea',\n",
       " 'BsmtFullBath',\n",
       " 'FullBath',\n",
       " 'HalfBath',\n",
       " 'BedroomAbvGr',\n",
       " 'KitchenAbvGr',\n",
       " 'TotRmsAbvGrd',\n",
       " 'Fireplaces',\n",
       " 'GarageYrBlt',\n",
       " 'GarageCars',\n",
       " 'GarageArea',\n",
       " 'WoodDeckSF',\n",
       " 'OpenPorchSF',\n",
       " 'EnclosedPorch',\n",
       " '3SsnPorch',\n",
       " 'ScreenPorch',\n",
       " 'PoolArea',\n",
       " 'MiscVal',\n",
       " 'MoSold',\n",
       " 'YrSold']"
      ]
     },
     "execution_count": 8,
     "metadata": {},
     "output_type": "execute_result"
    }
   ],
   "source": [
    "NoSpecificValfeatures"
   ]
  },
  {
   "cell_type": "code",
   "execution_count": 9,
   "metadata": {},
   "outputs": [
    {
     "data": {
      "image/png": "[encoded data removed]",
      "text/plain": [
       "<matplotlib.figure.Figure at 0x7f15f2063be0>"
      ]
     },
     "metadata": {},
     "output_type": "display_data"
    },
    {
     "data": {
      "image/png": "[encoded data removed]",
      "text/plain": [
       "<matplotlib.figure.Figure at 0x7f15abd48e48>"
      ]
     },
     "metadata": {},
     "output_type": "display_data"
    }
   ],
   "source": [
    "pdTrainData.boxplot(column=[\"SalePrice\"])\n",
    "plt.show()\n",
    "pdTrainData.boxplot(column=[\"LotArea\"])\n",
    "plt.show()"
   ]
  },
  {
   "cell_type": "code",
   "execution_count": 10,
   "metadata": {},
   "outputs": [
    {
     "data": {
      "image/png": "[encoded data removed]",
      "text/plain": [
       "<matplotlib.figure.Figure at 0x7f15b4288e10>"
      ]
     },
     "metadata": {},
     "output_type": "display_data"
    },
    {
     "name": "stdout",
     "output_type": "stream",
     "text": [
      "Number of unvalid sample with a sale price <= 0: 0\n"
     ]
    },
    {
     "data": {
      "image/png": "[encoded data removed]",
      "text/plain": [
       "<matplotlib.figure.Figure at 0x7f15abc9c710>"
      ]
     },
     "metadata": {},
     "output_type": "display_data"
    }
   ],
   "source": [
    "salePrices = pdTrainData.SalePrice.tolist()\n",
    "plt.hist(salePrices, bins='auto', density=True, cumulative=False)\n",
    "plt.title(\"Repartion of sale price in the training Data\")\n",
    "\n",
    "plt.show()\n",
    "print(\"Number of unvalid sample with a sale price <= 0:\",pdTrainData.SalePrice[pdTrainData.SalePrice<=0].count())\n",
    "\n",
    "plt.boxplot(salePrices, vert=False)\n",
    "plt.show()"
   ]
  },
  {
   "cell_type": "code",
   "execution_count": 11,
   "metadata": {},
   "outputs": [
    {
     "data": {
      "image/png": "[encoded data removed]",
      "text/plain": [
       "<matplotlib.figure.Figure at 0x7f15b4288400>"
      ]
     },
     "metadata": {},
     "output_type": "display_data"
    }
   ],
   "source": [
    "plt.scatter(pdTrainData.LotArea, pdTrainData.SalePrice, alpha=0.2)\n",
    "plt.xlabel(\"LotArea\")\n",
    "plt.ylabel(\"SalePrice\")\n",
    "plt.show()"
   ]
  },
  {
   "cell_type": "code",
   "execution_count": 12,
   "metadata": {},
   "outputs": [
    {
     "data": {
      "text/plain": [
       "946"
      ]
     },
     "execution_count": 12,
     "metadata": {},
     "output_type": "execute_result"
    }
   ],
   "source": [
    "pdTrainData[pdTrainData.MSZoning == 'RL'].Id.count()"
   ]
  },
  {
   "cell_type": "code",
   "execution_count": 13,
   "metadata": {},
   "outputs": [
    {
     "name": "stdout",
     "output_type": "stream",
     "text": [
      "A : 0\n",
      "C : 0\n",
      "FV : 55\n",
      "I : 0\n",
      "RH : 12\n",
      "RL : 946\n",
      "RP : 0\n",
      "RM : 178\n"
     ]
    },
    {
     "data": {
      "image/png": "[encoded data removed]",
      "text/plain": [
       "<matplotlib.figure.Figure at 0x7f15abbf2eb8>"
      ]
     },
     "metadata": {},
     "output_type": "display_data"
    }
   ],
   "source": [
    "value='RL'\n",
    "\n",
    "for MSZoningValue in SpecificVal['MSZoning']:\n",
    "    pdTrainData_MSZoningValue = pdTrainData[pdTrainData.MSZoning == MSZoningValue]\n",
    "    print(MSZoningValue,':',pdTrainData[pdTrainData.MSZoning == MSZoningValue].Id.count())\n",
    "    \n",
    "    if MSZoningValue==value: alpha = 0.5\n",
    "    else: alpha = 0\n",
    "        \n",
    "    plt.scatter(pdTrainData_MSZoningValue.LotArea, pdTrainData_MSZoningValue.SalePrice, alpha=alpha, label=MSZoningValue)\n",
    "plt.xlabel(\"LotArea\")\n",
    "plt.ylabel(\"SalePrice\")\n",
    "plt.legend()\n",
    "plt.show()\n",
    "\n",
    "#matplotlib.animation avec une update function"
   ]
  },
  {
   "cell_type": "code",
   "execution_count": 14,
   "metadata": {},
   "outputs": [
    {
     "name": "stdout",
     "output_type": "stream",
     "text": [
      "rm: cannot remove ‘temp/*.gif’: No such file or directory\n",
      "/bin/sh: 1: convert: not found\n",
      "OK\n"
     ]
    }
   ],
   "source": [
    "import seaborn as sns\n",
    "sns.set()\n",
    "sns.set_style({'legend.frameon':True})\n",
    "for specVal in SpecificVal['MSZoning']:\n",
    "    plt.figure(figsize=(12,8))\n",
    "    plt.subplots_adjust(left = .1)\n",
    "    plt.scatter(pdTrainData.LotArea,pdTrainData.SalePrice,linewidth=0.5,facecolor='w',alpha =0.2,edgecolor='k')\n",
    "    for MSZoningValue in SpecificVal['MSZoning']:\n",
    "        pdTrainData_MSZoningValue = pdTrainData[pdTrainData.MSZoning == MSZoningValue]\n",
    "        \n",
    "        if MSZoningValue==specVal: alpha = 0.7\n",
    "        else: alpha = 0\n",
    "            \n",
    "        plt.scatter(pdTrainData_MSZoningValue.LotArea, pdTrainData_MSZoningValue.SalePrice, alpha=alpha, label=MSZoningValue)\n",
    "        \n",
    "    plt.xlabel(\"LotArea\")\n",
    "    ylbl = plt.ylabel(\"SalePrice\")\n",
    "    lgd = plt.legend()\n",
    "    filename='temp/step'+str(specVal)+'.png'\n",
    "    plt.savefig(filename)\n",
    "    plt.clf()\n",
    "    plt.close()\n",
    "    #plt.gca()\n",
    "!rm temp/*.gif\n",
    "!convert -delay 100 temp/*.png temp/animated_scatter.gif\n",
    "!rm temp/*.png\n",
    "print(\"OK\")"
   ]
  },
  {
   "cell_type": "code",
   "execution_count": 15,
   "metadata": {},
   "outputs": [
    {
     "data": {
      "text/html": [
       "<img src=\"temp/animated_scatter.gif\">"
      ],
      "text/plain": [
       "<IPython.core.display.HTML object>"
      ]
     },
     "execution_count": 15,
     "metadata": {},
     "output_type": "execute_result"
    }
   ],
   "source": [
    "HTML('<img src=\"temp/animated_scatter.gif\">') # style=\"width:700px;height:500px\">')"
   ]
  },
  {
   "cell_type": "markdown",
   "metadata": {},
   "source": [
    "### Sale Price versus Area Price"
   ]
  },
  {
   "cell_type": "code",
   "execution_count": 16,
   "metadata": {},
   "outputs": [],
   "source": [
    "#Neighborhood 89\n",
    "#NextCategory 117\n",
    "\n",
    "dicStreetName = {} # Abbreviation : Street name\n",
    "dicStreetLoc = {} # Abbreviation : location returned by geocoder\n",
    "for index in range(92,117):\n",
    "    line = txtDescripData[index]\n",
    "    line = line.strip()\n",
    "    line = line.split('\\t')\n",
    "    dicStreetName[line[0]]= line[1][:-1]\n",
    "    dicStreetLoc[line[0]] = geocoder.google(line[1][:-1]+', Ames')"
   ]
  },
  {
   "cell_type": "code",
   "execution_count": 17,
   "metadata": {},
   "outputs": [
    {
     "name": "stdout",
     "output_type": "stream",
     "text": [
      "{'CollgCr': 20.43893739265472, 'Veenker': 15.133918143832238, 'Crawfor': 16.92658934743337, 'NoRidge': 23.049928679388874, 'Mitchel': 14.23237526116939, 'Somerst': 29.55322320949371, 'NWAmes': 16.49992834611817, 'OldTown': 15.708946967813892, 'BrkSide': 16.910100475938656, 'Sawyer': 13.4242253219904, 'NridgHt': 28.8899788413152, 'NAmes': 14.189682044633944, 'SawyerW': 19.38387882154937, 'IDOTRR': 12.054208428802571, 'MeadowV': 41.25743415463042, 'Edwards': 12.843999136512851, 'Timber': 9.50119128123673, 'Gilbert': 17.19430711971769, 'StoneBr': 29.490541930638102, 'ClearCr': 6.732846177897465, 'NPkVill': 49.569387355646896, 'Blmngtn': 57.70382718760606, 'BrDale': 59.280813815945116, 'SWISU': 17.504403242359622, 'Blueste': 84.61538461538461}\n"
     ]
    }
   ],
   "source": [
    "cmapRdYlGn = cm.get_cmap('RdYlGn')\n",
    "def calcAreasPrices(pdDF):\n",
    "    \"\"\"\n",
    "    Returns dictionnaire = {\"Neigborhood\":areaPrice}\n",
    "    \n",
    "    \"\"\"\n",
    "    dicStreetPriceAreas={}\n",
    "    def calcAreaPrice(row):\n",
    "        neighborhood = row.Neighborhood\n",
    "        try:\n",
    "            dicStreetPriceAreas[neighborhood] #see if already defined\n",
    "        except KeyError:\n",
    "            dicStreetPriceAreas[neighborhood]=[0,0,0]\n",
    "        dicStreetPriceAreas[neighborhood][0]+=row.SalePrice\n",
    "        dicStreetPriceAreas[neighborhood][1]+=row.LotArea\n",
    "    none = pdTrainData.apply(calcAreaPrice,axis=1) #fill the dictionnary\n",
    "    for place in dicStreetPriceAreas:\n",
    "        areaPrice = dicStreetPriceAreas[place][0]/dicStreetPriceAreas[place][1]\n",
    "        dicStreetPriceAreas[place] = areaPrice\n",
    "    return dicStreetPriceAreas\n",
    "    #print(dicStreetPriceAreas[neighborhood])\n",
    "dicStreetPriceAreas = calcAreasPrices(pdTrainData)\n",
    "print(dicStreetPriceAreas)"
   ]
  },
  {
   "cell_type": "code",
   "execution_count": 18,
   "metadata": {},
   "outputs": [
    {
     "data": {
      "image/png": "[encoded data removed]",
      "text/plain": [
       "<matplotlib.figure.Figure at 0x7f15aa626c88>"
      ]
     },
     "metadata": {},
     "output_type": "display_data"
    }
   ],
   "source": [
    "areaPrices = calcAreasPrices(pdTrainData).values()\n",
    "hist = plt.hist(areaPrices,cumulative=True,normed=True)\n",
    "plt.show()"
   ]
  },
  {
   "cell_type": "code",
   "execution_count": 19,
   "metadata": {},
   "outputs": [
    {
     "data": {
      "image/png": "[encoded data removed]",
      "text/plain": [
       "<matplotlib.figure.Figure at 0x7f15ab1e6630>"
      ]
     },
     "metadata": {},
     "output_type": "display_data"
    },
    {
     "name": "stdout",
     "output_type": "stream",
     "text": [
      "Area Price around Ames\n"
     ]
    },
    {
     "data": {
      "application/vnd.jupyter.widget-view+json": {
       "model_id": "4459e0f967f34583b79bea9df18830cd",
       "version_major": 2,
       "version_minor": 0
      },
      "text/plain": [
       "Map(basemap={'url': 'https://{s}.tile.openstreetmap.org/{z}/{x}/{y}.png', 'max_zoom': 19, 'attribution': 'Map …"
      ]
     },
     "metadata": {},
     "output_type": "display_data"
    }
   ],
   "source": [
    "markersList = []\n",
    "for place in dicStreetPriceAreas:\n",
    "    coordGeo = dicStreetLoc[place]\n",
    "    areaPrice = dicStreetPriceAreas[place]\n",
    "    try:\n",
    "        lastLowerValuesIndex = list(map(lambda x: x<= areaPrice,hist[1])).index(False)-1\n",
    "    except ValueError:\n",
    "        lastLowerValuesIndex = len(hist[0])-1\n",
    "    #print(lastLowerValuesIndex)\n",
    "    colorfloat = hist[0][lastLowerValuesIndex] #Use the cumulative hist to get the color\n",
    "    #colorfloat = (-minAreaPrice)/(maxAreaPrice-minAreaPrice)\n",
    "\n",
    "    #print(dicStreetPirceArea[place][2],colorfloat)\n",
    "    markerColor = colors.rgb2hex(cmapRdYlGn(1-colorfloat))#green to red\n",
    "    marker = CircleMarker(location=(coordGeo.lat, coordGeo.lng), radius=10, color=markerColor, fill_color=markerColor)\n",
    "    markersList.append(marker)\n",
    "\n",
    "g = geocoder.google('Ames')\n",
    "m = Map(center=[g.lat, g.lng], zoom=11)\n",
    "\n",
    "markersList = [x for x in markersList if x!=None]\n",
    "group = LayerGroup(layers=markersList)\n",
    "\n",
    "#PLot color bar\n",
    "fig,ax = fig, ax = plt.subplots(figsize=(19,1))\n",
    "plt.title(\"Color with respect to area price\")\n",
    "minPriceArea,maxPriceArea = 7,90\n",
    "for areaPrice in np.arange(minPriceArea,maxPriceArea,1):\n",
    "    try:\n",
    "        lastLowerValuesIndex = list(map(lambda x: x<= areaPrice,hist[1])).index(False)-1\n",
    "    except ValueError:\n",
    "        lastLowerValuesIndex = len(hist[0])-1\n",
    "    #print(lastLowerValuesIndex)\n",
    "    colorfloat = hist[0][lastLowerValuesIndex] #Use the cumulative hist to get the color\n",
    "    plt.scatter(areaPrice,0,c = cmapRdYlGn(1-colorfloat),s=1000)\n",
    "plt.setp( ax.get_yticklabels(), visible=False)\n",
    "ax.yaxis.set_ticks_position('none') \n",
    "plt.show()\n",
    "\n",
    "m.add_layer(group)\n",
    "print(\"Area Price around Ames\")\n",
    "m\n",
    "\n"
   ]
  },
  {
   "cell_type": "markdown",
   "metadata": {},
   "source": [
    "## Data cleaning and pre-processing"
   ]
  },
  {
   "cell_type": "code",
   "execution_count": 20,
   "metadata": {},
   "outputs": [
    {
     "ename": "FileNotFoundError",
     "evalue": "[Errno 2] No such file or directory: './challenge_data/Bad_Description.rtf'",
     "output_type": "error",
     "traceback": [
      "\u001b[0;31m---------------------------------------------------------------------------\u001b[0m",
      "\u001b[0;31mFileNotFoundError\u001b[0m                         Traceback (most recent call last)",
      "\u001b[0;32m<ipython-input-20-b43ea253f6d5>\u001b[0m in \u001b[0;36m<module>\u001b[0;34m()\u001b[0m\n\u001b[1;32m      1\u001b[0m \u001b[0mpathBadDescr\u001b[0m \u001b[0;34m=\u001b[0m \u001b[0;34m(\u001b[0m\u001b[0mchallenge_data_folder\u001b[0m\u001b[0;34m+\u001b[0m\u001b[0;34m\"/Bad_Description.rtf\"\u001b[0m\u001b[0;34m)\u001b[0m\u001b[0;34m\u001b[0m\u001b[0m\n\u001b[0;32m----> 2\u001b[0;31m \u001b[0mtxtBadDescripData\u001b[0m \u001b[0;34m=\u001b[0m \u001b[0mopen\u001b[0m\u001b[0;34m(\u001b[0m\u001b[0mpathBadDescr\u001b[0m\u001b[0;34m)\u001b[0m\u001b[0;34m.\u001b[0m\u001b[0mreadlines\u001b[0m\u001b[0;34m(\u001b[0m\u001b[0;34m)\u001b[0m\u001b[0;34m\u001b[0m\u001b[0m\n\u001b[0m",
      "\u001b[0;31mFileNotFoundError\u001b[0m: [Errno 2] No such file or directory: './challenge_data/Bad_Description.rtf'"
     ]
    }
   ],
   "source": [
    "pathBadDescr = (challenge_data_folder+\"/Bad_Description.rtf\")\n",
    "txtBadDescripData = open(pathBadDescr).readlines()"
   ]
  },
  {
   "cell_type": "code",
   "execution_count": 21,
   "metadata": {},
   "outputs": [
    {
     "data": {
      "text/plain": [
       "[['MSZoning', {'C (all)': 9}],\n",
       " ['Neighborhood', {'NAmes': 179}],\n",
       " ['BldgType', {'2fmCon': 28, 'Duplex': 41, 'Twnhs': 37}],\n",
       " ['Exterior2nd', {'Brk Cmn': 7, 'CmentBd': 49, 'Wd Shng': 29}],\n",
       " ['MasVnrType', {'NA': 6}]]"
      ]
     },
     "execution_count": 21,
     "metadata": {},
     "output_type": "execute_result"
    }
   ],
   "source": [
    "#Cleaning the data with original data description file:\n",
    "\n",
    "columnValuesBad={}\n",
    "columnIndexBad=[]\n",
    "nbHeader = 7\n",
    "NoHeaderTxtBadDescripData = txtBadDescripData[nbHeader:]\n",
    "for feature in columnNames:\n",
    "    if feature == 'Id': continue\n",
    "    for index,line in enumerate(NoHeaderTxtBadDescripData):\n",
    "        if feature in line:\n",
    "            if(line.split(feature)[0]=='') :\n",
    "                columnIndexBad.append((feature,index))\n",
    "            pass\n",
    "NoSpecificValfeaturesBad = []\n",
    "SpecificValBad = {} #Will contain as keys column names and values the specified values in the description file\n",
    "\n",
    "for index,featureLine in enumerate(columnIndexBad):\n",
    "    startLine= featureLine[1]+2\n",
    "    if index == len(columnIndexBad)-1: endLine = len(NoHeaderTxtBadDescripData)-1\n",
    "    else: endLine = columnIndexBad[index+1][1]-1\n",
    "    values = []\n",
    "    if endLine <= startLine: #No specified value in the description file\n",
    "        NoSpecificValfeaturesBad.append(featureLine[0])\n",
    "        continue\n",
    "    for i in range(startLine,endLine):\n",
    "        line =NoHeaderTxtBadDescripData[i] \n",
    "        values.append(line.split('\\t')[0].strip())\n",
    "    SpecificValBad[featureLine[0]]=values\n",
    "    \n",
    "dicBadValuesBad = []\n",
    "for factor in SpecificValBad:\n",
    "    #For a factor search for any value not specified in the description file \n",
    "    \n",
    "    typeCol = columnTypesDict[factor]\n",
    "    if typeCol == 'int64': valSpec = [int(i) for i in SpecificValBad[factor]]\n",
    "    else: valSpec = SpecificValBad[factor]\n",
    "    pdInter = pdTrainData.apply(lambda x: x[factor] not in valSpec,axis=1)\n",
    "    potentialBadValues = pdTrainData[pdTrainData.apply(lambda x: x[factor] not in valSpec,axis=1)]\n",
    "    nbBadVal = len(potentialBadValues)\n",
    "    if nbBadVal>0:\n",
    "        badValues = [factor]\n",
    "        badValues.append(potentialBadValues.groupby(factor)[factor].count().to_dict())\n",
    "        dicBadValuesBad.append(badValues)\n",
    "dicBadValuesBad\n"
   ]
  },
  {
   "cell_type": "markdown",
   "metadata": {},
   "source": [
    "Errors: <br>\n",
    "Bedroom instead of BedroomAbvGr<br>\n",
    "Kitchen instead of KitchenAbvGr<br>"
   ]
  },
  {
   "cell_type": "code",
   "execution_count": 47,
   "metadata": {},
   "outputs": [
    {
     "data": {
      "text/plain": [
       "[['MSZoning', {'C (all)': 9}],\n",
       " ['BldgType', {'Twnhs': 37}],\n",
       " ['MasVnrType', {'NA': 6}]]"
      ]
     },
     "execution_count": 47,
     "metadata": {},
     "output_type": "execute_result"
    }
   ],
   "source": [
    "#Cleaning the data with fixed description file\n",
    "\n",
    "#Retrieve Bad values  for the columns with specified values\n",
    "dicBadValues = []\n",
    "for factor in SpecificVal:\n",
    "    \n",
    "    #For a factor search for any value not specified in the description file \n",
    "    #In terms of type of valu\n",
    "    \n",
    "    typeCol = columnTypesDict[factor]\n",
    "    if typeCol == 'int64': valSpec = [int(i) for i in SpecificVal[factor]]\n",
    "    else: valSpec = SpecificVal[factor]\n",
    "    pdInter = pdTrainData.apply(lambda x: x[factor] not in valSpec,axis=1)\n",
    "    potentialBadValues = pdTrainData[pdTrainData.apply(lambda x: x[factor] not in valSpec,axis=1)]\n",
    "    nbBadVal = len(potentialBadValues)\n",
    "    \n",
    "    if nbBadVal>0:\n",
    "        badValues = [factor]\n",
    "        badValues.append(potentialBadValues.groupby(factor)[factor].count().to_dict())\n",
    "        dicBadValues.append(badValues)\n",
    "dicBadValues"
   ]
  },
  {
   "cell_type": "code",
   "execution_count": 49,
   "metadata": {},
   "outputs": [
    {
     "data": {
      "text/plain": [
       "[['MSZoning', {'C (all)': 9}],\n",
       " ['BldgType', {'Twnhs': 37}],\n",
       " ['MasVnrType', {'NA': 6}],\n",
       " ['LotFrontage', {'NA': 210}],\n",
       " ['MasVnrArea', {'NA': 6}],\n",
       " ['GarageYrBlt', {'NA': 67}]]"
      ]
     },
     "execution_count": 49,
     "metadata": {},
     "output_type": "execute_result"
    }
   ],
   "source": [
    "#Retrieve Bad values for the columns with not specified values such as year of construction of \n",
    "\n",
    "for feature in NoSpecificValfeatures:\n",
    "    dtypeColumn = columnTypesDict[feature]\n",
    "    if dtypeColumn=='float64': typeFun = float\n",
    "    elif dtypeColumn=='int64': typeFun = int\n",
    "    pdInter = pdTrainData[pdTrainData.apply(lambda x: x[feature]=='NA',axis=1)]\n",
    "    if len(pdInter)>0:\n",
    "        badValues=[feature]\n",
    "        badValues.append(pdInter.groupby(feature)[feature].count().to_dict())\n",
    "        dicBadValues.append(badValues)\n",
    "dicBadValues"
   ]
  },
  {
   "cell_type": "code",
   "execution_count": 30,
   "metadata": {},
   "outputs": [
    {
     "name": "stdout",
     "output_type": "stream",
     "text": [
      "When GarageYrBlt = NA, GarageYearType has values  {'NA'}\n",
      "When MasVnrArea = NA, MasVnrArea has values {'NA'}\n"
     ]
    }
   ],
   "source": [
    "print('When GarageYrBlt = NA, GarageYearType has values ',set(pdTrainData[pdTrainData.apply(lambda x: x.GarageYrBlt=='NA',axis=1)].GarageType.values))\n",
    "print('When MasVnrArea = NA, MasVnrArea has values',set(pdTrainData[pdTrainData.apply(lambda x: x.MasVnrArea=='NA',axis=1)].MasVnrType.values))"
   ]
  },
  {
   "cell_type": "markdown",
   "metadata": {},
   "source": [
    "# Comment\n",
    "<div class='alert alert-warning'>\n",
    "Fixed some errors but some persist <br>\n",
    "<li>C(all)</li>\n",
    "<li>Twnhs</li>\n",
    "Have no direct typo or wrintings<br>\n",
    "Otherwise the other NA values can be explained by other specified values. The two cases above state that when a property has no garage, the year the garage has been built is not available and no MasVnrType implies no MasVnrArea which is reasonable but important to take into account.<br>\n",
    "\n",
    "\n",
    "</div>"
   ]
  },
  {
   "cell_type": "markdown",
   "metadata": {},
   "source": [
    "## Defining a modeling approach to the problem"
   ]
  },
  {
   "cell_type": "markdown",
   "metadata": {},
   "source": [
    "### A very simple model\n",
    "\n",
    "The first step is to begin with a really simple model, in order to have first results and write functions to retrieve the data and write the results in the right format. The goal is also to write functions to evaluate the results and test it.\n",
    "<br>\n",
    "The first model we will do doesn't take care of \"NaN\" (=unknown) values because we will only use the lotArea and the neighborhood.\n",
    "<br>\n",
    "The idea is to retrieve the mean price per $m^2$ for each neighborhood, and then calculate the price thanks to the lotArea."
   ]
  },
  {
   "cell_type": "code",
   "execution_count": 21,
   "metadata": {},
   "outputs": [],
   "source": [
    "print(dicStreetPriceAreas)"
   ]
  },
  {
   "cell_type": "code",
   "execution_count": 22,
   "metadata": {
    "slideshow": {
     "slide_type": "-"
    }
   },
   "outputs": [],
   "source": [
    "pdTData = pd.read_csv(challenge_data_folder+\"/train.csv\")"
   ]
  },
  {
   "cell_type": "code",
   "execution_count": 23,
   "metadata": {},
   "outputs": [
    {
     "data": {
      "text/html": [
       "<div>\n",
       "<style scoped>\n",
       "    .dataframe tbody tr th:only-of-type {\n",
       "        vertical-align: middle;\n",
       "    }\n",
       "\n",
       "    .dataframe tbody tr th {\n",
       "        vertical-align: top;\n",
       "    }\n",
       "\n",
       "    .dataframe thead th {\n",
       "        text-align: right;\n",
       "    }\n",
       "</style>\n",
       "<table border=\"1\" class=\"dataframe\">\n",
       "  <thead>\n",
       "    <tr style=\"text-align: right;\">\n",
       "      <th></th>\n",
       "      <th>Id</th>\n",
       "      <th>MSSubClass</th>\n",
       "      <th>LotFrontage</th>\n",
       "      <th>LotArea</th>\n",
       "      <th>OverallQual</th>\n",
       "      <th>OverallCond</th>\n",
       "      <th>YearBuilt</th>\n",
       "      <th>YearRemodAdd</th>\n",
       "      <th>MasVnrArea</th>\n",
       "      <th>BsmtFinSF1</th>\n",
       "      <th>...</th>\n",
       "      <th>WoodDeckSF</th>\n",
       "      <th>OpenPorchSF</th>\n",
       "      <th>EnclosedPorch</th>\n",
       "      <th>3SsnPorch</th>\n",
       "      <th>ScreenPorch</th>\n",
       "      <th>PoolArea</th>\n",
       "      <th>MiscVal</th>\n",
       "      <th>MoSold</th>\n",
       "      <th>YrSold</th>\n",
       "      <th>SalePrice</th>\n",
       "    </tr>\n",
       "  </thead>\n",
       "  <tbody>\n",
       "    <tr>\n",
       "      <th>count</th>\n",
       "      <td>1200.000000</td>\n",
       "      <td>1200.000000</td>\n",
       "      <td>990.000000</td>\n",
       "      <td>1200.000000</td>\n",
       "      <td>1200.000000</td>\n",
       "      <td>1200.000000</td>\n",
       "      <td>1200.000000</td>\n",
       "      <td>1200.000000</td>\n",
       "      <td>1194.000000</td>\n",
       "      <td>1200.000000</td>\n",
       "      <td>...</td>\n",
       "      <td>1200.000000</td>\n",
       "      <td>1200.000000</td>\n",
       "      <td>1200.000000</td>\n",
       "      <td>1200.000000</td>\n",
       "      <td>1200.000000</td>\n",
       "      <td>1200.000000</td>\n",
       "      <td>1200.000000</td>\n",
       "      <td>1200.000000</td>\n",
       "      <td>1200.000000</td>\n",
       "      <td>1200.000000</td>\n",
       "    </tr>\n",
       "    <tr>\n",
       "      <th>mean</th>\n",
       "      <td>600.500000</td>\n",
       "      <td>57.075000</td>\n",
       "      <td>70.086869</td>\n",
       "      <td>10559.411667</td>\n",
       "      <td>6.105000</td>\n",
       "      <td>5.568333</td>\n",
       "      <td>1971.350833</td>\n",
       "      <td>1984.987500</td>\n",
       "      <td>103.962312</td>\n",
       "      <td>444.886667</td>\n",
       "      <td>...</td>\n",
       "      <td>95.136667</td>\n",
       "      <td>46.016667</td>\n",
       "      <td>22.178333</td>\n",
       "      <td>3.653333</td>\n",
       "      <td>14.980833</td>\n",
       "      <td>1.909167</td>\n",
       "      <td>40.453333</td>\n",
       "      <td>6.311667</td>\n",
       "      <td>2007.810833</td>\n",
       "      <td>181414.628333</td>\n",
       "    </tr>\n",
       "    <tr>\n",
       "      <th>std</th>\n",
       "      <td>346.554469</td>\n",
       "      <td>42.682012</td>\n",
       "      <td>23.702029</td>\n",
       "      <td>10619.135549</td>\n",
       "      <td>1.383439</td>\n",
       "      <td>1.120138</td>\n",
       "      <td>30.048408</td>\n",
       "      <td>20.527221</td>\n",
       "      <td>183.534953</td>\n",
       "      <td>439.987844</td>\n",
       "      <td>...</td>\n",
       "      <td>124.034129</td>\n",
       "      <td>65.677629</td>\n",
       "      <td>61.507323</td>\n",
       "      <td>29.991099</td>\n",
       "      <td>54.768057</td>\n",
       "      <td>33.148327</td>\n",
       "      <td>482.323444</td>\n",
       "      <td>2.673104</td>\n",
       "      <td>1.319027</td>\n",
       "      <td>81070.908544</td>\n",
       "    </tr>\n",
       "    <tr>\n",
       "      <th>min</th>\n",
       "      <td>1.000000</td>\n",
       "      <td>20.000000</td>\n",
       "      <td>21.000000</td>\n",
       "      <td>1300.000000</td>\n",
       "      <td>1.000000</td>\n",
       "      <td>1.000000</td>\n",
       "      <td>1875.000000</td>\n",
       "      <td>1950.000000</td>\n",
       "      <td>0.000000</td>\n",
       "      <td>0.000000</td>\n",
       "      <td>...</td>\n",
       "      <td>0.000000</td>\n",
       "      <td>0.000000</td>\n",
       "      <td>0.000000</td>\n",
       "      <td>0.000000</td>\n",
       "      <td>0.000000</td>\n",
       "      <td>0.000000</td>\n",
       "      <td>0.000000</td>\n",
       "      <td>1.000000</td>\n",
       "      <td>2006.000000</td>\n",
       "      <td>34900.000000</td>\n",
       "    </tr>\n",
       "    <tr>\n",
       "      <th>25%</th>\n",
       "      <td>300.750000</td>\n",
       "      <td>20.000000</td>\n",
       "      <td>59.000000</td>\n",
       "      <td>7560.000000</td>\n",
       "      <td>5.000000</td>\n",
       "      <td>5.000000</td>\n",
       "      <td>1954.000000</td>\n",
       "      <td>1967.000000</td>\n",
       "      <td>0.000000</td>\n",
       "      <td>0.000000</td>\n",
       "      <td>...</td>\n",
       "      <td>0.000000</td>\n",
       "      <td>0.000000</td>\n",
       "      <td>0.000000</td>\n",
       "      <td>0.000000</td>\n",
       "      <td>0.000000</td>\n",
       "      <td>0.000000</td>\n",
       "      <td>0.000000</td>\n",
       "      <td>5.000000</td>\n",
       "      <td>2007.000000</td>\n",
       "      <td>129900.000000</td>\n",
       "    </tr>\n",
       "    <tr>\n",
       "      <th>50%</th>\n",
       "      <td>600.500000</td>\n",
       "      <td>50.000000</td>\n",
       "      <td>70.000000</td>\n",
       "      <td>9434.500000</td>\n",
       "      <td>6.000000</td>\n",
       "      <td>5.000000</td>\n",
       "      <td>1973.000000</td>\n",
       "      <td>1994.000000</td>\n",
       "      <td>0.000000</td>\n",
       "      <td>385.500000</td>\n",
       "      <td>...</td>\n",
       "      <td>0.000000</td>\n",
       "      <td>24.000000</td>\n",
       "      <td>0.000000</td>\n",
       "      <td>0.000000</td>\n",
       "      <td>0.000000</td>\n",
       "      <td>0.000000</td>\n",
       "      <td>0.000000</td>\n",
       "      <td>6.000000</td>\n",
       "      <td>2008.000000</td>\n",
       "      <td>163700.000000</td>\n",
       "    </tr>\n",
       "    <tr>\n",
       "      <th>75%</th>\n",
       "      <td>900.250000</td>\n",
       "      <td>70.000000</td>\n",
       "      <td>80.000000</td>\n",
       "      <td>11616.000000</td>\n",
       "      <td>7.000000</td>\n",
       "      <td>6.000000</td>\n",
       "      <td>2000.000000</td>\n",
       "      <td>2004.000000</td>\n",
       "      <td>166.750000</td>\n",
       "      <td>712.250000</td>\n",
       "      <td>...</td>\n",
       "      <td>168.000000</td>\n",
       "      <td>68.000000</td>\n",
       "      <td>0.000000</td>\n",
       "      <td>0.000000</td>\n",
       "      <td>0.000000</td>\n",
       "      <td>0.000000</td>\n",
       "      <td>0.000000</td>\n",
       "      <td>8.000000</td>\n",
       "      <td>2009.000000</td>\n",
       "      <td>214000.000000</td>\n",
       "    </tr>\n",
       "    <tr>\n",
       "      <th>max</th>\n",
       "      <td>1200.000000</td>\n",
       "      <td>190.000000</td>\n",
       "      <td>313.000000</td>\n",
       "      <td>215245.000000</td>\n",
       "      <td>10.000000</td>\n",
       "      <td>9.000000</td>\n",
       "      <td>2010.000000</td>\n",
       "      <td>2010.000000</td>\n",
       "      <td>1600.000000</td>\n",
       "      <td>2260.000000</td>\n",
       "      <td>...</td>\n",
       "      <td>857.000000</td>\n",
       "      <td>523.000000</td>\n",
       "      <td>552.000000</td>\n",
       "      <td>508.000000</td>\n",
       "      <td>410.000000</td>\n",
       "      <td>648.000000</td>\n",
       "      <td>15500.000000</td>\n",
       "      <td>12.000000</td>\n",
       "      <td>2010.000000</td>\n",
       "      <td>755000.000000</td>\n",
       "    </tr>\n",
       "  </tbody>\n",
       "</table>\n",
       "<p>8 rows × 38 columns</p>\n",
       "</div>"
      ],
      "text/plain": [
       "                Id   MSSubClass  LotFrontage        LotArea  OverallQual  \\\n",
       "count  1200.000000  1200.000000   990.000000    1200.000000  1200.000000   \n",
       "mean    600.500000    57.075000    70.086869   10559.411667     6.105000   \n",
       "std     346.554469    42.682012    23.702029   10619.135549     1.383439   \n",
       "min       1.000000    20.000000    21.000000    1300.000000     1.000000   \n",
       "25%     300.750000    20.000000    59.000000    7560.000000     5.000000   \n",
       "50%     600.500000    50.000000    70.000000    9434.500000     6.000000   \n",
       "75%     900.250000    70.000000    80.000000   11616.000000     7.000000   \n",
       "max    1200.000000   190.000000   313.000000  215245.000000    10.000000   \n",
       "\n",
       "       OverallCond    YearBuilt  YearRemodAdd   MasVnrArea   BsmtFinSF1  \\\n",
       "count  1200.000000  1200.000000   1200.000000  1194.000000  1200.000000   \n",
       "mean      5.568333  1971.350833   1984.987500   103.962312   444.886667   \n",
       "std       1.120138    30.048408     20.527221   183.534953   439.987844   \n",
       "min       1.000000  1875.000000   1950.000000     0.000000     0.000000   \n",
       "25%       5.000000  1954.000000   1967.000000     0.000000     0.000000   \n",
       "50%       5.000000  1973.000000   1994.000000     0.000000   385.500000   \n",
       "75%       6.000000  2000.000000   2004.000000   166.750000   712.250000   \n",
       "max       9.000000  2010.000000   2010.000000  1600.000000  2260.000000   \n",
       "\n",
       "           ...         WoodDeckSF  OpenPorchSF  EnclosedPorch    3SsnPorch  \\\n",
       "count      ...        1200.000000  1200.000000    1200.000000  1200.000000   \n",
       "mean       ...          95.136667    46.016667      22.178333     3.653333   \n",
       "std        ...         124.034129    65.677629      61.507323    29.991099   \n",
       "min        ...           0.000000     0.000000       0.000000     0.000000   \n",
       "25%        ...           0.000000     0.000000       0.000000     0.000000   \n",
       "50%        ...           0.000000    24.000000       0.000000     0.000000   \n",
       "75%        ...         168.000000    68.000000       0.000000     0.000000   \n",
       "max        ...         857.000000   523.000000     552.000000   508.000000   \n",
       "\n",
       "       ScreenPorch     PoolArea       MiscVal       MoSold       YrSold  \\\n",
       "count  1200.000000  1200.000000   1200.000000  1200.000000  1200.000000   \n",
       "mean     14.980833     1.909167     40.453333     6.311667  2007.810833   \n",
       "std      54.768057    33.148327    482.323444     2.673104     1.319027   \n",
       "min       0.000000     0.000000      0.000000     1.000000  2006.000000   \n",
       "25%       0.000000     0.000000      0.000000     5.000000  2007.000000   \n",
       "50%       0.000000     0.000000      0.000000     6.000000  2008.000000   \n",
       "75%       0.000000     0.000000      0.000000     8.000000  2009.000000   \n",
       "max     410.000000   648.000000  15500.000000    12.000000  2010.000000   \n",
       "\n",
       "           SalePrice  \n",
       "count    1200.000000  \n",
       "mean   181414.628333  \n",
       "std     81070.908544  \n",
       "min     34900.000000  \n",
       "25%    129900.000000  \n",
       "50%    163700.000000  \n",
       "75%    214000.000000  \n",
       "max    755000.000000  \n",
       "\n",
       "[8 rows x 38 columns]"
      ]
     },
     "execution_count": 23,
     "metadata": {},
     "output_type": "execute_result"
    }
   ],
   "source": [
    "pdTData.describe()"
   ]
  },
  {
   "cell_type": "code",
   "execution_count": 25,
   "metadata": {},
   "outputs": [
    {
     "data": {
      "text/html": [
       "<div>\n",
       "<style scoped>\n",
       "    .dataframe tbody tr th:only-of-type {\n",
       "        vertical-align: middle;\n",
       "    }\n",
       "\n",
       "    .dataframe tbody tr th {\n",
       "        vertical-align: top;\n",
       "    }\n",
       "\n",
       "    .dataframe thead th {\n",
       "        text-align: right;\n",
       "    }\n",
       "</style>\n",
       "<table border=\"1\" class=\"dataframe\">\n",
       "  <thead>\n",
       "    <tr style=\"text-align: right;\">\n",
       "      <th></th>\n",
       "      <th>LotArea</th>\n",
       "    </tr>\n",
       "    <tr>\n",
       "      <th>Neighborhood</th>\n",
       "      <th></th>\n",
       "    </tr>\n",
       "  </thead>\n",
       "  <tbody>\n",
       "    <tr>\n",
       "      <th>Blmngtn</th>\n",
       "      <td>15</td>\n",
       "    </tr>\n",
       "    <tr>\n",
       "      <th>Blueste</th>\n",
       "      <td>2</td>\n",
       "    </tr>\n",
       "    <tr>\n",
       "      <th>BrDale</th>\n",
       "      <td>12</td>\n",
       "    </tr>\n",
       "    <tr>\n",
       "      <th>BrkSide</th>\n",
       "      <td>45</td>\n",
       "    </tr>\n",
       "    <tr>\n",
       "      <th>ClearCr</th>\n",
       "      <td>25</td>\n",
       "    </tr>\n",
       "    <tr>\n",
       "      <th>CollgCr</th>\n",
       "      <td>120</td>\n",
       "    </tr>\n",
       "    <tr>\n",
       "      <th>Crawfor</th>\n",
       "      <td>40</td>\n",
       "    </tr>\n",
       "    <tr>\n",
       "      <th>Edwards</th>\n",
       "      <td>81</td>\n",
       "    </tr>\n",
       "    <tr>\n",
       "      <th>Gilbert</th>\n",
       "      <td>67</td>\n",
       "    </tr>\n",
       "    <tr>\n",
       "      <th>IDOTRR</th>\n",
       "      <td>33</td>\n",
       "    </tr>\n",
       "    <tr>\n",
       "      <th>MeadowV</th>\n",
       "      <td>15</td>\n",
       "    </tr>\n",
       "    <tr>\n",
       "      <th>Mitchel</th>\n",
       "      <td>41</td>\n",
       "    </tr>\n",
       "    <tr>\n",
       "      <th>NAmes</th>\n",
       "      <td>179</td>\n",
       "    </tr>\n",
       "    <tr>\n",
       "      <th>NPkVill</th>\n",
       "      <td>7</td>\n",
       "    </tr>\n",
       "    <tr>\n",
       "      <th>NWAmes</th>\n",
       "      <td>55</td>\n",
       "    </tr>\n",
       "    <tr>\n",
       "      <th>NoRidge</th>\n",
       "      <td>32</td>\n",
       "    </tr>\n",
       "    <tr>\n",
       "      <th>NridgHt</th>\n",
       "      <td>68</td>\n",
       "    </tr>\n",
       "    <tr>\n",
       "      <th>OldTown</th>\n",
       "      <td>95</td>\n",
       "    </tr>\n",
       "    <tr>\n",
       "      <th>SWISU</th>\n",
       "      <td>20</td>\n",
       "    </tr>\n",
       "    <tr>\n",
       "      <th>Sawyer</th>\n",
       "      <td>66</td>\n",
       "    </tr>\n",
       "    <tr>\n",
       "      <th>SawyerW</th>\n",
       "      <td>51</td>\n",
       "    </tr>\n",
       "    <tr>\n",
       "      <th>Somerst</th>\n",
       "      <td>68</td>\n",
       "    </tr>\n",
       "    <tr>\n",
       "      <th>StoneBr</th>\n",
       "      <td>23</td>\n",
       "    </tr>\n",
       "    <tr>\n",
       "      <th>Timber</th>\n",
       "      <td>30</td>\n",
       "    </tr>\n",
       "    <tr>\n",
       "      <th>Veenker</th>\n",
       "      <td>10</td>\n",
       "    </tr>\n",
       "  </tbody>\n",
       "</table>\n",
       "</div>"
      ],
      "text/plain": [
       "              LotArea\n",
       "Neighborhood         \n",
       "Blmngtn            15\n",
       "Blueste             2\n",
       "BrDale             12\n",
       "BrkSide            45\n",
       "ClearCr            25\n",
       "CollgCr           120\n",
       "Crawfor            40\n",
       "Edwards            81\n",
       "Gilbert            67\n",
       "IDOTRR             33\n",
       "MeadowV            15\n",
       "Mitchel            41\n",
       "NAmes             179\n",
       "NPkVill             7\n",
       "NWAmes             55\n",
       "NoRidge            32\n",
       "NridgHt            68\n",
       "OldTown            95\n",
       "SWISU              20\n",
       "Sawyer             66\n",
       "SawyerW            51\n",
       "Somerst            68\n",
       "StoneBr            23\n",
       "Timber             30\n",
       "Veenker            10"
      ]
     },
     "execution_count": 25,
     "metadata": {},
     "output_type": "execute_result"
    }
   ],
   "source": [
    "pdTData[['Neighborhood','LotArea']].groupby('Neighborhood').count()"
   ]
  },
  {
   "cell_type": "code",
   "execution_count": 28,
   "metadata": {},
   "outputs": [
    {
     "data": {
      "text/plain": [
       "<matplotlib.image.AxesImage at 0x7f4f160a3550>"
      ]
     },
     "execution_count": 28,
     "metadata": {},
     "output_type": "execute_result"
    },
    {
     "data": {
      "image/png": "[encoded data removed]",
      "text/plain": [
       "<matplotlib.figure.Figure at 0x7f4f1778e390>"
      ]
     },
     "metadata": {},
     "output_type": "display_data"
    }
   ],
   "source": [
    "pdTData.cov()\n",
    "plt.matshow(pdTData.corr(),cmap=plt.cm.coolwarm)"
   ]
  },
  {
   "cell_type": "code",
   "execution_count": 32,
   "metadata": {},
   "outputs": [],
   "source": [
    "def getTrainValidationData(dataframe, ratioValidation=0.1, numberValidation = None):\n",
    "    \"\"\"\n",
    "    Random splitting into train and validation data, according to the ratio or the number given.\n",
    "    \n",
    "    trainData, validationData = getTrainValidationData(dataframe, ratioValidation=0.1)\n",
    "    \"\"\"\n",
    "    if numberValidation == None : numberValidation = int(ratioValidation*len(dataframe))\n",
    "    if numberValidation > len(dataframe) : numberValidation = len(dataframe)\n",
    "    if ratioValidation > 1 : ratioValidation = 1\n",
    "    if ratioValidation < 0 : rationValidation = 0\n",
    "        \n",
    "    nbSamples = len(dataframe)\n",
    "    \n",
    "    indicesValidation = np.random.choice(nbSamples, numberValidation, replace=False)\n",
    "    indicesTrain = np.setdiff1d(np.arange(nbSamples), indicesValidation)\n",
    "    \n",
    "    return dataframe[indicesTrain], dataframe[indicesValidation]"
   ]
  },
  {
   "cell_type": "code",
   "execution_count": 31,
   "metadata": {},
   "outputs": [
    {
     "ename": "NameError",
     "evalue": "name 'pdAllData' is not defined",
     "output_type": "error",
     "traceback": [
      "\u001b[0;31m---------------------------------------------------------------------------\u001b[0m",
      "\u001b[0;31mNameError\u001b[0m                                 Traceback (most recent call last)",
      "\u001b[0;32m<ipython-input-31-da0a1d9db803>\u001b[0m in \u001b[0;36m<module>\u001b[0;34m()\u001b[0m\n\u001b[0;32m----> 1\u001b[0;31m \u001b[0mpdTrainData\u001b[0m\u001b[0;34m,\u001b[0m \u001b[0mpdValidationData\u001b[0m \u001b[0;34m=\u001b[0m \u001b[0mgetTrainValidationData\u001b[0m\u001b[0;34m(\u001b[0m\u001b[0mpdAllData\u001b[0m\u001b[0;34m,\u001b[0m \u001b[0mratioValidation\u001b[0m\u001b[0;34m=\u001b[0m\u001b[0;36m0.1\u001b[0m\u001b[0;34m)\u001b[0m\u001b[0;34m\u001b[0m\u001b[0m\n\u001b[0m",
      "\u001b[0;31mNameError\u001b[0m: name 'pdAllData' is not defined"
     ]
    }
   ],
   "source": [
    "pdTrainData, pdValidationData = getTrainValidationData(pdAllData, ratioValidation=0.1)"
   ]
  },
  {
   "cell_type": "code",
   "execution_count": null,
   "metadata": {},
   "outputs": [],
   "source": [
    "dictAreasPrices = calcAreasPrices(pdTrainData)\n",
    "\n",
    "pdValidationData['Id','LotArea','Neighborhood']"
   ]
  },
  {
   "cell_type": "markdown",
   "metadata": {},
   "source": [
    "# Goal of the challenge\n",
    "\n",
    "It is your job to predict the sales price for each house. For each Id in the test set, you must predict the value of the SalePrice variable.\n",
    "\n",
    "## Metric\n",
    "Notebooks are evaluated on Root-Mean-Squared-Error (RMSE) between the logarithm of the predicted value and the logarithm of the observed sales price. (Taking logs means that errors in predicting expensive houses and cheap houses will affect the result equally.)\n",
    "\n",
    "## Submission File Format\n",
    "The file should contain a header and have the following format:\n",
    "\n",
    "```\n",
    "Id,SalePrice\n",
    "1461,169000.1\n",
    "1462,187724.1233\n",
    "1463,175221\n",
    "etc.\n",
    "```\n",
    "\n",
    "You will find an example submission file within the data directory in the repository."
   ]
  },
  {
   "cell_type": "markdown",
   "metadata": {},
   "source": [
    "# Grading the notebook\n",
    "\n",
    "This challenge is going to be graded as a regular notebook for the AML labs. As a consequence, students should submit:\n",
    "\n",
    "* the html version of the notebook, using the Data Science Labs submission website, as usual [**Assignement: Challenge Notebook**]\n",
    "* the submission file (in csv format), that we will use to rank students according to the metric defined above, again through the Data Science Labs submission website [**Assignement: Challenge Predictions**]\n",
    "\n",
    "In summary, you will have to submit 2 files!"
   ]
  }
 ],
 "metadata": {
  "kernelspec": {
   "display_name": "Python 3",
   "language": "python",
   "name": "python3"
  },
  "language_info": {
   "codemirror_mode": {
    "name": "ipython",
    "version": 3
   },
   "file_extension": ".py",
   "mimetype": "text/x-python",
   "name": "python",
   "nbconvert_exporter": "python",
   "pygments_lexer": "ipython3",
   "version": "3.6.4"
  }
 },
 "nbformat": 4,
 "nbformat_minor": 2
}
