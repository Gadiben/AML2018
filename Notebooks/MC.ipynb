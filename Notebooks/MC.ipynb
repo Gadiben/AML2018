{
 "cells": [
  {
   "cell_type": "markdown",
   "metadata": {},
   "source": [
    "2018 Edition"
   ]
  },
  {
   "cell_type": "markdown",
   "metadata": {},
   "source": [
    "# Estimating Financial Risk through Monte Carlo Simulation\n",
    "Risk analysis is part of every decision we make when faced with uncertainty, ambiguity, and variability. Indeed, even though we have unprecedented access to information, we can't accurately predict the future. In finance, there is a fair amount of uncertainty and risk involved with estimating the future value of financial products, due to the wide variety of potential outcomes. Monte Carlo simulation (also known as the Monte Carlo Method) allows inspecting many possible outcomes of the decision making process, and can be used to assess the impact of risk: this, in turns, allows for better decision-making under uncertainty.\n",
    "\n",
    "## Goals\n",
    "The main objectives we set for this Notebook are as follows:\n",
    "1. Develop fundamental knowledge about Risk analysis\n",
    "2. Understand Monte Carlo Simulation (MCS)\n",
    "3. Apply Monte Carlo Simulation for predicting risk\n",
    "\n",
    "\n",
    "## Steps\n",
    "1. First, in section 1, we introduce the basics of MCS\n",
    "2. In section 2, we work on a simple example to where we apply the MCS method\n",
    "3. In section 3, we briefly summarize the main characteristics of the Monte Carlo Simulation (MCS) technique\n",
    "4. In section 4, we overview the common distributions which are often used in MCS\n",
    "5. In section 5, we work on a real use case, that focuses on estimating financial risk. We will use techniques such as featurization  (that is, generating additional features to improve model accuracy), linear regression, kernel density estimation, sampling distributions and so on ...\n",
    "\n",
    "## Reference\n",
    "This Notebook is inspired by Chapter 9 of the book [Advanced Analytics with Spark](http://shop.oreilly.com/product/0636920035091.do) by Josh Wills, Sandy Ryza, Sean Owen, and Uri Laserson. It is strongly suggested to read this Chapter to get a general idea of the topic of this Notebook.\n",
    "\n",
    "# 1. Introduction\n",
    "\n",
    "## 1.1. Monte Carlo Simulation (MCS)\n",
    "Monte Carlo simulation is a computerized mathematical technique that can be applied such that it is possible to account for risk in quantitative analysis and decision making. This technique is used in many different fields, such as R&D, risk management, portfolio management, pricing derivatives, strategic planning, project planning, cost modeling and many more.\n",
    "\n",
    "In general, MCS is a technique that \"converts\" uncertainty on input variables of a model into **probability distributions**. By combining the distributions and randomly selecting values from them, it recalculates the simulated model many times, to determine the probability of the output.\n",
    "\n",
    "Historically, this technique was first used by scientists working on the atomic bomb: it was named after Monte Carlo, the Monaco resort town renowned for its casinos.  Since its introduction in World War II, Monte Carlo simulation has been used to model a variety of physical and conceptual systems.\n",
    "\n",
    "## 1.2. How does it work?\n",
    "Monte Carlo simulation performs risk analysis by building models of possible results by *substituting a range of possible input values, that constitute uncertainty, into a statistical distribution*. It then computes possible outcomes repeatedly, each time using a different set of random values from the probability functions that \"model\" the input. Depending upon the number of random input variables and their distribution, a Monte Carlo simulation could involve thousands or tens of thousands of \"rounds\" before it is complete. When complete, *Monte Carlo simulation produces distributions of possible outcome values*.\n",
    "\n",
    "By using probability distributions instead of actual input samples, it is possible to model more accurately uncertainty: different choices of distributions will yield different outputs."
   ]
  },
  {
   "cell_type": "markdown",
   "metadata": {},
   "source": [
    "# 2. Illustrative example\n",
    "\n",
    "Imagine you are the marketing manager for a firm that is planning to introduce a new product. You need to estimate the first-year net profit from this product, which might depend on:\n",
    "\n",
    "- Sales volume in units\n",
    "- Price per unit (also called \"Selling price\")\n",
    "- Unit cost\n",
    "- Fixed costs\n",
    "\n",
    "Net profit will be calculated as $Net Profit = Sales Volume* (Selling Price - Unit cost) - Fixed costs$.  Fixed costs (accounting for various overheads, advertising budget, etc.) are known to be \\$ 120,000, which we assume to be deterministic. All other factors, instead, involve some uncertainty: *sales volume* (in units) can cover quite a large range, the *selling price* per unit will depend on competitor actions, which are hard to predict, and *unit costs* will also vary depending on vendor prices and production experience, for example.\n",
    "\n",
    "Now, to build a risk analysis model, we must first identify the uncertain variables -- which are essentially random variables.  While there's some uncertainty in almost all variables in a business model, we want to focus on variables where the range of values is significant."
   ]
  },
  {
   "cell_type": "markdown",
   "metadata": {},
   "source": [
    "## 2.1. Unit sales and unit price\n",
    "\n",
    "Based on a hypothetical market research you have done, you have beliefs that there are equal chances for the market to be `slow`, `normal`, or `hot`:\n",
    "\n",
    "- In a \"slow\" market, you expect to sell 50,000 units at an average selling price of \\$11.00 per unit\n",
    "- In a \"normal\" market, you expect to sell 75,000 units, but you'll likely realize a lower average selling price of \\$10.00 per unit\n",
    "- In a \"hot\" market, you expect to sell 100,000 units, but this will bring in competitors, who will drive down the average selling price to \\$8.00 per unit"
   ]
  },
  {
   "cell_type": "markdown",
   "metadata": {},
   "source": [
    "### Question 1\n",
    "<div class=\"alert alert-info\">\n",
    "Calculate the average units and the unit price that you expect to sell, which depend on the market state. Use the assumptions above to compute the expected quantity of products and their expected unit price. \n",
    "</div>\n"
   ]
  },
  {
   "cell_type": "code",
   "execution_count": 42,
   "metadata": {},
   "outputs": [
    {
     "name": "stdout",
     "output_type": "stream",
     "text": [
      "average unit: 75000.0\n",
      "average_price: 9.666666666666666\n"
     ]
    }
   ],
   "source": [
    "average_unit = (50000+75000+100000)/3 #The probability is uniform for the different markets, we can simply do the mean of different possibilities\n",
    "average_price = (11+10+8)/3\n",
    "print(\"average unit:\", average_unit)\n",
    "print(\"average_price:\", average_price)"
   ]
  },
  {
   "cell_type": "markdown",
   "metadata": {},
   "source": [
    "## 2.2. Unit Cost\n",
    "\n",
    "Another uncertain variable is Unit Cost. In our illustrative example, we assume that your firm's production manager advises you that unit costs may be anywhere from \\$5.50 to \\$7.50, with a most likely expected cost of \\$6.50. In this case, the most likely cost can be considered as the average cost.\n",
    "\n",
    "## 2.3. A Flawed Model: using averages to represent our random variables\n",
    "Our next step is to identify uncertain functions -- also called functions of a random variable.  Recall that Net Profit is calculated as $Net Profit = Sales Volume * (Selling Price - Unit cost) - Fixed costs$.  However, Sales Volume, Selling Price and Unit Cost are all uncertain variables, so Net Profit is an uncertain function.\n",
    "\n",
    "The simplest model to predict the Net Profit is using average of sales volume, average of selling price and average of unit cost for calculating. So, if only consider averages, we can say that the $Net Profit = 75,000*(9.66666666 - 6.5) - 120,000 \\sim 117,500$.\n",
    "\n",
    "However, as [Dr. Sam Savage](http://web.stanford.edu/~savage/faculty/savage/) warns, \"Plans based on average assumptions will be wrong on average.\" The calculated result is far from the actual value: indeed, the **true average Net Profit** is roughly  \\$93,000, as we will see later in the example."
   ]
  },
  {
   "cell_type": "markdown",
   "metadata": {},
   "source": [
    "### Question 2\n",
    "#### Question 2.1\n",
    "<div class=\"alert alert-info\">\n",
    "Write a function named `calNetProfit` to calculate the Net Profit using the average of sales volume, the average of selling price and the average of unit cost.\n",
    "</div>"
   ]
  },
  {
   "cell_type": "code",
   "execution_count": 43,
   "metadata": {},
   "outputs": [
    {
     "name": "stdout",
     "output_type": "stream",
     "text": [
      "Net profit: 117499.99999999994 $\n"
     ]
    }
   ],
   "source": [
    "def calNetProfit(average_unit, average_price, average_unitcost, fixed_cost):\n",
    "    \"\"\"\n",
    "    Returns the net profit value.\n",
    "    \"\"\"\n",
    "    return average_unit*(average_price - average_unitcost) - fixed_cost\n",
    "\n",
    "average_unitcost = 6.5 #most likely expected cost\n",
    "fixed_cost = 120000\n",
    "NetProfit = calNetProfit(average_unit, average_price, average_unitcost, fixed_cost)\n",
    "print(\"Net profit:\", NetProfit, \"$\")"
   ]
  },
  {
   "cell_type": "markdown",
   "metadata": {},
   "source": [
    "#### Question 2.2\n",
    "<div class=\"alert alert-info\">\n",
    "Verify the warning message of Dr. Sam Savage by calculating the error of our estimated Net Profit using averages only. Recall that the true value is roughly \\$93,000, so we are interested in:\n",
    "<ul></ul>\n",
    "\n",
    "$$ error = \\frac{your\\_value - true\\_value}{true\\_value}$$\n",
    "\n",
    "<ul></ul>\n",
    "Note also we are interested in displaying the error as a percentage.\n",
    "<ul></ul>\n",
    "Looking at the error we make, do you think that we can use the current model that only relies on averages?\n",
    "</div>"
   ]
  },
  {
   "cell_type": "code",
   "execution_count": 44,
   "metadata": {},
   "outputs": [
    {
     "name": "stdout",
     "output_type": "stream",
     "text": [
      "Error in percentage for net profit: 26.344086021505316 %\n"
     ]
    }
   ],
   "source": [
    "def relativeError(yourValue,trueValue):\n",
    "    \"\"\"\n",
    "    Returns the relative error on a computed value as a percentage.\n",
    "    \"\"\"\n",
    "    return (yourValue - trueValue)*100 / trueValue\n",
    "\n",
    "trueNetProfit = 93000\n",
    "print(\"Error in percentage for net profit:\", relativeError(NetProfit,trueNetProfit), \"%\")"
   ]
  },
  {
   "cell_type": "markdown",
   "metadata": {},
   "source": [
    "<div class=\"alert alert-warning\">\n",
    "\n",
    "This first model is really simple. We only have to compute a value for each variable in order to calculate the profit.\n",
    "<br>\n",
    "The relative error of the computed net profit compared to the true value is approximately 26%. The error we make by computing the net profit this way is really huge. We have to find a new method more accurate.\n",
    "<br>\n",
    "Last year, at the beginning of our engineering school, we did a business simulation of a company, and we had to take decisions for each year of our company development (how many products to build ? how many machines to buy ? etc). We had a limited time to take the decisions, and we used the same method : compute a mean value of the decision, and calculate the result. A lot of companies just like us have lost a lot of money after each decision. Maybe it was because we didn't find the right profit, and we thank our decisions were better than they were.\n",
    "\n",
    "</div>"
   ]
  },
  {
   "cell_type": "markdown",
   "metadata": {},
   "source": [
    "## 2.4. Using the Monte Carlo Simulation method to improve our model\n",
    "As discussed before, the selling price and selling volume both depend on the state of the market scenario (slow/normal/hot). So, the net profit is the result of two random variables: `market scenario` (which in turn determines `sales volumes` and `selling price`) and `unit cost`.\n",
    "\n",
    "Now, let's assume (this is an *a-priori* assumption we make) that `market scenario` follows a discrete, uniform distribution and that `unit cost` also follows a uniform distribution. Then, we can compute directly the values for selling price and selling volumes based on the outcome of the random variable `market scenario`, as shown in Section 2.1.\n",
    "\n",
    "From these a-priori distributions, in each run (or trial) of our Monte Carlo simulation, we can generate the sample value for each random variable and use it to calculate the Net Profit. The more simulation runs, the more accurate our results will be. For example, if we run the simulation 100,000 times, the average net profit will amount to roughly \\$92,600. Every time we run the simulation, a different prediction will be output: the average of such predictions will consistently be less than \\$117,500, which we predicted using averages only.\n",
    "\n",
    "Note also that in this simple example, we generate values for the `market scenario` and `unit cost` independently: we consider them to be **independent random variables**. This means that the eventual (and realistic!) correlation between the `market scenario` and `unit cost` variables is ignored. Later, we will learn how to be more precise and account for dependency between random variables.\n"
   ]
  },
  {
   "cell_type": "markdown",
   "metadata": {},
   "source": [
    "### Question 3\n",
    "#### Question 3.1\n",
    "<div class=\"alert alert-info\">\n",
    "Write a function named `get_sales_volume_price` that returns the sales volume and price based on the market scenario. In particular, the scenario can get one of three values:\n",
    "<ul>\n",
    "  <li>0: Slow market</li>\n",
    "  <li>1: Normal market</li>\n",
    "  <li>2: Hot market</li>\n",
    "</ul>  \n",
    "\n",
    "The return value is a tuple in the form: `(sales_volume, price)`\n",
    "</div>"
   ]
  },
  {
   "cell_type": "code",
   "execution_count": 45,
   "metadata": {},
   "outputs": [],
   "source": [
    "# Get sales volume and  price based on market scenario\n",
    "# the function returns a tuple of (sales_volume, price)\n",
    "def get_sales_volume_price(scenario):\n",
    "    \"\"\"\n",
    "    :param scenario: int that defines the market scenario: 0-Slow ; 1-Normal ; 2-Hot\n",
    "    Returns a tuple (sales_volume, price) that corresponds to the scenario given.\n",
    "    \"\"\"\n",
    "    salesVolume_prices = [(50000,11),(75000,10),(100000,8)] #(sales_volume, price) for [slow market, normal market, hot market]\n",
    "    return salesVolume_prices[scenario] #return thanks to the index 'scenario'"
   ]
  },
  {
   "cell_type": "markdown",
   "metadata": {},
   "source": [
    "#### Question 3.2\n",
    "<div class=\"alert alert-info\">\n",
    "Run 100,000 Monte Carlo simulations and calculate the average net profit they produce. Then, compare the result to the \"average model\" we used in the previous questions (the one we called \"flawed\" model). Put your comments about the discrepancies between a simplistic model, and the more accurate MCS approach.  \n",
    "<ul></ul>\n",
    "Note that in each iteration, the `unit_cost` and `market_scenario` are generated according to their distributions. Also, recall what we have seen in Section 2.2: your firm account manager helped you with some research, to determine the variability of your random variables.  \n",
    "</div>\n",
    "\n",
    "\n",
    "<div class=\"label label-success\">HINT</div>  \n",
    "\n",
    "Function `uniform(a,b)` in module `random` generates a number $a<=c<=b$, which is drawn from a uniform distribution.  \n",
    "\n",
    "Function `randint(a,b)` helps you generating an integer number $a<=c<=b$"
   ]
  },
  {
   "cell_type": "code",
   "execution_count": 46,
   "metadata": {},
   "outputs": [],
   "source": [
    "import random"
   ]
  },
  {
   "cell_type": "code",
   "execution_count": 47,
   "metadata": {},
   "outputs": [
    {
     "name": "stdout",
     "output_type": "stream",
     "text": [
      "average net profit: 92311.34080248768 $\n",
      "relative error for net profit -0.7404937607659308 %\n"
     ]
    }
   ],
   "source": [
    "total = 0.0\n",
    "num_simulation = 100000\n",
    "for i in range(0,num_simulation):\n",
    "    unit_cost = random.uniform(5.5,7.5) #uniform probability for unit_cost\n",
    "    market_scenario = random.randint(0,2) #uniform probability for the scenario\n",
    "    sales_volume, price = get_sales_volume_price(market_scenario) #get volume and price for this scenario\n",
    "    netProfit = calNetProfit(sales_volume, price, unit_cost, fixed_cost) #calculate the net profit for this simulation\n",
    "    total += netProfit\n",
    "average_net_profit = total/num_simulation #calculate the mean net profit for all simulations\n",
    "\n",
    "print(\"average net profit:\", average_net_profit, \"$\")\n",
    "print(\"relative error for net profit\", relativeError(average_net_profit,trueNetProfit), \"%\")"
   ]
  },
  {
   "cell_type": "markdown",
   "metadata": {},
   "source": [
    "<div class=\"alert alert-warning\">\n",
    "\n",
    "We've done the Monte Carlo Simulation with simple probabilities. We only considered the unit cost having a uniform probability between 5.5 and 7.5$ which is an approximation. The market scenario that can also be of 3 different types with a uniform probability is also an approximation.\n",
    "<br>\n",
    "Nevertheless, running the simple Monte Carlo Simulation with this example gives much more accurate results than the previous method. Indeed, admitting the true value given is not an approximation of the true value, the relative error is much lower than for the previous method where we had 26% of error. The Monte Carlo Simulation returns a net profit value with less than 1% error.\n",
    "<br>\n",
    "This could be explained maybe by the fact that some ramdom values together low or high can have a big influence on the net profit result. By simulating 100000 possibilities, we take this into account, and reduce the possible error at the end.\n",
    "\n",
    "</div>"
   ]
  },
  {
   "cell_type": "markdown",
   "metadata": {},
   "source": [
    "\n",
    "# 3. A brief summary of the Monte Carlo Simulation (MCS) technique\n",
    "\n",
    "- A MCS allows several inputs to be used at the same time to compute the probability distribution of one or more outputs\n",
    "- Different types of probability distributions can be assigned to the inputs of the model, depending on any *a-priori* information that is available. When the distribution is completely unknown, a common technique is to use a distribution computed by finding the best fit to the data you have\n",
    "- The MCS method is also called a **stochastic method** because it uses random variables. Note also that the general assumption is for input random variables to be independent from each other. When this is not the case, there are techniques to account for correlation between random variables.\n",
    "- A MCS generates the output as a range instead of a fixed value and shows how likely the output value is to occur in that range. In other words, the model outputs a probability distribution."
   ]
  },
  {
   "cell_type": "markdown",
   "metadata": {},
   "source": [
    "# 4. Common distributions used in MCS\n",
    "In what follows, we summarize the most common probability distributions that are used as *a-priori* distributions for input random variables:\n",
    "\n",
    "- *Normal/Gaussian Distribution*: this is a continuous distribution applied in situations where the mean and the standard deviation of a given input variable are given, and the mean represents the most probable value of the variable. In other words, values \"near\" the mean are most likely to occur.  This is symmetric distribution, and it is not bounded in its co-domain. It is very often used to  describe natural phenomena, such as people’s heights, inflation rates, energy prices, and so on and so forth. An illustration of a normal distribution is given below:\n",
    "![normal_distribution](https://upload.wikimedia.org/wikipedia/commons/thumb/7/74/Normal_Distribution_PDF.svg/320px-Normal_Distribution_PDF.svg.png)\n",
    "\n",
    "- *Lognormal Distribution*: this is a distribution which is appropriate for variables taking values in the range $[0, \\infty]$. Values are positively skewed, not symmetric like a normal distribution.  Examples of variables described by some lognormal distributions include, for example, real estate property values, stock prices, and oil reserves. An illustration of a lognormal distribution is given below:\n",
    "![log_normal_distribution](https://upload.wikimedia.org/wikipedia/commons/thumb/a/ae/PDF-log_normal_distributions.svg/320px-PDF-log_normal_distributions.svg.png) \n",
    "\n",
    "- *Triangular Distribution*: this is a continuous distribution with fixed minimum and maximum values. It is bounded by the minimum and maximum values and can be either symmetrical (the most probable value = mean = median) or asymmetrical. Values around the most likely value (e.g. the mean) are more likely to occur.  Variables that could be described by a triangular distribution include, for example, past sales history per unit of time and inventory levels. An illustration of a triangular distribution is given below:\n",
    "![](https://upload.wikimedia.org/wikipedia/commons/thumb/4/45/Triangular_distribution_PMF.png/320px-Triangular_distribution_PMF.png)\n",
    "\n",
    "- *Uniform Distribution*: this is a continuous distribution bounded by known minimum and maximum values. In contrast to the triangular distribution, the likelihood of occurrence of the values between the minimum and maximum is the same. In other words, all values have an equal chance of occurring, and the distribution is simply characterized by the minimum and maximum values. Examples of variables that can be described by a uniform distribution include manufacturing costs or future sales revenues for a new product. An illustration of the uniform distribution is given below:\n",
    "![](https://upload.wikimedia.org/wikipedia/commons/thumb/9/96/Uniform_Distribution_PDF_SVG.svg/320px-Uniform_Distribution_PDF_SVG.svg.png)\n",
    "\n",
    "- *Exponential Distribution*: this is a continuous distribution used to model the time that pass between independent occurrences, provided that the rate of occurrences is known. An example of the exponential distribution is given below:\n",
    "![](https://upload.wikimedia.org/wikipedia/commons/thumb/e/ec/Exponential_pdf.svg/320px-Exponential_pdf.svg.png)\n",
    "\n",
    "- *Discrete Distribution* : for this kind of distribution, the \"user\" defines specific values that may occur and the likelihood of each of them.  An example might be the results of a lawsuit: 20% chance of positive verdict, 30% change of negative verdict, 40% chance of settlement, and 10% chance of mistrial.\n"
   ]
  },
  {
   "cell_type": "markdown",
   "metadata": {},
   "source": [
    "# 5. A real use case: estimating the financial risk of a portfolio of stocks\n",
    "We hope that by now you have a good understanding about Monte Carlo simulation. Next, we apply this method to a real use case: *financial risk estimation*.\n",
    "\n",
    "Imagine that you are an investor on the stock market. You plan to buy some stocks and you want to estimate the maximum loss you could incur after two weeks of investing. This is the quantity that the financial statistic \"Value at Risk\" (VaR) seeks to measure. [VaR](https://en.wikipedia.org/wiki/Value_at_risk) is defined as a measure of investment risk that can be used as a reasonable estimate of the maximum probable loss for a value of an investment portfolio, over a particular time period. A VaR statistic depends on three parameters: a portfolio, a time period, and a confidence level. A VaR of 1 million dollars with a 95% confidence level over two weeks, indicates the belief that the portfolio stands only a 5% chance of losing more than 1 million dollars over two weeks. VaR has seen widespread use across financial services organizations. This statistic plays a vital role in determining how much cash investors must hold to meet the credit ratings that they seek. In addition, it is also used to understand the risk characteristics of large portfolios: it is a good idea to compute the VaR before executing trades, such that it can help take informed decisions about investments. \n",
    "\n",
    "Our goal is calculating VaR of two weeks interval with 95% confidence level and the associated [VaR confidence interval](http://www.investopedia.com/ask/answers/041615/whats-difference-between-confidence-level-and-confidence-interval-value-risk-var.asp).\n",
    "\n",
    "\n",
    "## 5.1. Terminology\n",
    "In this use case, we will use some terms that might require a proper definition, given the domain. This is what we call the *Domain Knowledge*.\n",
    "\n",
    "- **Instrument**: A tradable asset, such as a bond, loan, option, or stock investment. At any particular time, an instrument is considered to have a value, which is the price for which it can be sold. In the use case of this notebook, instruments are stock investments.\n",
    "- **Portfolio**: A collection of instruments owned by a financial institution. \n",
    "- **Return**: The change in an instrument or portfolio’s value over a time period. \n",
    "- **Loss**: A negative return. \n",
    "- **Index**: An imaginary portfolio of instruments. For example, the NASDAQ Composite index includes about 3,000 stocks and similar instruments for major US and international companies. \n",
    "- **Market factor**: A value that can be used as an indicator of macro aspects of the financial climate at a particular time. For example, the value of an index, the Gross Domestic Product of the United States, or the exchange rate between the dollar and the euro. We will often refer to market factors as just factors.\n",
    "\n",
    "## 5.2. The context of our use case\n",
    "We have a list of instruments that we plan to invest in. The historical data of each instrument has been collected for you. For simplicity, assume that the returns of instruments at a given time, depend on 4 market factors only: \n",
    "\n",
    "- GSPC value\n",
    "- IXIC value \n",
    "- The return of crude oil\n",
    "- The return of treasury bonds\n",
    "\n",
    "Our goal is building a model to predict the loss after two weeks' time interval with confidence level set to 95%.\n",
    "\n",
    "As a side note, it is important to realize that the approach presented in this Notebook is a simplified version of what would happen in a real Financial firm. For example, the returns of instruments at a given time often depend on more than 4 market factors only! Moreover, the choice of what constitute an appropriate market factor is an art!\n",
    "\n"
   ]
  },
  {
   "cell_type": "markdown",
   "metadata": {},
   "source": [
    "## 5.3. The Data\n",
    "The stock data can be downloaded (or scraped) from Yahoo! by making a series of REST calls. The data includes multiple files. Each file contains the historical information of each instrument that we want to invest in. The data is in the following format (with some samples):\n",
    "```\n",
    "Date, Open, High, Low, Close, Volume, Adj Close\n",
    "2016-01-22,66.239998,68.07,65.449997,67.860001,137400,67.860001\n",
    "2016-01-21,65.410004,66.18,64.459999,65.050003,148000,65.050003\n",
    "2016-01-20,64.279999,66.32,62.77,65.389999,141300,65.389999\n",
    "2016-01-19,67.720001,67.989998,64.720001,65.379997,178400,65.379997\n",
    "```\n",
    "\n",
    "The data of GSPC and IXIC values (our two first market factors) are also available on Yahoo! and use the very same format. \n",
    "\n",
    "The crude oil and treasure bonds data is collected from investing.com, and has a different format, as shown below (with some samples):\n",
    "```\n",
    "Date    Price   Open    High    Low     Vol.    Change %\n",
    "Jan 25, 2016    32.17   32.36   32.44   32.10   -       -0.59%\n",
    "Jan 24, 2016    32.37   32.10   32.62   31.99   -       0.54%\n",
    "Jan 22, 2016    32.19   29.84   32.35   29.53   -       9.01%\n",
    "Jan 21, 2016    29.53   28.35   30.25   27.87   694.04K 11.22%\n",
    "Jan 20, 2016    26.55   28.33   28.58   26.19   32.11K  -6.71%\n",
    "Jan 19, 2016    28.46   29.20   30.21   28.21   188.03K -5.21%\n",
    "```\n",
    "\n",
    "In our use case, the factors' data will be used jointly to build a statistical model: as a consequence, we first need to preprocess the data to proceed.\n",
    "\n",
    "## 5.4. Data preprocessing\n",
    "In this Notebook, all data files have been downloaded for you, such that you can focus on pre-processing. Next, we will:\n",
    "\n",
    "  - Read the factor data files which are in two different formats, process and merge them together\n",
    "  - Read the stock data and pre-process it\n",
    "  - Trim all data into a specific time region\n",
    "  - Fill in the missing values\n",
    "  - Generate the data of returns in each two weeks' time interval window\n",
    "  \n",
    "### Factor data pre-processing\n",
    "\n",
    "We need two functions to read and parse data from Yahoo! and Investing.com respectively. We are interested only in information about the time and the corresponding returns of a factor or an instrument: as a consequence, we will project away many columns of our RAW data, and keep only the information we are interested in.\n",
    "\n",
    "The 3000-instrument and the 4-factor history are small enough to be read and processed locally: we do not need to use the power of parallel computing to proceed. Note that this is true also for larger cases with hundreds of thousands of instruments and thousands of factors. The need for a distributed system like Spark comes in when actually **running** the Monte Carlo simulations, which can require massive amounts of computation on each instrument. "
   ]
  },
  {
   "cell_type": "markdown",
   "metadata": {},
   "source": [
    "### Question 4\n",
    "#### Question 4.1\n",
    "<div class=\"alert alert-info\">\n",
    "Write a function named `readInvestingDotComHistory` to parse data from investing.com based on the format specified above (see Section 5.3). Recall that we use two factors here: one that is related to the price of crude oil, one that is related to some specific US bonds. \n",
    "\n",
    "<ul></ul>\n",
    "\n",
    "Print the first 5 entries of the first factor (crude oil price) in the parsed data.\n",
    "\n",
    "<ul></ul>\n",
    "\n",
    "Note that we are only interested in the date and price of stocks.\n",
    "\n",
    "</div>\n",
    "\n",
    "<div class=\"label label-success\">HINT</div>  \n",
    "You can parse a string to `datetime` object by using the function `strptime(<string>, <dtime_format>)`. In this case, the datetime format is `\"%b %d, %Y\"`. For more information, please follow this [link](https://docs.python.org/2/library/datetime.html#strftime-and-strptime-behavior)."
   ]
  },
  {
   "cell_type": "markdown",
   "metadata": {},
   "source": [
    "In the next cell, we simply copy data from our HDFS cluster (that contains everything we need for this Notebook) to the instance (a Docker container) running your Notebook. This means that you will have \"local\" data that you can process without using Spark. Note the folder location: find and verify that you have correctly downloaded the files!"
   ]
  },
  {
   "cell_type": "code",
   "execution_count": 48,
   "metadata": {
    "collapsed": false
   },
   "outputs": [],
   "source": [
    "! [ -d monte-carlo-risk ] || (echo \"Downloading prepared data from HDFS. Please wait...\" ; hdfs dfs -copyToLocal /datasets/monte-carlo-risk . ; echo \"Done!\";)"
   ]
  },
  {
   "cell_type": "code",
   "execution_count": 49,
   "metadata": {},
   "outputs": [],
   "source": [
    "from datetime import datetime\n",
    "from datetime import timedelta\n",
    "from itertools import islice\n",
    "%matplotlib inline\n",
    "import numpy as np\n",
    "import statsmodels.api as sm\n",
    "import matplotlib.pyplot as plt"
   ]
  },
  {
   "cell_type": "code",
   "execution_count": 50,
   "metadata": {},
   "outputs": [
    {
     "name": "stdout",
     "output_type": "stream",
     "text": [
      "The first 5 values of the crude oil factor\n",
      " [[datetime.datetime(2006, 1, 26, 0, 0) 66.26]\n",
      " [datetime.datetime(2006, 1, 27, 0, 0) 67.76]\n",
      " [datetime.datetime(2006, 1, 30, 0, 0) 68.35]\n",
      " [datetime.datetime(2006, 1, 31, 0, 0) 67.92]\n",
      " [datetime.datetime(2006, 2, 1, 0, 0) 66.56]]\n",
      "The last 5 values of the crude oil factor\n",
      " [[datetime.datetime(2016, 1, 20, 0, 0) 26.55]\n",
      " [datetime.datetime(2016, 1, 21, 0, 0) 29.53]\n",
      " [datetime.datetime(2016, 1, 22, 0, 0) 32.19]\n",
      " [datetime.datetime(2016, 1, 24, 0, 0) 32.37]\n",
      " [datetime.datetime(2016, 1, 25, 0, 0) 32.17]]\n"
     ]
    }
   ],
   "source": [
    "base_folder = \"monte-carlo-risk/\"\n",
    "\n",
    "factors_folder= base_folder + \"factors/\"\n",
    "\n",
    "# read data from local disk\n",
    "def readInvestingDotComHistory(fname):\n",
    "    def process_line(line):\n",
    "        cols = line.split('\\t') #split by tabulation\n",
    "        date = datetime.strptime(cols[0],\"%b %d, %Y\") #retrieve the time given in this format into a datetime format\n",
    "        value = float(cols[1]) #price value in the second column\n",
    "        return (date, value)\n",
    "    \n",
    "    with open(fname) as f:\n",
    "        content_w_header = f.readlines()\n",
    "        # remove the first line\n",
    "        content = content_w_header\n",
    "        content.pop(0)\n",
    "        # and reverse lines to sort the data by date, in ascending order\n",
    "        content.reverse()\n",
    "        return list(map(process_line , content))\n",
    "\n",
    "factor1_files = ['crudeoil.tsv', 'us30yeartreasurybonds.tsv']\n",
    "factor1_files = map(lambda fn: factors_folder + fn, factor1_files)\n",
    "factors1 = [readInvestingDotComHistory(f) for f in factor1_files]\n",
    "\n",
    "print('The first 5 values of the crude oil factor\\n',np.array(factors1[0][:5])) # printed as np.array for style\n",
    "print('The last 5 values of the crude oil factor\\n',np.array(factors1[0][-5:])) # printed as np.array for style"
   ]
  },
  {
   "cell_type": "markdown",
   "metadata": {},
   "source": [
    "Now, the data structure `factors1` is a list, containing data that pertains to two (out of a total of four) factors that influence the market, as obtained by investing.com. Each element in the list is a tuple, containing some sort of timestamp, and the value of one of the two factors discussed above. From now on, we call these elements \"**records**\" or \"**entries**\". Visually, `factors1` looks like this:\n",
    "\n",
    "| 0 (crude oil) | 1 (US bonds)|\n",
    "| --- | --- |\n",
    "| time_stamp, value | time_stamp, value |\n",
    "| ... | ... |\n",
    "| time_stamp, value | time_stamp, value |\n",
    "| ... | ... |\n"
   ]
  },
  {
   "cell_type": "markdown",
   "metadata": {},
   "source": [
    "#### Question 4.2\n",
    "<div class=\"alert alert-info\">\n",
    "Write a function named `readYahooHistory` to parse data from yahoo.com based on its format, as described in Section 5.3.  \n",
    "<ul></ul>\n",
    "Print the first 5 entries of the first factor (namely GSPC). Comment the time range of the second batch of data we use in our Notebook.  \n",
    "<ul></ul>\n",
    "\n",
    "Note that we are only interested in the date and price of stocks.\n",
    "</div>\n",
    "\n",
    "<div class=\"label label-danger\">NOTE</div> The datetime format now is in a different format than the previous one.\n",
    "\n",
    "<div class=\"label label-success\">HINT</div> Use a terminal (or put the bash commands inline in your Notebook) to list filenames in your local working directory to find and have a look at your local files."
   ]
  },
  {
   "cell_type": "code",
   "execution_count": 51,
   "metadata": {},
   "outputs": [
    {
     "name": "stdout",
     "output_type": "stream",
     "text": [
      "The first 5 values of the GSPC factor\n",
      " [[datetime.datetime(1950, 1, 3, 0, 0) 16.66]\n",
      " [datetime.datetime(1950, 1, 4, 0, 0) 16.85]\n",
      " [datetime.datetime(1950, 1, 5, 0, 0) 16.93]\n",
      " [datetime.datetime(1950, 1, 6, 0, 0) 16.98]\n",
      " [datetime.datetime(1950, 1, 9, 0, 0) 17.08]]\n",
      "The last 5 values of the GSPC factor\n",
      " [[datetime.datetime(2016, 1, 15, 0, 0) 1880.329956]\n",
      " [datetime.datetime(2016, 1, 19, 0, 0) 1881.329956]\n",
      " [datetime.datetime(2016, 1, 20, 0, 0) 1859.329956]\n",
      " [datetime.datetime(2016, 1, 21, 0, 0) 1868.98999]\n",
      " [datetime.datetime(2016, 1, 22, 0, 0) 1906.900024]]\n"
     ]
    }
   ],
   "source": [
    "# read data from local disk\n",
    "def readYahooHistory(fname):\n",
    "    def process_line(line):\n",
    "        cols = line.split(',') #split with ',' the columns\n",
    "        date = datetime.strptime(cols[0],\"%Y-%m-%d\") #retrieve the date in this format as a datetime format\n",
    "        value = float(cols[4]) #the value of the price  in the 4th column\n",
    "        return (date, value)\n",
    "    \n",
    "    with open(fname) as f:\n",
    "        content_w_header = f.readlines()\n",
    "        # remove the first line\n",
    "        content = content_w_header\n",
    "        content.pop(0)\n",
    "        # and reverse lines to sort the data by date, in ascending order\n",
    "        content.reverse()\n",
    "        return list(map(process_line , content))\n",
    "    \n",
    "\n",
    "factor2_files = ['GSPC.csv', 'IXIC.csv']\n",
    "factor2_files = map(lambda fn: factors_folder + fn, factor2_files)\n",
    "\n",
    "factors2 = [readYahooHistory(f) for f in factor2_files]\n",
    "\n",
    "print('The first 5 values of the GSPC factor\\n',np.array(factors2[0][:5])) #Print as np.array for style\n",
    "print('The last 5 values of the GSPC factor\\n',np.array(factors2[0][-5:])) #Print as np.array for style"
   ]
  },
  {
   "cell_type": "code",
   "execution_count": 52,
   "metadata": {},
   "outputs": [
    {
     "name": "stdout",
     "output_type": "stream",
     "text": [
      "Done.\n"
     ]
    }
   ],
   "source": [
    "#Verify if there are some values that can't be converted to float such as None values for example\n",
    "for i in range(2):\n",
    "    try:\n",
    "        [float(x[1]) for x in factors1[i]]\n",
    "    except:\n",
    "        print(\"Error in factors 1 index:\",i)\n",
    "    try:\n",
    "        [float(x[1]) for x in factors2[i]]\n",
    "    except:\n",
    "        print(\"Error in factors 2 index:\",i)\n",
    "print(\"Done.\")"
   ]
  },
  {
   "cell_type": "markdown",
   "metadata": {},
   "source": [
    "<div class=\"alert alert-warning\">\n",
    "\n",
    "First, we verify that every price in the data can be casted to float in order to be able to do some calculations and predictions. No errors are detected in the dataset.\n",
    "<br>\n",
    "For the 2 first factors, data is given from 2006/2008 to 2016, that means approximately 10 years of data for these factors.\n",
    "<br>\n",
    "For the 2 other factors, data is given from 1950/1970 to 2016, that means approximately between 45 and 65 years of data for these factors. It's a very large amount of data, and the society of today isn't the same as before. If we have data of value of stocks for only a few years, we don't have to care about these old values of these factors. What we need to see is the relation between the factors at a given time and the stocks we want to invest in.\n",
    "\n",
    "</div>"
   ]
  },
  {
   "cell_type": "markdown",
   "metadata": {},
   "source": [
    "Now, the data structure `factors2` is again list, containing data that pertains to the next two (out of a total of four) factors that influence the market, as obtained by Yahoo!. Each element in the list is a tuple, containing some sort of timestamp, and the value of one of the two factors discussed above. Visually, `factors2` looks like this:\n",
    "\n",
    "| 0 (GSPC) | 1 (IXIC)|\n",
    "| --- | --- |\n",
    "| time_stamp, value | time_stamp, value |\n",
    "| ... | ... |\n",
    "| time_stamp, value | time_stamp, value |\n",
    "| ... | ... |\n"
   ]
  },
  {
   "cell_type": "code",
   "execution_count": 53,
   "metadata": {},
   "outputs": [
    {
     "data": {
      "image/png": "[encoded data removed]",
      "text/plain": [
       "<matplotlib.figure.Figure at 0x7f57c56aec88>"
      ]
     },
     "metadata": {},
     "output_type": "display_data"
    }
   ],
   "source": [
    "#Print of the 4 factors\n",
    "\n",
    "plt.figure(figsize=(20,10))\n",
    "plt.suptitle(\"The 4 factors values through time\")\n",
    "\n",
    "titles = [\"Return of crude oil factor\",\"Return of treasury bonds factor\",\"GSPC value factor\",\"IXIC value factor\"]\n",
    "factors = [factors1[0],factors1[1],factors2[0],factors2[1]]\n",
    "\n",
    "for i in range(4):\n",
    "    plt.subplot(2,2,i+1)\n",
    "    plt.plot([x[0] for x in factors[i]], [float(x[1]) for x in factors[i]])\n",
    "    plt.xlabel(\"Time\"),plt.ylabel(\"Factor value\"),plt.title(titles[i])\n",
    "plt.show()"
   ]
  },
  {
   "cell_type": "markdown",
   "metadata": {},
   "source": [
    "<div class=\"alert alert-warning\">\n",
    "\n",
    "In order to have a visualisation of the 4 factors, we plotted them. We can note that the GSPC and IXIC factors have a large amount of data from 1950/1970 to nowadays, and they didn't have a lot of variation until 2000.\n",
    "<br>\n",
    "They seem to be quite similar, the peaks are approximtely at the same time.\n",
    "<br>\n",
    "The return of crude oil seems also to have similar peaks, but it's less easy to compare. That's why we will later do a covariance matrix of the factors, and study a little their correlation.\n",
    "\n",
    "\n",
    "</div>"
   ]
  },
  {
   "cell_type": "markdown",
   "metadata": {},
   "source": [
    "### Stock data pre-processing\n",
    "\n",
    "Next, we prepare the data for the instruments we consider in this Notebook (i.e., the stocks we want to invest in). "
   ]
  },
  {
   "cell_type": "markdown",
   "metadata": {},
   "source": [
    "#### Question 4.3\n",
    "\n",
    "<div class=\"alert alert-info\">\n",
    "In this Notebook, we assume that we want to invest on the first 35 stocks out of the total 3000 stocks present in our datasets.\n",
    "\n",
    "<ul></ul>\n",
    "\n",
    "Load and prepare all the data for the considered instruments (the first 35 stocks) which have historical information for more than 5 years. This means that all instruments with less than 5 years of history should be removed.\n",
    "\n",
    "</div>\n",
    "\n",
    "<div class=\"label label-success\">HINT</div> we suggest to open a terminal window (not on your local machine, but the Notebook terminal that you can find on the Jupyter dashboard) and visually check the contents of the directories holding our dataset, if you didn't do this before! Have a look at how stock data is organized!"
   ]
  },
  {
   "cell_type": "code",
   "execution_count": 54,
   "metadata": {},
   "outputs": [],
   "source": [
    "from os import listdir\n",
    "from os.path import isfile, join"
   ]
  },
  {
   "cell_type": "code",
   "execution_count": 55,
   "metadata": {},
   "outputs": [
    {
     "name": "stdout",
     "output_type": "stream",
     "text": [
      "The first 5 entries of the first stock:\n",
      " [[datetime.datetime(1997, 8, 14, 0, 0) 39.0]\n",
      " [datetime.datetime(1997, 8, 15, 0, 0) 42.0]\n",
      " [datetime.datetime(1997, 8, 18, 0, 0) 48.5]\n",
      " [datetime.datetime(1997, 8, 19, 0, 0) 48.0]\n",
      " [datetime.datetime(1997, 8, 20, 0, 0) 48.0]]\n",
      "The first 5 entries of the first stock:\n",
      " [[datetime.datetime(1997, 8, 14, 0, 0) 39.0]\n",
      " [datetime.datetime(1997, 8, 15, 0, 0) 42.0]\n",
      " [datetime.datetime(1997, 8, 18, 0, 0) 48.5]\n",
      " [datetime.datetime(1997, 8, 19, 0, 0) 48.0]\n",
      " [datetime.datetime(1997, 8, 20, 0, 0) 48.0]]\n"
     ]
    }
   ],
   "source": [
    "stock_folder = base_folder + 'stocks'\n",
    "\n",
    "def process_stock_file(fname):\n",
    "    try:\n",
    "        return readYahooHistory(fname)\n",
    "    except Exception as e:\n",
    "        raise e\n",
    "        return None\n",
    "\n",
    "def retrieveStockData(nbStocks=35, nbYearMin=5):\n",
    "    \"\"\"\n",
    "    :param nbStocks: optionnal. Default 35. We want to invest in the first nbStocks. \n",
    "    :param nbYear: optionnal. Default 5. We consider only stocks that have more than nbYear history.\n",
    "    \n",
    "    Returns a list of list with the row correspond to the stock and the second index to the value of the stock [datetime, price].\n",
    "    \"\"\"\n",
    "    \n",
    "    # select path of all stock data files in \"stock_folder\"\n",
    "    files = [join(stock_folder, f) for f in listdir(stock_folder) if isfile(join(stock_folder, f))]\n",
    "\n",
    "    # assume that we invest only the first 35 stocks (for faster computation)\n",
    "    files = files[:nbStocks]\n",
    "\n",
    "    # read each line in each file, convert it into the format: (date, value)\n",
    "    rawStocks = [process_stock_file(f) for f in files]\n",
    "\n",
    "    # select only instruments which have more than nbYearMin years of history\n",
    "    # Note: the number of business days in a year is 260\n",
    "    return list(filter(lambda instrument: len(instrument) >= nbYearMin * 260  , rawStocks))\n",
    "    \n",
    "rawStocks = retrieveStockData()\n",
    "\n",
    "# For testing, print the first 5 entry of the first stock\n",
    "print('The first 5 entries of the first stock:\\n',np.array(rawStocks[0][:5]))\n",
    "print('The first 5 entries of the first stock:\\n',np.array(rawStocks[0][:5]))"
   ]
  },
  {
   "cell_type": "markdown",
   "metadata": {},
   "source": [
    "<div class=\"alert alert-warning\">\n",
    "\n",
    "It's important to note that if we filter 35 stocks before filtering which that have more than 5 years history, we'll have less than 29 stocks at the end. We say that we want to invest only in the first 35 stocks in the list.\n",
    "<br>\n",
    "Here we retrieve the stock data that corresponds to the first 35 stocks that have an history of at least 5 years.\n",
    "\n",
    "</div>"
   ]
  },
  {
   "cell_type": "markdown",
   "metadata": {},
   "source": [
    "### Time alignment for our data\n",
    "Different types of instruments may trade on different days, or the data may have missing values for other reasons, so it is important to make sure that our different histories align. First, we need to trim all of our time series to the same region in time. Then, we need to fill in missing values. To deal with time series that have missing values at the start and end dates in the time region, we simply fill in those dates with nearby values in the time region."
   ]
  },
  {
   "cell_type": "markdown",
   "metadata": {},
   "source": [
    "#### Question 4.4\n",
    "<div class=\"alert alert-info\">\n",
    "Assume that we only focus on the data from 23/01/2009 to 23/01/2014. Write a function named `trimToRegion` to select only the records in that time interval. \n",
    "\n",
    "<ul></ul>\n",
    "\n",
    "**Requirements**: after processing, each instrument $i$ has a list of records: $[r_0, r_2,...,r_{m_i}]$ such that $r_0$ and $r_{m_i}$ are assigned, respectively, the first and the last values corresponding to the extremes of the given time interval. For example: $r_0$ should contain the value at date 23/01/2009.\n",
    "</div>"
   ]
  },
  {
   "cell_type": "code",
   "execution_count": 56,
   "metadata": {},
   "outputs": [
    {
     "name": "stdout",
     "output_type": "stream",
     "text": [
      "First 5 entries of trimmed 1st stock:\n",
      " [[datetime.datetime(2009, 1, 23, 0, 0) 19.549999]\n",
      " [datetime.datetime(2009, 1, 26, 0, 0) 19.809999]\n",
      " [datetime.datetime(2009, 1, 27, 0, 0) 20.09]\n",
      " [datetime.datetime(2009, 1, 28, 0, 0) 21.620001]\n",
      " [datetime.datetime(2009, 1, 29, 0, 0) 19.82]]\n",
      "Last 5 entries of trimmed 1st stock:\n",
      " [[datetime.datetime(2014, 1, 16, 0, 0) 37.400002]\n",
      " [datetime.datetime(2014, 1, 17, 0, 0) 37.380001]\n",
      " [datetime.datetime(2014, 1, 21, 0, 0) 37.82]\n",
      " [datetime.datetime(2014, 1, 22, 0, 0) 37.68]\n",
      " [datetime.datetime(2014, 1, 23, 0, 0) 36.77]]\n"
     ]
    }
   ],
   "source": [
    "# note that the data of crude oil and treasury is only available starting from 26/01/2006 \n",
    "start = datetime(year=2009, month=1, day=23)\n",
    "end = datetime(year=2014, month=1, day=23)\n",
    "\n",
    "def trimToRegion(history, start, end):\n",
    "    def isInTimeRegion(entry):\n",
    "        (date, value) = entry\n",
    "        return date >= start and date <= end\n",
    "\n",
    "    # only select entries which are in the time region\n",
    "    trimmed = list(filter( lambda entry: isInTimeRegion(entry) , history))\n",
    "    \n",
    "    # if the data has incorrect time boundaries, add time boundaries\n",
    "    if trimmed[0][0] != start:\n",
    "        trimmed.insert(0, (start, trimmed[0][1]))\n",
    "    if trimmed[-1][0] != end:\n",
    "        trimmed.append((end, trimmed[-1][1]))\n",
    "    return trimmed\n",
    "    \n",
    "# test our function\n",
    "trimmedStock0 = trimToRegion(rawStocks[0], start, end)\n",
    "# the first 5 records of stock 0\n",
    "print(\"First 5 entries of trimmed 1st stock:\\n\",np.array(trimmedStock0[:5]))\n",
    "# the last 5 records of stock 0\n",
    "print(\"Last 5 entries of trimmed 1st stock:\\n\",np.array(trimmedStock0[-5:]))\n",
    "\n",
    "assert(trimmedStock0[0][0] == start), \"the first record must contain the price in the first day of time interval\"\n",
    "assert(trimmedStock0[-1][0] == end), \"the last record must contain the price in the last day of time interval\""
   ]
  },
  {
   "cell_type": "markdown",
   "metadata": {},
   "source": [
    "<div class=\"alert alert-warning\">\n",
    "\n",
    "In order to have our data aligned because we want to compare the factors and the data for the same time interval, we have to trim the data to the same time region. To achieve this we keep only the data that corresponds to the time region of 5 years chosen.\n",
    "<br>\n",
    "But, in order to totally align the data, we also need to be sure that we have the same number of data exactly, that means to fill the blanks.\n",
    "\n",
    "</div>"
   ]
  },
  {
   "cell_type": "markdown",
   "metadata": {},
   "source": [
    "### Dealing with missing values\n",
    "We expect that we have the price of instruments and factors **in each business day**. Unfortunately, there are many missing values in our data: this means that we miss data for some days, e.g. we have data for the Monday of a certain week, but not for the subsequent Tuesday. So, we need a function that helps filling these missing values.\n",
    "\n",
    "Next, we provide to you the function to fill missing value: read it carefully!"
   ]
  },
  {
   "cell_type": "code",
   "execution_count": 57,
   "metadata": {
    "collapsed": true
   },
   "outputs": [],
   "source": [
    "def fillInHistory(history, start, end):\n",
    "    curr = history\n",
    "    filled = []\n",
    "    idx = 0\n",
    "    curDate = start\n",
    "    numEntries = len(history)\n",
    "    while curDate < end:\n",
    "        \n",
    "        # if the next entry is in the same day\n",
    "        # or the next entry is at the weekend\n",
    "        # but the curDate has already skipped it and moved to the next monday\n",
    "        # (only in that case, curr[idx + 1][0] < curDate )\n",
    "        # then move to the next entry\n",
    "        while idx + 1 < numEntries and curr[idx + 1][0] == curDate:\n",
    "            idx +=1\n",
    "\n",
    "        # only add the last value of instrument in a single day\n",
    "        # check curDate is weekday or not\n",
    "        # 0: Monday -> 5: Saturday, 6: Sunday \n",
    "        if curDate.weekday() < 5:\n",
    "            \n",
    "            filled.append((curDate, curr[idx][1]))\n",
    "            # move to the next business day\n",
    "            curDate += timedelta(days=1)\n",
    "        \n",
    "        # skip the weekends\n",
    "        elif curDate.weekday() >= 5:\n",
    "            # if curDate is Sat, skip 2 days, otherwise, skip 1 day\n",
    "            curDate += timedelta(days=(7-curDate.weekday()))\n",
    "\n",
    "    return filled"
   ]
  },
  {
   "cell_type": "markdown",
   "metadata": {},
   "source": [
    "#### Question 4.5\n",
    "<div class=\"alert alert-info\">\n",
    "Trim data of stocks and factors into the given time interval.\n",
    "</div>"
   ]
  },
  {
   "cell_type": "code",
   "execution_count": 58,
   "metadata": {},
   "outputs": [
    {
     "name": "stdout",
     "output_type": "stream",
     "text": [
      "The first 5 records of stock 0:\n",
      " [[datetime.datetime(2009, 1, 23, 0, 0) 19.549999]\n",
      " [datetime.datetime(2009, 1, 26, 0, 0) 19.809999]\n",
      " [datetime.datetime(2009, 1, 27, 0, 0) 20.09]\n",
      " [datetime.datetime(2009, 1, 28, 0, 0) 21.620001]\n",
      " [datetime.datetime(2009, 1, 29, 0, 0) 19.82]] \n",
      "\n",
      "The last 5 records of stock 0:\n",
      " [[datetime.datetime(2014, 1, 16, 0, 0) 37.400002]\n",
      " [datetime.datetime(2014, 1, 17, 0, 0) 37.380001]\n",
      " [datetime.datetime(2014, 1, 20, 0, 0) 37.380001]\n",
      " [datetime.datetime(2014, 1, 21, 0, 0) 37.82]\n",
      " [datetime.datetime(2014, 1, 22, 0, 0) 37.68]] \n",
      "\n",
      "The first 5 records of factor 0:\n",
      " [[datetime.datetime(2009, 1, 23, 0, 0) 46.47]\n",
      " [datetime.datetime(2009, 1, 26, 0, 0) 45.73]\n",
      " [datetime.datetime(2009, 1, 27, 0, 0) 41.58]\n",
      " [datetime.datetime(2009, 1, 28, 0, 0) 42.16]\n",
      " [datetime.datetime(2009, 1, 29, 0, 0) 41.44]] \n",
      "\n",
      "The first 5 records of factor 0:\n",
      " [[datetime.datetime(2014, 1, 16, 0, 0) 93.96]\n",
      " [datetime.datetime(2014, 1, 17, 0, 0) 94.37]\n",
      " [datetime.datetime(2014, 1, 20, 0, 0) 93.93]\n",
      " [datetime.datetime(2014, 1, 21, 0, 0) 94.99]\n",
      " [datetime.datetime(2014, 1, 22, 0, 0) 96.73]] \n",
      "\n"
     ]
    }
   ],
   "source": [
    "# trim into a specific time region\n",
    "# and fill up the missing values\n",
    "stocks = list(map(lambda stock: \\\n",
    "            fillInHistory(\n",
    "                trimToRegion(stock, start, end), \n",
    "            start, end), \n",
    "        rawStocks))\n",
    "\n",
    "# merge two factors, trim each factor into a time region\n",
    "# and fill up the missing values\n",
    "allfactors = factors1 + factors2\n",
    "factors = list(map(lambda factor: \\\n",
    "                fillInHistory(\n",
    "                    trimToRegion(factor, start, end), \n",
    "                start, end), \n",
    "            allfactors))\n",
    "            \n",
    "# test our code\n",
    "print(\"The first 5 records of stock 0:\\n\", np.array(stocks[0][:5]), \"\\n\")\n",
    "print(\"The last 5 records of stock 0:\\n\", np.array(stocks[0][-5:]), \"\\n\")\n",
    "print(\"The first 5 records of factor 0:\\n\", np.array(factors[0][:5]), \"\\n\")\n",
    "print(\"The first 5 records of factor 0:\\n\", np.array(factors[0][-5:]), \"\\n\")"
   ]
  },
  {
   "cell_type": "markdown",
   "metadata": {},
   "source": [
    "<div class=\"alert alert-warning\">\n",
    "\n",
    "Here we see that after the fillInHistory function, we loose the last date 2014/1/23. It's because of the line \"while curDate < end:\" in the function, if we use \"<=\" instead, we retrieve the last date. But it's not really important to have one date more. And by having the 2014/1/22 as the last date, we have exactly 5 years of data, where we had 5 years and 1 day of data before.\n",
    "\n",
    "</div>"
   ]
  },
  {
   "cell_type": "code",
   "execution_count": 59,
   "metadata": {},
   "outputs": [
    {
     "name": "stdout",
     "output_type": "stream",
     "text": [
      "The number of data each stock has is: 1304\n",
      "The number of data each factor has is: 1304\n"
     ]
    }
   ],
   "source": [
    "#Verify that all stocks have the same number of data after the process\n",
    "lenStocks = [len(stock) for stock in stocks]\n",
    "assert(lenStocks == [lenStocks[0]]*len(lenStocks)), \"All stocks doesn't have the same number of data.\"\n",
    "print(\"The number of data each stock has is:\",lenStocks[0])\n",
    "\n",
    "#Verify that all stocks have the same number of data after the process\n",
    "lenFactors = [len(factor) for factor in factors]\n",
    "assert(lenFactors == [lenFactors[0]]*len(lenFactors)), \"All factors doesn't have the same number of data.\"\n",
    "print(\"The number of data each factor has is:\",lenFactors[0])\n",
    "\n",
    "#Verify stocks and factors have the same number of data\n",
    "assert(lenStocks[0] == lenFactors[0]), \"Stocks and factors doesn't have the same number of data\"\n",
    "numberOfData = lenStocks[0]"
   ]
  },
  {
   "cell_type": "code",
   "execution_count": 60,
   "metadata": {},
   "outputs": [],
   "source": [
    "#Verify all dates are aligned\n",
    "referenceDates = [x[0] for x in stocks[0]]\n",
    "datesAlign = True\n",
    "\n",
    "#Verify the stocks date align to the first stock\n",
    "for stock in stocks[1:]:\n",
    "    datesOfStock = [x[0] for x in stock]\n",
    "    if datesOfStock != referenceDates:\n",
    "        datesAlign = False\n",
    "        break\n",
    "#Verify the factors date align to the first stock\n",
    "for factor in factors:\n",
    "    datesOfFactor = [x[0] for x in factor]\n",
    "    if datesOfFactor != referenceDates:\n",
    "        datesAlign = False\n",
    "        break\n",
    "\n",
    "assert(datesAlign == True), \"The dates of stocks data or factors data are not all aligned.\""
   ]
  },
  {
   "cell_type": "markdown",
   "metadata": {},
   "source": [
    "<div class=\"alert alert-warning\">\n",
    "\n",
    "We have verified that all stocks and factors have the same number of data and for the same dates.\n",
    "\n",
    "</div>"
   ]
  },
  {
   "cell_type": "markdown",
   "metadata": {},
   "source": [
    "Recall that Value at Risk (VaR) deals with **losses over a particular time horizon**. We are not concerned with the absolute prices of instruments, but how those prices **change over** a given period of time. In our project, we will set that length to two weeks: we use the sliding window method to transform time series of prices into an overlapping sequence of price change over two-week intervals.\n",
    "\n",
    "The figure below illustrates this process. The returns of market factors after each two-week interval is calculated in the very same way.\n",
    "\n",
    "![](https://dl.dropboxusercontent.com/s/r9ucsicichb6gjh/two-week-time-interval.svg)"
   ]
  },
  {
   "cell_type": "code",
   "execution_count": 61,
   "metadata": {
    "collapsed": true
   },
   "outputs": [],
   "source": [
    "def buildWindow(seq, k=2):\n",
    "    \"\"\"\n",
    "    Returns a sliding window (of width k) over data from iterable data structures\n",
    "    s -> (s0,s1,...s[k-1]), (s1,s2,...,sk), ...\n",
    "    \"\"\"\n",
    "    it = iter(seq)\n",
    "    result = tuple(islice(it, k))\n",
    "    if len(result) == k:\n",
    "        yield result  \n",
    "    for elem in it:\n",
    "        result = result[1:] + (elem,)\n",
    "        yield result"
   ]
  },
  {
   "cell_type": "markdown",
   "metadata": {},
   "source": [
    "#### Question 4.6\n",
    "<div class=\"alert alert-info\">\n",
    "Compute the returns of the stocks after each two-week time window.\n",
    "</div>"
   ]
  },
  {
   "cell_type": "code",
   "execution_count": 62,
   "metadata": {},
   "outputs": [],
   "source": [
    "def calculateReturn(window):\n",
    "    \"\"\"\n",
    "    Returns the change of value after two weeks.\n",
    "    \"\"\"\n",
    "    return window[-1][1] - window[0][1]\n",
    "\n",
    "def twoWeekReturns(history):\n",
    "    \"\"\"\n",
    "    Returns the change of value for each two weeks (=10 days) window in the history.\n",
    "    \"\"\"\n",
    "    # we use 10 instead of 14 to define the window\n",
    "    # because financial data does not include weekends\n",
    "    return [calculateReturn(entry) for entry in buildWindow(history, 10)]"
   ]
  },
  {
   "cell_type": "code",
   "execution_count": 63,
   "metadata": {},
   "outputs": [
    {
     "name": "stdout",
     "output_type": "stream",
     "text": [
      "the first 5 returns of stock 0: [1.0899999999999999, 0.8700009999999985, 0.2999989999999997, -2.3100019999999972, 0.13999899999999954]\n",
      "the last 5 returns of stock 0: [-1.3099970000000027, -0.6899990000000003, -0.7999989999999997, 0.27999900000000366, -0.11999899999999997]\n"
     ]
    }
   ],
   "source": [
    "stocksReturns = list(map(twoWeekReturns, stocks))\n",
    "factorsReturns = list(map(twoWeekReturns, factors))\n",
    "\n",
    "# test our functions\n",
    "print(\"the first 5 returns of stock 0:\", stocksReturns[0][:5])\n",
    "print(\"the last 5 returns of stock 0:\", stocksReturns[0][-5:])"
   ]
  },
  {
   "cell_type": "markdown",
   "metadata": {},
   "source": [
    "Alright! Now we have data that is properly aligned to start the training process: stocks' returns and factors' returns, per time windows of two weeks. Next, we will apply the MCS method."
   ]
  },
  {
   "cell_type": "code",
   "execution_count": 64,
   "metadata": {},
   "outputs": [],
   "source": [
    "#Function to retrieve the cleaned data\n",
    "\n",
    "def retrieveCleanedData(nbStocks=35, nbYearMin=5, allfactors=factors1+factors2):\n",
    "    \"\"\"\n",
    "    Returns a tuple (stocksReturns, factorsReturns).\n",
    "    stocksReturns = [listReturnsFirstStock, ..., listReturnsLastStock]\n",
    "    factorsReturns = [listReturnsFirstFactor, ..., listReturnsLastFactor]\n",
    "    \n",
    "    How to use ?\n",
    "    stocksReturns, factorsReturns = retrieveCleanedData(nbStocks=, nbYearMin=)\n",
    "    \"\"\"\n",
    "    \n",
    "    #retrieve stocks (admit factors are already retrieved)\n",
    "    retrieveStockData(nbStocks, nbYearMin)\n",
    "    \n",
    "    # trim into a specific time region and fill up the missing values\n",
    "    stocks = list(map(lambda stock: fillInHistory(trimToRegion(stock, start, end), start, end), rawStocks))\n",
    "    factors = list(map(lambda factor: fillInHistory(trimToRegion(factor, start, end), start, end), allfactors))\n",
    "    \n",
    "    stocksReturns = list(map(twoWeekReturns, stocks))\n",
    "    factorsReturns = list(map(twoWeekReturns, factors))\n",
    "    \n",
    "    return stocksReturns, factorsReturns"
   ]
  },
  {
   "cell_type": "markdown",
   "metadata": {},
   "source": [
    "## 5.5. Summary guidelines to apply the MCS method on the data we prepared\n",
    "Next, we overview the steps that you have to follow to build a model of your data, and then use Monte Carlo simulations to produce output distributions:\n",
    "\n",
    "- **Step 1**: Defining the relationship between the market factors and the instrument's returns. This relationship takes the form of a model fitted to historical data.\n",
    "- **Step 2**: Defining the distributions for the market conditions (particularly, the returns of factors) that are straightforward to sample from. These distributions are fitted to historical data. \n",
    "- **Step 3**: Generate the data for each trial of a Monte Carlo run: this amount to generating the random values for market conditions along with these distributions.\n",
    "- **Step 4**: For each trial, from the above values of market conditions, and using the relationship built in step 1, we calculate the return for each instrument and the total return. We use the returns to define an empirical distribution over losses. This means that, if we run 100 trials and want to estimate the 5% VaR, we would choose it as the loss from the trial with the fifth greatest loss.\n",
    "- **Step 5**: Evaluating the result"
   ]
  },
  {
   "cell_type": "markdown",
   "metadata": {},
   "source": [
    "## 5.6. Applying MCS\n",
    "\n",
    "### Step 1: Defining relationship between market factors and instrument's returns\n",
    "\n",
    "In our simulation, we will use a simple linear model. By our definition of return, a factor return is a **change** in the value of a market factor **over a particular time period**, e.g. if the value of the S&P 500 moves from 2000 to 2100 over a time interval, its return would be 100.\n",
    "\n",
    "A vector that contains the return of 4 market factors is called a *market factor vector*. Generally, instead of using this vector as features, we derive a set of features from simple transformation of it. In particular, a vector of 4 values is transformed into a vector of length $m$ by function $F$. In the simplest case $F(v) = v$.\n",
    "\n",
    "Denote $v_t$ the market factor vector, and $f_t$ the transformed features of $v_t$ at time $t$.\n",
    "\n",
    "$f_{tj}$ is the value of feature $j$ in $f_t$.\n",
    "\n",
    "Denote $r_{it}$ the return of instrument $i$ at time $t$ and $c_i$ the [intercept term](http://blog.minitab.com/blog/adventures-in-statistics/regression-analysis-how-to-interpret-the-constant-y-intercept) of instrument $i$.\n",
    "\n",
    "We will use a simple linear function to calculate $r_{it}$ from $f_t$:\n",
    "\n",
    "$$\n",
    "r_{it} = c_i + \\sum_{j=1}^{m}{w_{ij}*f_{tj}}\n",
    "$$\n",
    "\n",
    "where $w_{ij}$ is the weight of feature $j$ for instrument $i$.\n",
    "\n",
    "All that above means that given a market factor vector, we have to apply featurization and then use the result as a surrogate for calculating the return of the instruments, using the above linear function.\n",
    "\n",
    "There are two questions that we should consider: **how we apply featurization to a factor vector?** and **how to pick values for $w_{ij}$?**\n",
    "\n",
    "**How we apply featurization to a factor vector?**\n",
    "In fact, the instruments' returns may be non-linear functions of the factor returns. So, we should not use factor returns as features in the above linear function. Instead, we transform them into a set of features with different size. In this Notebook, we can include some additional features in our model that we derive from non-linear transformations of the factor returns. We will try adding two more features for each factor return: its square and its square root values. So, we can still assume that our model is a linear model in the sense that the response variable is a linear function of the new features. *Note that the particular feature transformation described here is meant to be an illustrative example of some of the options that are available: it shouldn't be considered as the state of the art in predictive financial modeling!!*.\n",
    "\n",
    "**How to pick values for $w_{ij}$?**\n",
    "\n",
    "For all the market factor vectors in our historical data, we transform them to feature vectors. Now, we have feature vectors in many two-week intervals and the corresponding instrument's returns in these intervals. We can use Ordinary Least Square (OLS) regression model to estimate the weights for each instrument such that our linear function can fit to the data. The parameters for OLS function are:\n",
    "\n",
    "- `x`: The collection of columns where **each column** is the value of **a feature** in many two-week interval\n",
    "- `y`: The return of an instrument in the corresponding time interval of x."
   ]
  },
  {
   "cell_type": "markdown",
   "metadata": {},
   "source": [
    "The figure below shows the basic idea of the process to build a statistical model for predicting the returns of stock X.\n",
    "\n",
    "![](https://dl.dropboxusercontent.com/s/kbjtwmnr4w31uev/process-build-model3.svg)\n"
   ]
  },
  {
   "cell_type": "markdown",
   "metadata": {},
   "source": [
    "### Question 5\n",
    "#### Question 5.1\n",
    "\n",
    "<div class=\"alert alert-info\">\n",
    "Currently, our data is in form of:  \n",
    "\n",
    "$$\n",
    "factorsReturns=\n",
    "\\begin{bmatrix}\n",
    " r_{00} & r_{01} & r_{02} & ... & r_{0k} \\\\\n",
    " r_{10} & r_{11} & r_{12} & ... & r_{1k} \\\\\n",
    " ... & ... & ... & ... & ... \\\\\n",
    " r_{n0} & r_{n1} & r_{n2} & ... & r_{nk}\\\\\n",
    "\\end{bmatrix}\n",
    "$$\n",
    "\n",
    "<ul></ul>\n",
    "\n",
    "$$\n",
    "stocksReturns=\n",
    "\\begin{bmatrix}\n",
    " s_{00} & s_{01} & s_{02} & ... & s_{0k} \\\\\n",
    " s_{10} & s_{11} & s_{12} & ... & s_{1k} \\\\\n",
    " ... & ... & ... & ... & ... \\\\\n",
    " s_{n0} & s_{n1} & s_{n2} & ... & s_{nk}\\\\\n",
    "\\end{bmatrix}\n",
    "$$\n",
    "\n",
    "<ul></ul>\n",
    "\n",
    "Where, $r_{ij}$ is the return of factor $i^{th}$ in time window $j^{th}$, $k$ is the number of time windows, and $n$ is the number of factors. A similar definition goes for $s_{ij}$.\n",
    "\n",
    "<ul></ul>\n",
    "\n",
    "In order to use OLS, the parameter must be in form of:\n",
    "\n",
    "<ul></ul>\n",
    "\n",
    "$$\n",
    "x=factorsReturns^T =\n",
    "\\begin{bmatrix}\n",
    " r_{00} & r_{10} & ... & r_{n0} \\\\\n",
    " r_{01} & r_{11} & ... & r_{n1} \\\\\n",
    " r_{02} & r_{12} & ... & r_{n2}\\\\\n",
    " ... & ... & ... & ... \\\\\n",
    " r_{0k} & r_{1k} & ... & r_{nk}\\\\\n",
    "\\end{bmatrix}\n",
    "$$\n",
    "\n",
    "<ul></ul>\n",
    "\n",
    "Whereas, $y$ can be any row in `stocksReturns`.\n",
    "\n",
    "<ul></ul>\n",
    "\n",
    "So, we need a function to transpose a matrix. Write a function named `transpose` to do just that.\n",
    "</div>"
   ]
  },
  {
   "cell_type": "code",
   "execution_count": 65,
   "metadata": {},
   "outputs": [],
   "source": [
    "def transpose(matrix):\n",
    "    \"\"\"\n",
    "    Returns the transposed matrix as a list of lists.\n",
    "    \"\"\"\n",
    "    return [[matrix[i][j] for i in range (len(matrix))] for j in range(len(matrix[0]))] #list comprehension method\n",
    "    #return np.array(matrix).T.tolist() #numpy method, easier to code\n",
    "    \n",
    "# test function\n",
    "assert (transpose([[1,2,3], [4,5,6], [7,8,9]]) == [[1, 4, 7], [2, 5, 8], [3, 6, 9]]), \"Function transpose runs incorrectly\""
   ]
  },
  {
   "cell_type": "markdown",
   "metadata": {},
   "source": [
    "#### Question 5.2\n",
    "<div class=\"alert alert-info\">\n",
    "Write a function named `featurize` that takes a list factor's returns $[x_1, x_2,...,x_k]$ and transform it into a new list of features $[u_1,u_2,..,u_k, v_1, v_2,..,v_k, x_1,x_2,...,x_k]$.\n",
    "\n",
    "<ul></ul>\n",
    "\n",
    "Where,  \n",
    "\n",
    "\n",
    "$u_i$ = $\\left\\{\n",
    "\t\\begin{array}{ll}\n",
    "\t\tx_i^2 & \\mbox{if } x_i \\geq 0 \\\\\n",
    "\t\t-x_i^2 & \\mbox{if } x_i < 0\n",
    "\t\\end{array}\n",
    "\\right.\n",
    "$\n",
    "\n",
    "<ul></ul>\n",
    "\n",
    "and  \n",
    "\n",
    "$v_i$ = $\\left\\{\n",
    "\t\\begin{array}{ll}\n",
    "\t\t\\sqrt{x_i} & \\mbox{if } x_i \\geq 0 \\\\\n",
    "\t\t-\\sqrt{x_i} & \\mbox{if } x_i < 0\n",
    "\t\\end{array}\n",
    "\\right.\n",
    "$  \n",
    "\n",
    "</div>"
   ]
  },
  {
   "cell_type": "code",
   "execution_count": 66,
   "metadata": {},
   "outputs": [],
   "source": [
    "def featurize(factorReturns):\n",
    "    \"\"\"\n",
    "    Returns the list of squared factors + sqrt factors + factors.\n",
    "    Ex : featurize([4, -9, 25]) = [16, -81, 625, 2, -3, 5, 4, -9, 25]\n",
    "    \"\"\"\n",
    "    squaredReturns = [np.sign(factor)*factor**2 for factor in factorReturns]\n",
    "    squareRootedReturns = [np.sign(factor)*np.sqrt(abs(factor)) for factor in factorReturns]\n",
    "    # concat new features\n",
    "    return squaredReturns + squareRootedReturns + factorReturns\n",
    "\n",
    "# test our function\n",
    "assert (featurize([4, -9, 25]) == [16, -81, 625, 2, -3, 5, 4, -9, 25]), \"Function runs incorrectly\""
   ]
  },
  {
   "cell_type": "markdown",
   "metadata": {},
   "source": [
    "#### Question 5.3\n",
    "<div class=\"alert alert-info\">\n",
    "Using OLS, estimate the weights for each feature on each stock. What is the shape of `weights` (size of each dimension)?  \n",
    "\n",
    "Explain it.\n",
    "</div>"
   ]
  },
  {
   "cell_type": "code",
   "execution_count": 67,
   "metadata": {},
   "outputs": [],
   "source": [
    "def estimateParams(y, x):\n",
    "    \"\"\"\n",
    "    Returns estimated params list thanks to OLS.\n",
    "    \"\"\"\n",
    "    return sm.OLS(y, x).fit().params\n",
    "\n",
    "def findWeights(featurizeFunction=featurize):\n",
    "    \"\"\"\n",
    "    :param featurizeFunction: function that returns a list of features, given a list of factors.\n",
    "    \n",
    "    Returns weights list of lists matrix where each line is a stock, and each column is a weight for the model.\n",
    "    \n",
    "    Be careful: We admit that factorsReturns and stocksReturns are already known.\n",
    "    \"\"\"\n",
    "    \n",
    "    # transpose factorsReturns\n",
    "    factorMat = transpose(factorsReturns)\n",
    "\n",
    "    # featurize each row of factorMat\n",
    "    factorFeatures = list(map(featurizeFunction,factorMat))\n",
    "\n",
    "    # OLS required parameter is a numpy array\n",
    "    factor_columns = np.array(factorFeatures)\n",
    "\n",
    "    #add a constant - the intercept term for each instrument i.\n",
    "    factor_columns = sm.add_constant(factor_columns, prepend=True)\n",
    "\n",
    "    # estimate weights for each stock of stocksReturns\n",
    "    weights = [estimateParams(stockReturns,factor_columns) for stockReturns in stocksReturns]\n",
    "    return weights"
   ]
  },
  {
   "cell_type": "code",
   "execution_count": 68,
   "metadata": {},
   "outputs": [
    {
     "name": "stdout",
     "output_type": "stream",
     "text": [
      "weights for first 5 stocks:\n",
      " [[ 3.20898766e-03 -2.45485295e-03 -6.25853573e+00  2.02191163e-04\n",
      "  -4.27891642e-05  3.68096310e-02 -1.03671044e+00  2.69314316e-02\n",
      "  -6.26576798e-02  3.19971474e-06  3.63833062e+00  3.38909501e-03\n",
      "   1.11211759e-02]\n",
      " [-8.94744122e-02  2.44886213e-03 -2.43299006e+00  2.91040561e-04\n",
      "  -5.42223122e-05  1.91384440e-01  7.04395045e-01  1.10048307e-01\n",
      "  -4.83945095e-02 -1.00716645e-01  7.50871857e-01 -3.81844287e-02\n",
      "   3.12688061e-02]\n",
      " [-1.43645330e-02  2.46869212e-03 -1.94365640e+00  5.55846589e-05\n",
      "  -1.27737863e-05  3.86113786e-02 -2.05334039e-01  1.90255397e-03\n",
      "  -2.24765287e-03 -4.80912323e-02  9.70523887e-01 -1.50022520e-03\n",
      "   2.52739843e-03]\n",
      " [ 4.63892014e-02 -3.41977168e-04 -1.52753597e+00  7.08864363e-06\n",
      "  -3.12310764e-06  1.31500668e-02  1.28905126e-01  5.86038045e-02\n",
      "  -5.74148252e-02  3.65335888e-03 -3.52701144e-01 -7.95456915e-03\n",
      "   9.39141887e-03]\n",
      " [-1.87102399e-01  7.77028656e-03  2.74275538e+00  3.97266891e-04\n",
      "  -6.99966494e-05 -8.19697499e-03  4.88819094e-01  2.81979234e-01\n",
      "  -8.25918424e-02 -8.26326276e-02  7.96296339e-01 -6.76392840e-02\n",
      "   2.66961315e-02]]\n"
     ]
    }
   ],
   "source": [
    "weights = findWeights()\n",
    "\n",
    "print(\"weights for first 5 stocks:\\n\", np.array(weights)[0:5])"
   ]
  },
  {
   "cell_type": "code",
   "execution_count": 69,
   "metadata": {},
   "outputs": [
    {
     "name": "stdout",
     "output_type": "stream",
     "text": [
      "Number of lines: 29 \n",
      "Number of columns: 13\n"
     ]
    }
   ],
   "source": [
    "weightsShape = np.array(weights).shape\n",
    "print(\"Number of lines:\", weightsShape[0], \"\\nNumber of columns:\", weightsShape[1])"
   ]
  },
  {
   "cell_type": "markdown",
   "metadata": {},
   "source": [
    "<div class=\"alert alert-warning\">\n",
    "\n",
    "The number of columns is 29 and corresponds to the number of stocks. The number of lines is 13 and corresponds to the number of features +1 because of the constant.\n",
    "<br>\n",
    "For each stock, we get a model with different weights for each factor. The weights of the model depends on the stock. For each stock we have the same model that is a linear combination of the features squared factor, squared root factors and factors, plus a constant.\n",
    "<br>\n",
    "In order to improve the results if it is necessary, we could have a different model for each stock, and maybe not stay with these 3 possibilities of featurization.\n",
    "\n",
    "</div>"
   ]
  },
  {
   "cell_type": "markdown",
   "metadata": {},
   "source": [
    "### Step 2: Defining the distributions for the market conditions\n",
    "Since we cannot define the distributions for the market factors directly, we can only approximate their distribution.\n",
    "The best way to do that, is plotting their value. However, these values may fluctuate quite a lot. \n",
    "\n",
    "Next, we show how to use the Kernel density estimation (KDE) technique to approximate such distributions. In brief, kernel density estimation is a way of smoothing out a histogram: this is achieved by assigning (or centering) a probability distribution (usually a normal distribution) to each data point, and then summing. So, a set of two-week-return samples would result in a large number of \"super-imposed\" normal distributions, each with a different mean. \n",
    "\n",
    "To estimate the probability density at a given point, KDE evaluates the PDFs of all the normal distributions at that point and takes their average. The smoothness of a kernel density plot depends on its *bandwidth*, and the standard deviation of each of the normal distributions. For a brief introduction on KDE, please refer to this [link](https://en.wikipedia.org/wiki/Kernel_density_estimation)."
   ]
  },
  {
   "cell_type": "code",
   "execution_count": 70,
   "metadata": {},
   "outputs": [],
   "source": [
    "from statsmodels.nonparametric.kernel_density import KDEMultivariate\n",
    "from statsmodels.nonparametric.kde import KDEUnivariate\n",
    "import matplotlib.pyplot as plt\n",
    "import scipy"
   ]
  },
  {
   "cell_type": "code",
   "execution_count": 71,
   "metadata": {},
   "outputs": [],
   "source": [
    "def plotDistribution(samples, show=True):\n",
    "    \"\"\"\n",
    "    :param show: True = plt.show() at the end.\n",
    "    Plots the distribution of samples thanks to a Kernel Density Estimation (KDE).\n",
    "    \"\"\"\n",
    "    \n",
    "    vmin = min(samples)\n",
    "    vmax = max(samples)\n",
    "    stddev = np.std(samples)\n",
    "    \n",
    "    domain = np.arange(vmin, vmax, (vmax-vmin)/100)\n",
    "    \n",
    "    # a simple heuristic to select bandwidth\n",
    "    bandwidth = 1.06 * stddev * pow(len(samples), -.2)\n",
    "    \n",
    "    # estimate density\n",
    "    kde = KDEUnivariate(samples)\n",
    "    kde.fit(bw=bandwidth)\n",
    "    density = kde.evaluate(domain)\n",
    "    \n",
    "    # plot\n",
    "    plt.plot(domain, density)\n",
    "    if show == True: plt.show()"
   ]
  },
  {
   "cell_type": "code",
   "execution_count": 72,
   "metadata": {
    "collapsed": false,
    "scrolled": true
   },
   "outputs": [
    {
     "data": {
      "image/png": "[encoded data removed]",
      "text/plain": [
       "<matplotlib.figure.Figure at 0x7f57d60b6780>"
      ]
     },
     "metadata": {},
     "output_type": "display_data"
    }
   ],
   "source": [
    "plt.figure(figsize=(20,10))\n",
    "plt.suptitle('KDE compared with simple histogramms',fontsize=14)\n",
    "\n",
    "for i in range (4):\n",
    "    \n",
    "    #KDE\n",
    "    plt.subplot(2,4,i+1)\n",
    "    plotDistribution(factorsReturns[i], show=False)\n",
    "    plt.title('Factor '+str(i)+' return')\n",
    "    \n",
    "    #histogram\n",
    "    plt.subplot(2,4,i+5)\n",
    "    plt.hist(factorsReturns[i],normed=True)\n",
    "    \n",
    "plt.show()"
   ]
  },
  {
   "cell_type": "markdown",
   "metadata": {},
   "source": [
    "For the sake of simplicity, we can say that our smoothed versions of the returns of each factor can be represented quite well by a normal distribution. Of course, more exotic distributions, perhaps with fatter tails, could fit more closely the data, but it is outside the scope of this Notebook to proceed in this way.\n",
    "\n",
    "Now, the simplest way to sample factors returns is to use a normal distribution for each of the factors, and sample from these distributions independently. However, this approach ignores the fact that market factors are often correlated. For example, when the price of crude oil is down, the price of treasury bonds is down too. We can check our data to verify about the correlation."
   ]
  },
  {
   "cell_type": "markdown",
   "metadata": {},
   "source": [
    "### Question 6\n",
    "\n",
    "#### Question 6.1\n",
    "<div class=\"alert alert-info\">\n",
    "\n",
    "Calculate the correlation between market factors and explain the result.\n",
    "\n",
    "</div>\n",
    "\n",
    "<div class=\"label label-success\">HINT</div> function `np.corrcoef` might be useful."
   ]
  },
  {
   "cell_type": "code",
   "execution_count": 73,
   "metadata": {},
   "outputs": [
    {
     "name": "stdout",
     "output_type": "stream",
     "text": [
      "[[1.         0.38788549 0.47411609 0.45841194]\n",
      " [0.38788549 1.         0.58447669 0.58306416]\n",
      " [0.47411609 0.58447669 1.         0.95227596]\n",
      " [0.45841194 0.58306416 0.95227596 1.        ]]\n"
     ]
    }
   ],
   "source": [
    "correlation = np.corrcoef(factorsReturns)\n",
    "print(correlation)"
   ]
  },
  {
   "cell_type": "code",
   "execution_count": 74,
   "metadata": {},
   "outputs": [
    {
     "data": {
      "image/png": "[encoded data removed]",
      "text/plain": [
       "<matplotlib.figure.Figure at 0x7f57c5605b00>"
      ]
     },
     "metadata": {},
     "output_type": "display_data"
    }
   ],
   "source": [
    "mat1 = plt.matshow(correlation,cmap=plt.cm.Greens)\n",
    "plt.title(\"Visualisation of the covariance matrix thanks to a colormap\")\n",
    "plt.show()"
   ]
  },
  {
   "cell_type": "code",
   "execution_count": 75,
   "metadata": {},
   "outputs": [
    {
     "data": {
      "image/png": "[encoded data removed]",
      "text/plain": [
       "<matplotlib.figure.Figure at 0x7f57cf657dd8>"
      ]
     },
     "metadata": {},
     "output_type": "display_data"
    }
   ],
   "source": [
    "plt.figure(figsize=(20,10))\n",
    "cmap = plt.cm.get_cmap(\"Greens\")\n",
    "\n",
    "for i in range(4):\n",
    "    for j in range(4):\n",
    "        plt.subplot(4,4,4*i+j+1)\n",
    "        plt.scatter(factorsReturns[i], factorsReturns[j], color=cmap(correlation[i][j]), alpha=0.3)\n",
    "        \n",
    "plt.suptitle(\"Scatter plots of (factorRatio i, factorRatio j), sort of correlation matrix\",fontsize=15)\n",
    "cax = plt.axes([1, 0.1, 0.075, 0.8])\n",
    "plt.colorbar(mat1,cax=cax)\n",
    "plt.show()"
   ]
  },
  {
   "cell_type": "markdown",
   "metadata": {},
   "source": [
    "<div class=\"comment\">\n",
    "\n",
    "PUT YOUR COMMENT HERE\n",
    "\n",
    "</div>"
   ]
  },
  {
   "cell_type": "markdown",
   "metadata": {},
   "source": [
    "The multivariate normal distribution can help here by taking the correlation information between the factors into account. Each sample from a multivariate normal distribution can be thought of as a vector. Given values for all of the dimensions but one, the distribution of values along that dimension is normal. But, in their joint distribution, the variables are not independent.\n",
    "\n",
    "For this use case, we can write:\n",
    "\n",
    "$$\n",
    "\\left(\\begin{array}{c}f_{1}\\\\f_{2}\\\\f_{3}\\\\f_{4} \\end{array}\\right)\n",
    "\\sim N \n",
    "\\left[\n",
    "  \\left(\n",
    "    \\begin{array}{c}\n",
    "      \\mu_1\\\\ \\mu_2 \\\\ \\mu_3 \\\\ \\mu_4 \n",
    "    \\end{array}\n",
    "  \\right), \n",
    "  \\left(\n",
    "    \\begin{array}{cccc}\n",
    "      \\sigma^2_1 & \\rho_{12} \\sigma_1\\sigma_2 & \\rho_{13} \\sigma_1\\sigma_3 & \\rho_{14} \\sigma_1\\sigma_4 \\\\ \n",
    "      \\rho_{12}\\sigma_2\\sigma_1 & \\sigma^2_2 & \\rho_{23} \\sigma_2\\sigma_3 & \\rho_{24} \\sigma_2\\sigma_4\\\\\n",
    "      \\rho_{13} \\sigma_3\\sigma_1 & \\rho_{23} \\sigma_3\\sigma_2 & \\sigma^2_3 & \\rho_{34} \\sigma_3\\sigma_4 \\\\ \n",
    "      \\rho_{14} \\sigma_4\\sigma_1 & \\rho_{24} \\sigma_4\\sigma_2 & \\rho_{34} \\sigma_3\\sigma_4 & \\sigma_4^2 \\\\ \n",
    "    \\end{array}\n",
    "  \\right)\n",
    "\\right]\n",
    "$$\n",
    "\n",
    "Or,\n",
    "\n",
    "$$\n",
    "f_t \\sim N(\\mu, \\sum)\n",
    "$$\n",
    "\n",
    "Where $f_1$, $f_2$, $f_3$ and $f_4$ are the market factors, $\\sigma_i$ is the standard deviation of factor $i$, $\\mu$ is a vector of the empirical means of the returns of the factors and $\\sum$ is the empirical covariance matrix of the returns of the factors.\n",
    "\n",
    "The multivariate normal is parameterized with a mean along each dimension and a matrix describing the covariance between each pair of dimensions. When the covariance matrix is diagonal, the multivariate normal reduces to sampling along each dimension independently, but placing non-zero values in the off-diagonals helps capture the relationships between variables. Whenever having the mean of this multivariate normal distribution and its covariance matrix, we can generate the sample values for market factors.\n",
    "\n",
    "Next, we will calculate the mean and the covariance matrix of this multivariate normal distribution from the historical data.\n"
   ]
  },
  {
   "cell_type": "markdown",
   "metadata": {},
   "source": [
    "#### Question 6.2\n",
    "<div class=\"alert alert-info\">\n",
    "\n",
    "Calculate the covariance matrix $\\sum$ and the means $\\mu$ of factors' returns then generate a random vector of factors return that follows a multivariate normal distribution $\\sim N(\\mu, \\sum)$\n",
    "\n",
    "</div>\n",
    "\n",
    "<div class=\"label label-success\">HINT</div>\n",
    "Function `np.cov` can help calculating covariance matrix. Function `np.random.multivariate_normal(<mean>, <cov>)` is often used for generating samples."
   ]
  },
  {
   "cell_type": "code",
   "execution_count": 76,
   "metadata": {},
   "outputs": [],
   "source": [
    "def findCovMeansOfFactors():\n",
    "    factorCov = np.cov(factorsReturns)\n",
    "    factorMeans = [sum(factorReturns)/len(factorReturns) for factorReturns in factorsReturns] #factorMeans = np.mean(factorsReturns, axis=1) #numpy method easier to write\n",
    "    return factorCov, factorMeans"
   ]
  },
  {
   "cell_type": "code",
   "execution_count": 77,
   "metadata": {},
   "outputs": [
    {
     "name": "stdout",
     "output_type": "stream",
     "text": [
      "factorCov:\n",
      " [[2.03712313e+01 2.63083547e-01 7.77281497e+01 1.72733934e+02]\n",
      " [2.63083547e-01 2.25820330e-02 3.19031608e+00 7.31494329e+00]\n",
      " [7.77281497e+01 3.19031608e+00 1.31938031e+03 2.88775882e+03]\n",
      " [1.72733934e+02 7.31494329e+00 2.88775882e+03 6.96989443e+03]]\n",
      "factorMeans:\n",
      " [0.35908880308880364, -0.0013135135135135005, 6.953868592277998, 18.7092272903475]\n",
      "sample:\n",
      " [ 3.21942659e+00 -5.49063291e-02  3.05158969e+01  8.65025788e+01]\n"
     ]
    }
   ],
   "source": [
    "factorCov, factorMeans = findCovMeansOfFactors()\n",
    "sample = np.random.multivariate_normal(factorMeans, factorCov)\n",
    "print(\"factorCov:\\n\",np.array(factorCov))\n",
    "print(\"factorMeans:\\n\",factorMeans)\n",
    "print(\"sample:\\n\",sample)"
   ]
  },
  {
   "cell_type": "markdown",
   "metadata": {},
   "source": [
    "### Step 3&4: Generating samples, running simulation and calculating the VaR"
   ]
  },
  {
   "cell_type": "markdown",
   "metadata": {},
   "source": [
    "We define some functions that helps us calculating VaR 5%. You will see that the functions below are pretty complicated! This is why we provide a solution for you: however, study them well!!\n",
    "\n",
    "The basic idea of calculating VaR 5% is that we need to find a value such that only 5% of the losses are bigger than it. That means the 5th percentile of the losses should be VaR 5%.\n",
    "\n",
    "VaR can sometimes be problematic though, since it does give any information on the extent of the losses which can exceed the VaR estimate. CVar is an extension of VaR that is introduced to deal with this problem. Indeed, CVaR measures the expected value of the loss in those cases where VaR estimate has been exceeded."
   ]
  },
  {
   "cell_type": "code",
   "execution_count": 78,
   "metadata": {
    "collapsed": true
   },
   "outputs": [],
   "source": [
    "def fivePercentVaR(trials):\n",
    "    numTrials = trials.count()\n",
    "    #order and take the first 5% of all trials\n",
    "    topLosses = trials.takeOrdered(max(round(numTrials/20.0), 1)) #numTrials/20 = 5% of numTrials\n",
    "    return topLosses[-1] # |--?|--------------------------- 5% in the first part, take the last value, corresponds to the 5% percentile\n",
    "\n",
    "# an extension of VaR\n",
    "def fivePercentCVaR(trials):\n",
    "    numTrials = trials.count()\n",
    "    topLosses = trials.takeOrdered(max(round(numTrials/20.0), 1))\n",
    "    return sum(topLosses)/len(topLosses) #returns the mean of the 5 first percents\n",
    "\n",
    "def bootstrappedConfidenceInterval(trials, computeStatisticFunction, numResamples, pValue):\n",
    "    stats = []\n",
    "    for i in range(0, numResamples):\n",
    "        resample = trials.sample(True, 1.0) #RDD sample with replacement=True same size as input\n",
    "        stats.append(computeStatisticFunction(resample))\n",
    "    sorted(stats)\n",
    "    lowerIndex = int(numResamples * pValue / 2 - 1)\n",
    "    upperIndex = int(np.ceil(numResamples * (1 - pValue / 2)))\n",
    "    return (stats[lowerIndex], stats[upperIndex]) #95% chance for the real var or cvar to be in this interval"
   ]
  },
  {
   "cell_type": "markdown",
   "metadata": {},
   "source": [
    "Next, we will run the Monte Carlo simulation 10,000 times, in parallel using Spark. Remember to set the parallelism value accordingly."
   ]
  },
  {
   "cell_type": "markdown",
   "metadata": {},
   "source": [
    "### Question 7\n",
    "<div class=\"alert alert-info\">\n",
    "Complete the code below to define the simulation process and calculate VaR 5%.\n",
    "</div>"
   ]
  },
  {
   "cell_type": "code",
   "execution_count": 83,
   "metadata": {},
   "outputs": [],
   "source": [
    "# RUN SIMULATION\n",
    "def simulateTrialReturns(numTrials, factorMeans, factorCov, weights, featurizeFunction=featurize):\n",
    "    trialReturns = []\n",
    "    for i in range(0, numTrials):\n",
    "        # generate sample of factors' returns\n",
    "        trialFactorReturns = np.random.multivariate_normal(factorMeans, factorCov)\n",
    "        \n",
    "        # featurize the factors' returns\n",
    "        trialFeatures = featurizeFunction(trialFactorReturns.tolist())\n",
    "        \n",
    "        # insert weight for intercept term\n",
    "        trialFeatures.insert(0,1)\n",
    "                \n",
    "        # calculate the return of each instrument\n",
    "        stocksReturns = np.dot(trialFeatures,transpose(weights)) #line vector with stock returns\n",
    "        \n",
    "        # then calulate the total of return for these trial features\n",
    "        trialTotalReturn = sum(stocksReturns)\n",
    "        \n",
    "        trialReturns.append(trialTotalReturn)\n",
    "        \n",
    "    return trialReturns"
   ]
  },
  {
   "cell_type": "code",
   "execution_count": 100,
   "metadata": {},
   "outputs": [],
   "source": [
    "# RUN SIMULATION\n",
    "def simulateTrialReturns(numTrials, factorMeans, factorCov, weights, featurizeFunction=featurize, generationFunction=generate_sample, lognormal=False, factors=None):\n",
    "    trialReturns = []\n",
    "    # generate all sample of factors' returns at first\n",
    "    if lognormal:\n",
    "        #generate_sample(factorMeans,factorCov,numSample=1,normal=True,factors=None,logNormal=False,correlation=False,uniform=False,traingular=False,exponential=False)\n",
    "        trialFactorReturnsList = generate_sample(factorMeans, factorCov, numSample = numTrials,factors=factors, lognormal=True, correlation=True)\n",
    "    else:\n",
    "        trialFactorReturnsList = generate_sample(factorMeans, factorCov, numTrials) \n",
    "    for trialFactorReturns in trialFactorReturnsList:\n",
    "        \n",
    "        # featurize the factors' returns\n",
    "        trialFeatures = featurizeFunction(trialFactorReturns.tolist())\n",
    "        \n",
    "        # insert weight for intercept term\n",
    "        trialFeatures.insert(0,1)\n",
    "                \n",
    "        # calculate the return of each instrument\n",
    "        stocksReturns = np.dot(trialFeatures,transpose(weights)) #line vector with stock returns\n",
    "        \n",
    "        # then calulate the total of return for these trial features\n",
    "        trialTotalReturn = sum(stocksReturns)\n",
    "        \n",
    "        trialReturns.append(trialTotalReturn)\n",
    "        \n",
    "    return trialReturns"
   ]
  },
  {
   "cell_type": "code",
   "execution_count": 88,
   "metadata": {},
   "outputs": [],
   "source": [
    "numTrials = 10000\n",
    "\n",
    "def parallelTrialsReturns(weights, factorMeans, factorCov, simulateTrialReturnsFunction=simulateTrialReturns):\n",
    "    \"\"\"\n",
    "    \n",
    "    \"\"\"\n",
    "    parallelism = 4 # our cluster is composed of 4 workers with 1 core each according to the Spark Master web interface\n",
    "    trial_indexes = list(range(0, parallelism))\n",
    "    seedRDD = sc.parallelize(trial_indexes, parallelism)\n",
    "    bFactorWeights = sc.broadcast(weights)\n",
    "\n",
    "    trials = seedRDD.flatMap(lambda idx: \\\n",
    "                    simulateTrialReturnsFunction(\n",
    "                        max(int(numTrials/parallelism), 1), \n",
    "                        factorMeans, factorCov, bFactorWeights.value\n",
    "                    ))\n",
    "    trials.cache()\n",
    "    return trials\n",
    "\n",
    "def getVaR(trials):\n",
    "    \"\"\"\n",
    "    \n",
    "    \"\"\"\n",
    "    valueAtRisk = fivePercentVaR(trials)\n",
    "    conditionalValueAtRisk = fivePercentCVaR(trials)\n",
    "    return valueAtRisk, conditionalValueAtRisk"
   ]
  },
  {
   "cell_type": "code",
   "execution_count": 84,
   "metadata": {},
   "outputs": [
    {
     "name": "stdout",
     "output_type": "stream",
     "text": [
      "Value at Risk(VaR) 5%: -20.443431455695535\n",
      "Conditional Value at Risk(CVaR) 5%: -26.391207019555978\n"
     ]
    }
   ],
   "source": [
    "trials = parallelTrialsReturns(weights, factorMeans, factorCov)\n",
    "valueAtRisk, conditionalValueAtRisk = getVaR(trials)\n",
    "\n",
    "print(\"Value at Risk(VaR) 5%:\", valueAtRisk)\n",
    "print(\"Conditional Value at Risk(CVaR) 5%:\", conditionalValueAtRisk)"
   ]
  },
  {
   "cell_type": "markdown",
   "metadata": {},
   "source": [
    "The value of VaR depends on how many invested stocks and the chosen distribution of random variables. Assume that we get VaR 5% = -2.66,  that means that there is a 0.05 probability that the portfolio will fall in value by more than \\$2.66 over a two weeks' period if there is no trading. In other words, the loses are less than \\$2.66 over two weeks' period with 95% confidence level. When a loss over two weeks is more than \\$2.66, we call it **failure** (or **exception**). Informally, because of 5% probability, we expect that there are only $0.05*W$ failures out of total $W$ windows."
   ]
  },
  {
   "cell_type": "code",
   "execution_count": 87,
   "metadata": {},
   "outputs": [],
   "source": [
    "#function to calculate the VaR when having a clean data\n",
    "def calculateVaR(numTrials = 10000):\n",
    "    \"\"\"\n",
    "    \n",
    "    \"\"\"\n",
    "    \n",
    "    weights = findWeights(featurizeFunction=featurize)\n",
    "    \n",
    "    factorCov, factorMeans = findCovMeansOfFactors()\n",
    "    \n",
    "    trials = parallelTrialsReturns(weights, factorMeans, factorCov)\n",
    "    valueAtRisk, conditionalValueAtRisk = getVaR(trials)\n",
    "    \n",
    "    return valueAtRisk, conditionalValueAtRisk, trials"
   ]
  },
  {
   "cell_type": "markdown",
   "metadata": {},
   "source": [
    "### Step 5: Evaluating the results using backtesting method\n",
    "In general, the error in a Monte Carlo simulation should be proportional to 1/sqrt(n), where n is the number of trials. This means, for example, that quadrupling the number of trials should approximately cut the error in half. A good way to check the quality of a result is backtesting on historical data. Backtesting is a statistical procedure where actual losses are compared to the estimated VaR. For instance, if the confidence level used to calculate VaR is 95% (or VaR 5%), we expect only 5 failures over 100 two-week time windows.\n",
    "\n",
    "The most common test of a VaR model is counting the number of VaR failures, i.e., in how many windows, the losses exceed VaR estimate. If the number of exceptions is less than selected confidence level would indicate, the VaR model overestimates the risk. On the contrary, if there are too many exceptions, the risk is underestimated. However, it's very hard to observe the amount of failures suggested by the confidence level exactly. Therefore, people try to study whether the number of failures is reasonable or not, or will the model be accepted or rejected.\n",
    "\n",
    "One common test is Kupiec's proportion-of-failures (POF) test. This test considers how the portfolio performed at many historical time intervals and counts the number of times that the losses exceeded the VaR. The null hypothesis is that the VaR is reasonable, and a sufficiently extreme test statistic means that the VaR estimate does not accurately describe the data. The test statistic is computed as:\n",
    "\n",
    "$$\n",
    "-2ln\\Bigg(\\frac{(1-p)^{T-x}p^x}{(1-\\frac{x}{T})^{T-x}(\\frac{x}{T})^x}\\Bigg)\n",
    "$$\n",
    "\n",
    "where:\n",
    "\n",
    "$p$ is the quantile-of-loss of the VaR calculation (e.g., in VaR 5%, p=0.05),\n",
    "\n",
    "$x$ (the number of failures) is the number of historical intervals over which the losses exceeded the VaR \n",
    "\n",
    "$T$ is  the total number of historical intervals considered\n",
    "\n",
    "Or we can expand out the log for better numerical stability:\n",
    "\n",
    "$$\n",
    "\\begin{equation}\n",
    "-2\\Big((T-x)ln(1-p)+x*ln(p)-(T-x)ln(1-\\frac{x}{T})-x*ln(\\frac{x}{T})\\Big)\n",
    "\\end{equation}\n",
    "$$\n",
    "\n",
    "If we assume the null hypothesis that the VaR is reasonable, then this test statistic is drawn from a chi-squared distribution with a single degree of freedom. By using Chi-squared distribution, we can find the `p-value` accompanying our test statistic value.  If `p-value` exceeds the critical value of the Chi-squared distribution, we do have sufficient evidence to reject the null hypothesis that the model is reasonable. Or we can say, in that case, the model is considered as inaccurate.\n",
    "\n",
    "For example, assume that we calculate VaR 5% (the confidence level of the VaR model is 95%) and get value VaR = 2.26. We also observed 40 exceptions over 500 time windows. Using the formula above, the test statistic `p-value` is calculated and equal to `8.08`. Compared to `3.84`, the critical value of Chi-squared distribution with one degree of freedom at probability 5%, the test statistic is larger. So, the model is rejected. The critical values of Chi-squared can be found by following [this link](https://people.richland.edu/james/lecture/m170/tbl-chi.html).\n",
    "However, in this Notebook, it's not a good idea to find the corresponding critical value by looking in a \"messy\" table, especially when we need to change the confidence level. Instead, from `p-value`, we will calculate the probability of the test statistic in Chi-square thanks to some functions in package `scipy`. If the calculated probability is smaller than the quantile of loss (e.g, 0.05), the model is rejected and vice versa.\n"
   ]
  },
  {
   "cell_type": "markdown",
   "metadata": {},
   "source": [
    "### Question 8\n",
    "\n",
    "#### Question 8.1\n",
    "<div class=\"alert alert-info\">\n",
    "\n",
    "Write a function to calculate the number of failures, that is when the losses (in the original data) exceed the VaR.\n",
    "\n",
    "</div>\n",
    "\n",
    "<div class=\"label label-success\">HINT</div>\n",
    "<ul>\n",
    "  <li>First, we need to calculate the total loss in each 2-week time interval</li>\n",
    "  <li>If the total loss of a time interval exceeds VaR, then we say that our VaR fails to estimate the risk in that time interval</li>\n",
    "  <li>Return the number of failures</li>\n",
    "</ul>  \n",
    "\n",
    "<div class=\"label label-danger\">NOTE</div> The loss is often having negative value, so, be careful when compare it to VaR."
   ]
  },
  {
   "cell_type": "code",
   "execution_count": 93,
   "metadata": {},
   "outputs": [],
   "source": [
    "from scipy import stats\n",
    "import math"
   ]
  },
  {
   "cell_type": "code",
   "execution_count": 94,
   "metadata": {},
   "outputs": [],
   "source": [
    "def countFailures(stocksReturns, valueAtRisk):\n",
    "    \"\"\"\n",
    "    \n",
    "    \"\"\"\n",
    "    failures = 0\n",
    "    # iterate over time intervals\n",
    "    for i in range(0, len(stocksReturns[0])):\n",
    "        # calculate the losses in each time interval\n",
    "        loss = sum([r[i] for r in stocksReturns])\n",
    "        # if the loss exceeds VaR\n",
    "        if loss<valueAtRisk:\n",
    "            failures += 1\n",
    "    return failures"
   ]
  },
  {
   "cell_type": "code",
   "execution_count": null,
   "metadata": {},
   "outputs": [],
   "source": [
    "countFailures(stocksReturns, valueAtRisk)"
   ]
  },
  {
   "cell_type": "code",
   "execution_count": null,
   "metadata": {},
   "outputs": [],
   "source": [
    "len(stocksReturns[0])"
   ]
  },
  {
   "cell_type": "markdown",
   "metadata": {},
   "source": [
    "#### Question 8.2\n",
    "<div class=\"alert alert-info\">\n",
    "\n",
    "Write a function named `kupiecTestStatistic` to calculate the test statistic which was described in the above equation.\n",
    "\n",
    "</div>"
   ]
  },
  {
   "cell_type": "code",
   "execution_count": 95,
   "metadata": {},
   "outputs": [],
   "source": [
    "def kupiecTestStatistic(total, failures, confidenceLevel):\n",
    "    \"\"\"\n",
    "    \n",
    "    \"\"\"\n",
    "    failureRatio = failures/total\n",
    "    logNumer = (total-failures)*math.log(1-confidenceLevel)+failures*math.log(confidenceLevel)\n",
    "    logDenom = (total-failures)*math.log(1-failureRatio)+failures*math.log(failureRatio)\n",
    "    return -2 * (logNumer - logDenom)\n",
    "    \n",
    "# test the function\n",
    "assert (round(kupiecTestStatistic(250, 36, 0.1), 2) == 4.80), \"function kupiecTestStatistic runs incorrectly\""
   ]
  },
  {
   "cell_type": "markdown",
   "metadata": {},
   "source": [
    "Now we can find the p-value accompanying our test statistic value."
   ]
  },
  {
   "cell_type": "code",
   "execution_count": 96,
   "metadata": {
    "collapsed": false
   },
   "outputs": [],
   "source": [
    "def kupiecTestPValue(stocksReturns, valueAtRisk, confidenceLevel):\n",
    "    \"\"\"\n",
    "    \n",
    "    \"\"\"\n",
    "    failures = countFailures(stocksReturns, valueAtRisk)\n",
    "    print(\"failures:\",failures)\n",
    "    total = len(stocksReturns[0])\n",
    "    testStatistic = kupiecTestStatistic(total, failures, confidenceLevel)\n",
    "    print(\"test statistic\",testStatistic)\n",
    "    return 1 - stats.chi2.cdf(testStatistic, 1.0)\n",
    "    #return stats.chi2.sf(testStatistic, df=1.0) #1.0 is the nb of degrees of freedom\n",
    "\n",
    "def evaluateResult(trials):\n",
    "    \"\"\"\n",
    "    Returns varConfidenceInterval, valueAtRisk, cvarConfidenceInterval, conditionalValueAtRisk, kupiecValue\n",
    "    \"\"\"\n",
    "    varConfidenceInterval = bootstrappedConfidenceInterval(trials, fivePercentVaR, 100, 0.05)\n",
    "    cvarConfidenceInterval = bootstrappedConfidenceInterval(trials, fivePercentCVaR, 100, 0.05)\n",
    "    kupiecValue = kupiecTestPValue(stocksReturns, valueAtRisk, 0.05)\n",
    "    print(\"VaR confidence interval: \", varConfidenceInterval)\n",
    "    print(\"VaR =\", valueAtRisk)\n",
    "    print(\"CVaR confidence interval: \", cvarConfidenceInterval)\n",
    "    print(\"conditionalVaR =\", conditionalValueAtRisk)\n",
    "    print(\"Kupiec test p-value: \", kupiecValue)\n",
    "    return varConfidenceInterval, valueAtRisk, cvarConfidenceInterval, conditionalValueAtRisk, kupiecValue"
   ]
  },
  {
   "cell_type": "code",
   "execution_count": null,
   "metadata": {},
   "outputs": [],
   "source": [
    "evaluateResult(trials)"
   ]
  },
  {
   "cell_type": "markdown",
   "metadata": {},
   "source": [
    "#### Question 8.3\n",
    "<div class=\"alert alert-info\">\n",
    "\n",
    "Discuss the results you have obtained\n",
    "\n",
    "</div>"
   ]
  },
  {
   "cell_type": "code",
   "execution_count": 97,
   "metadata": {},
   "outputs": [
    {
     "data": {
      "image/png": "[encoded data removed]",
      "text/plain": [
       "<matplotlib.figure.Figure at 0x7f57de6c3748>"
      ]
     },
     "metadata": {},
     "output_type": "display_data"
    }
   ],
   "source": [
    "t=np.linspace(0,10,10**4)\n",
    "plt.plot(t,stats.chi2.sf(t,df=1))\n",
    "plt.plot(t,[0.05 for x in t])\n",
    "plt.title('Chi 2: 1-cdf')\n",
    "plt.show()"
   ]
  },
  {
   "cell_type": "markdown",
   "metadata": {},
   "source": [
    "<div class=\"alert alert-warning\">\n",
    "\n",
    "PUT YOUR ANSWER HERE !\n",
    "\n",
    "</div>"
   ]
  },
  {
   "cell_type": "markdown",
   "metadata": {},
   "source": [
    "### Question 9\n",
    "<div class=\"alert alert-info\">\n",
    "Assume that we invest in more than 100 stocks. Use the same market factors as for the previous questions to estimate VaR by running MCS, then validate your result.  \n",
    "\n",
    "What is the main observation you have, once you answer this question? When you plan to invest in more instruments, how is your ability to predict the risk going to be affected?\n",
    "</div>\n"
   ]
  },
  {
   "cell_type": "code",
   "execution_count": 99,
   "metadata": {},
   "outputs": [
    {
     "name": "stdout",
     "output_type": "stream",
     "text": [
      "failures: 112\n",
      "test statistic 30.082610133880166\n",
      "VaR confidence interval:  (-20.668500452813714, -21.00257450117008)\n",
      "VaR = -20.306165033895997\n",
      "CVaR confidence interval:  (-26.28362720263395, -27.096904374274857)\n",
      "conditionalVaR = -26.266977621271586\n",
      "Kupiec test p-value:  4.1402731243422863e-08\n"
     ]
    }
   ],
   "source": [
    "#retrieve a clean data considering 100 stocks at beginning\n",
    "stocksReturns, factorsReturns = retrieveCleanedData(nbStocks=35, nbYearMin=5)\n",
    "#calculate the value at risk and the conditional value at risk for this data\n",
    "valueAtRisk, conditionalValueAtRisk, trials = calculateVaR(numTrials = 10000)\n",
    "varConfidenceInterval, valueAtRisk, cvarConfidenceInterval, conditionalValueAtRisk, kupiecValue = evaluateResult(trials)"
   ]
  },
  {
   "cell_type": "markdown",
   "metadata": {},
   "source": [
    "<div class=\"alert alert-warning\">\n",
    "\n",
    "PUT YOUR ANSWER HERE !\n",
    "\n",
    "</div>"
   ]
  },
  {
   "cell_type": "markdown",
   "metadata": {},
   "source": [
    "### Question 10\n",
    "<div class=\"alert alert-info\">\n",
    "\n",
    "In the previous questions, we used the normal distributions to sample the factors returns.  \n",
    "\n",
    "Try to study how results vary when selecting other probability distributions: our goal is to improve the result of our MCS.\n",
    "</div>"
   ]
  },
  {
   "cell_type": "markdown",
   "metadata": {},
   "source": [
    "### Log Normal Distribution\n",
    "To study the difference using the lognormal distribution instead of the gaussian we deciede to choose the following approach.\n",
    "* Create lognormal mode to generate further values of factors from an initial point.\n",
    "* Calculate the 2 weeks difference to generate a return sample"
   ]
  },
  {
   "cell_type": "markdown",
   "metadata": {},
   "source": [
    "### Why the log normal? To what point?\n",
    "<div class=\"alert alert-warning\">\n",
    "The lognormal distribution is actually well suited to generate predictions of stock value. Indeed, let's assume that the ratios between 2 values of a stock $S$ are independent and identically distributed (IID) Let $N$ be a sample we consider during the 5 years period and $S$ the value of a factor (or stock). \n",
    "Let$\n",
    "\\begin{equation}\n",
    "\\frac{S_{N+1}}{S_{N}} = X_{N+1}\n",
    "\\end{equation}\n",
    "$ We have:\n",
    "$$\n",
    "\\begin{equation}\n",
    "\\frac{S_{N+1}}{S_{N}} = \\frac{S_{N+1}}{S_{0}}.\\frac{S_{0}}{S_{1}}\\cdots.\\frac{S_{N-1}}{S_{N}}\n",
    "\\end{equation}\n",
    "$$\n",
    "Thus\n",
    "$$\n",
    "\\begin{equation}\n",
    "\\log{X_{N+1}} = \\log{\\frac{S_{N+1}}{S_{0}}}+\\sum_{i=0}^{N}{\\log{\\frac{S_{i}}{S_{i+1}} }}\n",
    "\\end{equation}\n",
    "$$\n",
    "According to the central limit theorem, under reasonable assumptions, we can conclude that $\\log(X_{N+1})$ follows a normal distribution and therefore $X_{N+1}$ follows a lognormal distribution. <br>\n",
    "To estimate $S_{N+1}$, draw a sample $x_{N+1}$ from the lognormal distribution and we have $S_{N+1}:= S_{N}.x_{n+1}$ <br>\n",
    "Reference: http://www.math.ucsd.edu/~msharpe/stockgrowth.pdf\n",
    "</div>"
   ]
  },
  {
   "cell_type": "markdown",
   "metadata": {},
   "source": [
    "### 10.1 Study of ratios correllation"
   ]
  },
  {
   "cell_type": "code",
   "execution_count": null,
   "metadata": {},
   "outputs": [],
   "source": [
    "factorsVal = [[sample[1] for sample in factor] for factor in factors]\n",
    "factorRatio = [[factor[index+1]/factor[index] for index in range(len(factor)-1) ] for factor in factorsVal]\n",
    "correlationVal = np.corrcoef(factorsVal)\n",
    "\n",
    "factorRatCov = np.cov(factorRatio)\n",
    "factorRatMeans = np.mean(factorRatio, axis=1)"
   ]
  },
  {
   "cell_type": "code",
   "execution_count": null,
   "metadata": {},
   "outputs": [],
   "source": [
    "im1 = plt.imshow(correlationVal,cmap=cmap)"
   ]
  },
  {
   "cell_type": "code",
   "execution_count": null,
   "metadata": {},
   "outputs": [],
   "source": [
    "plt.figure(figsize=(20,10))\n",
    "cmap = plt.cm.get_cmap(\"Greens\")\n",
    "for i in range(4):\n",
    "    for j in range(4):\n",
    "        plt.subplot(4,4,4*i+j+1)\n",
    "        plt.scatter(factorRatio[i], factorRatio[j],color=cmap(correlationVal[i][j]), alpha=0.3,linewidths=1,edgecolors='g')\n",
    "        \n",
    "plt.suptitle(\"Scatter plots of (factorRatio i, factorRatio j), sort of correlation matrix\",fontsize=15)\n",
    "cax = plt.axes([1, 0.1, 0.075, 0.8])\n",
    "plt.colorbar(im1,cax=cax)\n",
    "plt.show()"
   ]
  },
  {
   "cell_type": "markdown",
   "metadata": {},
   "source": [
    "<div class=\"alert alert-warning\">\n",
    "    Here, one can see on the figure $(i,j)$ the plot $factor_i$ with respect to $factor_j$. Note that the facecolor of the points is associated to the correlation coefficients. In the same fashion as the returns, there is a strong correlation between the third and fourth factor ratios, a smaller correlation between the first and the third (and fourth obviously) and finally the second factor has little correlation with other factors.<br>\n",
    "    It clearly indicates that, to be more precise, when generating the stock values, one must take this correlation into account.\n",
    "</div>"
   ]
  },
  {
   "cell_type": "code",
   "execution_count": null,
   "metadata": {},
   "outputs": [],
   "source": [
    "import copy\n",
    "numSample = 500\n",
    "factorsVal = [[sample[1] for sample in factor] for factor in factors]\n",
    "factorRatio = [[factor[index+1]/factor[index] for index in range(len(factor)-1) ] for factor in factorsVal]\n",
    "factorRatCov = np.cov(factorRatio)\n",
    "factorRatMeans = np.mean(factorRatio, axis=1)\n",
    "generatedSamples=copy.deepcopy(factorsVal)\n",
    "\n",
    "\n",
    "for factorIndex,factor in enumerate(factorsVal):\n",
    "        sampleFactors=[]\n",
    "        factorRatio = [factor[index+1]/factor[index] for index in range(len(factor)-1) ] #Follows log normal distribution\n",
    "        \n",
    "        #Estimation of the underlying normal parameters\n",
    "        factorRatioMean = np.mean(np.log(factorRatio)) \n",
    "        factorRatioStd = np.std(np.log(factorRatio)) \n",
    "        \n",
    "        # Generation of log normal without correlation taken into account\n",
    "        samplesRatio = np.random.lognormal(factorRatioMean,factorRatioStd,numSample) #two weeks window\n",
    "        factorValSimulated = factor[-1]\n",
    "        #print(\"factorValSimulated\",factorValSimulated)\n",
    "        for sampleRatio in samplesRatio:\n",
    "            #print(sampleRatio)\n",
    "            factorValSimulated *= (sampleRatio)\n",
    "            generatedSamples[factorIndex].append(factorValSimulated)\n",
    "#Print of the 4 factors\n",
    "\n",
    "plt.figure(figsize=(40,10))\n",
    "plt.suptitle(\"The 4 factors values estimated for 100 weeks\",fontsize=15)\n",
    "plt.subplot(2,4,1)\n",
    "plt.ylabel(\"Wthout correlation between ratios\",fontsize=15)\n",
    "for i in range(4):\n",
    "    plt.plot(generatedSamples[i],label=\"Estimulated factor values\")\n",
    "    plt.plot(factorsVal[i],label=\"Data\")\n",
    "    plt.title(titles[i],fontsize=15)\n",
    "    if not i:\n",
    "        plt.legend(fontsize=18)\n",
    "    if i<3:\n",
    "        plt.subplot(2,4,i+2)\n",
    "\n",
    "covNormGenerator = np.log(1+factorRatCov/(factorRatMeans.T.dot(factorRatMeans)))#Calculate covariance matrix for the multivariate gaussian associated to the lognormal\n",
    "meanNormGenerator = (np.log(factorRatMeans)-1/2*covNormGenerator.diagonal())\n",
    "\n",
    "normSampleRatio = np.random.multivariate_normal(meanNormGenerator,covNormGenerator,numSample) \n",
    "simulatedFactors = copy.deepcopy(np.array(transpose(factorsVal)).tolist())\n",
    "for ratios in normSampleRatio:\n",
    "    simulatedFactors.append(simulatedFactors[-1]*np.exp(ratios))\n",
    "\n",
    "#Print of the 4 factors with correlation taken into account\n",
    "plt.subplot(2,4,5)\n",
    "plt.ylabel(\"With correlation between ratios\",fontsize=15)\n",
    "for i in range(4):\n",
    "    plt.plot(transpose(simulatedFactors)[i])\n",
    "    plt.plot(factorsVal[i])\n",
    "    plt.xlabel(\"Sample No\")\n",
    "    if i<3:\n",
    "        plt.subplot(2,4,4+i+2)\n",
    "plt.show()"
   ]
  },
  {
   "cell_type": "markdown",
   "metadata": {},
   "source": [
    "## COMMENTS\n",
    "<div class=\"alert alert-warning\">\n",
    "    The figure above is two simple simulations of the evolution of factors value after the 5 years period for 500 market days.\n",
    "    For both rows of plots, the samples were generated through a log normal distribution.<br><br>\n",
    "\n",
    "For the first row, we simply estimated the parameters of the underlying normal distribution of the ratio between two values of a factor and generated a lognormal distribution. It gives plausible results but we are missing the corellation between ratios. Indeed, as we saw, the different factos are corellated, so to have an even better model, one muste take this into account. The results is shown in the second row. <br><br>\n",
    "To generate rations with correlation, we repeted our first process where we genereated a multivariate gaussians random variable for the returns. But this time instead of generating the returns, we generated the ratios. Since $X$ follows a lognormal distribution, we generated the multivariate underlying normal. This allow to take corellation betweens ratios into acccount. To retrieve the multi variate log normal variable, one can simply take the exponential of the previously generated gaussians. <br> \n",
    "It can be observed in the plots. Indeed, as we previously studied, the IXIC and GSPC are strongly correlated. The first forecast of thos two factors seem to break this correlation. One increases while the other decrease. In our second simulation one can see that they stay strongly correlated. Moreover, the correlation between the factors can be observed by the smoothness of the curves. The uncorrelated case, curves are much more erratic for correlated factors than in the second case which better matches the previous data. <br>\n",
    "\n",
    "</div>"
   ]
  },
  {
   "cell_type": "markdown",
   "metadata": {},
   "source": [
    "### 10.2 Generate Returns"
   ]
  },
  {
   "cell_type": "code",
   "execution_count": null,
   "metadata": {},
   "outputs": [],
   "source": [
    "def generate_sample(factorMeans,factorCov,numSample=1,normal=True,factors=None,logNormal=False,correlation=False,uniform=False,traingular=False,exponential=False):\n",
    "    if logNormal:\n",
    "        factorsVal = [[sample[1] for sample in factor] for factor in factors] #extract only factor values\n",
    "        if not correlation:\n",
    "            generatedSamples=[]\n",
    "            \n",
    "            for factor in factorsVal:\n",
    "                sampleFactors=[]\n",
    "                factorRatio = [factor[index+1]/factor[index] for index in range(len(factor)-1) ] #Follows log normal distribution\n",
    "\n",
    "                #Estimation of the underlying normal variable $log X$ parameters\n",
    "                factorRatioMean = np.mean(np.log(factorRatio)) \n",
    "                factorRatioStd = np.std(np.log(factorRatio)) \n",
    "                for i in range(numSample):\n",
    "                    initialPoint = factor[np.random.randint(len(factor))] #random intial point\n",
    "                    samplesRatio = np.random.lognormal(factorRatioMean,factorRatioStd,10) #two weeks window\n",
    "                    factorValSimulated = initialPoint\n",
    "                    #print(\"factorValSimulated\",factorValSimulated)\n",
    "                    for sampleRation in samplesRatio:\n",
    "                        factorValSimulated *= (sampleRation)\n",
    "                    sampleFactors.append(factorValSimulated-initialPoint)\n",
    "                generatedSamples.append(sampleFactors)\n",
    "            return np.array(generatedSamples).T\n",
    "        \n",
    "        else:\n",
    "            # Estimate ratios correlation and means\n",
    "            factorRatio = [[factor[index+1]/factor[index] for index in range(len(factor)-1) ] for factor in factorsVal] #Calculate the ratios S_{N+1}/S_N\n",
    "            factorRatCov = np.cov(factorRatio)\n",
    "            factorRatMeans = np.mean(factorRatio, axis=1)\n",
    "            #Convert to a multivariate normal distribution \n",
    "            covNormGenerator = np.log(1+factorRatCov/(factorRatMeans.T.dot(factorRatMeans)))#Calculate covariance matrix for the multivariate gaussian associated to the lognormal\n",
    "            meanNormGenerator = (np.log(factorRatMeans)-1/2*covNormGenerator.diagonal()) #Not simply log(means)\n",
    "            # Reference https://en.wikipedia.org/wiki/Log-normal_distribution#Multivariate_log-normal\n",
    "            \n",
    "            generatedSamples = []\n",
    "            for i in range(numSample):\n",
    "                initialPoint = transpose(factorsVal)[np.random.randint(len(transpose(factorsVal)))] #Inital point to simulate 2 weeks\n",
    "                sample=initialPoint #random intial point\n",
    "                normRatios = np.random.multivariate_normal(meanNormGenerator,covNormGenerator,10) # simulate 2 weeks worths of ratios\n",
    "                for normRatio in normRatios:\n",
    "                    sample*=np.exp(normRatio)# calculate stock values throughout the 2 weeks\n",
    "                generatedSamples.append(sample - initialPoint) # get the return  the value after return - the initial value\n",
    "            return np.array(generatedSamples)\n",
    "    if normal:\n",
    "        # 1st Case, simply multivariate normal gaussians for the returns\n",
    "        return np.random.multivariate_normal(factorMeans, factorCov, numSample)"
   ]
  },
  {
   "cell_type": "code",
   "execution_count": null,
   "metadata": {},
   "outputs": [],
   "source": [
    "numSample = 1304 #match data size to compare distribution\n",
    "\n",
    "#Gaussian case\n",
    "factorSamples = generate_sample(factorMeans,factorCov,numSample=numSample).T\n",
    "plt.figure(figsize=(20,6))\n",
    "plt.suptitle(\"Returns + estimated with three distributions\",fontsize=15)\n",
    "plt.subplot(1,4,1)\n",
    "plt.ylabel(\"Returns generated with gaussians\")\n",
    "for factorIndex,factorSample in enumerate(factorSamples):\n",
    "    \n",
    "    plt.hist(factorsReturns[factorIndex],alpha=0.5)\n",
    "    plt.hist(factorSample,alpha=0.5)\n",
    "    if factorIndex<3:\n",
    "        plt.subplot(1,4,factorIndex+2)\n",
    "plt.show()\n",
    "\n",
    "#LogNormal uncorrolated \n",
    "factorSamples = generate_sample(factorMeans,factorCov,numSample=numSample,logNormal=True,factors=factors).T\n",
    "plt.figure(figsize=(20,6))\n",
    "plt.subplot(1,4,1)\n",
    "plt.ylabel(\"Returns generated with lognormal uncorrolated\",fontsize=15)\n",
    "for factorIndex,factorSample in enumerate(factorSamples):\n",
    "    plt.subplot(1,4,factorIndex+1)\n",
    "    plt.hist(factorsReturns[factorIndex],alpha=0.5)\n",
    "    plt.hist(factorSample,alpha=0.5)\n",
    "    if factorIndex<3:\n",
    "        plt.subplot(1,4,factorIndex+2)\n",
    "plt.show()\n",
    "\n",
    "#LogNormal corrolated \n",
    "plt.figure(figsize=(20,6))\n",
    "plt.subplot(1,4,1)\n",
    "plt.ylabel(\"Returns generated with lognormal corrolated\",fontsize=15)\n",
    "factorSamples = generate_sample(factorMeans,factorCov,numSample=numSample,logNormal=True,correlation=True,factors=factors).T\n",
    "for factorIndex,factorSample in enumerate(factorSamples):\n",
    "    plt.subplot(1,4,factorIndex+1)\n",
    "    plt.hist(factorsReturns[factorIndex],alpha=0.5)\n",
    "    plt.hist(factorSample,alpha=0.5)\n",
    "    if factorIndex<3:\n",
    "        plt.subplot(1,4,factorIndex+2)\n",
    "plt.show()\n"
   ]
  },
  {
   "cell_type": "markdown",
   "metadata": {},
   "source": [
    "# FFX: Fast Function Extraction\n",
    "## A better featurization?\n",
    "### Installation of package"
   ]
  },
  {
   "cell_type": "code",
   "execution_count": null,
   "metadata": {},
   "outputs": [],
   "source": [
    "!pip install ffx\n",
    "import ffx.core as ffx\n",
    "def installFFX():\n",
    "    os.system(\"pip install ffx\") #Install the ffx package on workers to allow parallelization\n",
    "    import ffx.core as ffx\n",
    "l = sc.parallelize([1,2,3,4],4)\n",
    "l.map(lambda x: installFFX()).collect() #collect to make trigger the process (actions triggers process not transformations)\n"
   ]
  },
  {
   "cell_type": "markdown",
   "metadata": {},
   "source": [
    "### Example process of featurization"
   ]
  },
  {
   "cell_type": "code",
   "execution_count": null,
   "metadata": {},
   "outputs": [],
   "source": [
    "\"\"\" Explanatory process about FFX\"\"\"\n",
    "\n",
    "# user-changeable constants to tweak models\n",
    "CONSIDER_INTER = True  # consider interactions?\n",
    "CONSIDER_DENOM = True  # consider denominator?\n",
    "CONSIDER_EXPON = True  # consider exponents?\n",
    "CONSIDER_NONLIN = True  # consider abs() and log()?\n",
    "CONSIDER_THRESH = True # consider hinge functions?\n",
    "\n",
    "stock = stocksReturns[0] # Here we test for only the first stocks\n",
    "\n",
    "trainTestRation = .25 #Seperate training and test data -> test erros\n",
    "trainDataSize = int(np.floor(len(factorMat)*(1-trainTestRation))) #Determines the ration training test\n",
    "indexShuffledData = np.arange(len(stock))\n",
    "np.random.shuffle(indexShuffledData)\n",
    "stock = np.array(stock)\n",
    "factorMat = np.array(factorMat)\n",
    "train_y = np.array(stock[indexShuffledData[1:trainDataSize]])\n",
    "test_y = np.array(stock[indexShuffledData[trainDataSize:]])\n",
    "train_X = np.array(factorMat[indexShuffledData[1:trainDataSize]])\n",
    "test_X = np.array(factorMat[indexShuffledData[trainDataSize:]])\n",
    "varnames=[\"factor0\",\"factor1\",\"factor2\",\"factor3\"]\n",
    "\n",
    "modelsPareto = ffx.MultiFFXModelFactory().build(train_X, train_y, test_X, test_y,varnames=varnames)\n"
   ]
  },
  {
   "cell_type": "code",
   "execution_count": null,
   "metadata": {},
   "outputs": [],
   "source": [
    "min_y = min(min(train_y), min(test_y))\n",
    "max_y = max(max(train_y), max(test_y))\n",
    "fig, ax = plt.subplots(figsize=(8,8))\n",
    "for modelIndex,model in enumerate(modelsPareto):\n",
    "    yhat = model.simulate(np.array(test_X))\n",
    "    if modelIndex<5:\n",
    "        print(\"Model\",modelIndex,model.str2())\n",
    "    model.test_nmse = ffx.nmse(yhat, test_y, min_y, max_y)\n",
    "    ax.scatter(model.test_nmse,model.numBases(),label = 'Model'+str(modelIndex), s=100)\n",
    "    \n",
    "ax.legend()\n",
    "ax.grid(True)\n",
    "plt.xlabel('Normalised Mean Square Error on test data')\n",
    "plt.ylabel('Number of bases (features) in the model')\n",
    "plt.title(\"Complexity versus MNSE\")\n",
    "plt.show()"
   ]
  },
  {
   "cell_type": "markdown",
   "metadata": {},
   "source": [
    "## COMMENTS\n",
    "<div class=\"alert alert-warning\">\n",
    "\n",
    "</div>"
   ]
  },
  {
   "cell_type": "markdown",
   "metadata": {},
   "source": [
    "### FFX applied to the whole problem"
   ]
  },
  {
   "cell_type": "code",
   "execution_count": null,
   "metadata": {},
   "outputs": [],
   "source": [
    "# user-changeable constants \n",
    "CONSIDER_INTER = True  # consider interactions?\n",
    "CONSIDER_DENOM = True  # consider denominator?\n",
    "CONSIDER_EXPON = True  # consider exponents? in this case exponents are (by default [-1,-0.5,0.5,1])\n",
    "CONSIDER_NONLIN = True  # consider abs() and log()?\n",
    "CONSIDER_THRESH = True # consider hinge functions?\n",
    "def trainFFXModels(factorMat,stocksReturns,trainTestRation):\n",
    "    models=[] #Similar to weights \n",
    "    trainDataSize = int(np.floor(len(factorMat)*(1-trainTestRation))) #Determines the ration training test\n",
    "    for stockIndex,stock in enumerate(stocksReturns):\n",
    "        if(stockIndex>=1):\n",
    "            return models\n",
    "        print(\"======= BEGINING FEATURIZATION N°\",stockIndex,\"======\")\n",
    "        bestModel = trainModelOneStock(factorMat,stock,trainTestRation)\n",
    "        models+= [bestModel]        \n",
    "    return models\n",
    "        \n",
    "def trainModelOneStock(factorMat,stock,trainTestRation):\n",
    "    \"\"\"\n",
    "    Equivalent of featurisation for the instrument stock.\n",
    "    Returns ffx model that caracterize the stock through bases and weights applied to factors\n",
    "    \"\"\"\n",
    "    trainDataSize = int(np.floor(len(factorMat)*(1-trainTestRation))) #Determines the ration training test\n",
    "    indexShuffledData = np.arange(len(stock))\n",
    "    np.random.shuffle(indexShuffledData)\n",
    "    stock = np.array(stock)\n",
    "    factorMat = np.array(factorMat)\n",
    "    train_y = np.array(stock[indexShuffledData[1:trainDataSize]])\n",
    "    test_y = np.array(stock[indexShuffledData[trainDataSize:]])\n",
    "    train_X = np.array(factorMat[indexShuffledData[1:trainDataSize]])\n",
    "    test_X = np.array(factorMat[indexShuffledData[trainDataSize:]])\n",
    "    varnames=[\"factor0\",\"factor1\",\"factor2\",\"factor3\"]\n",
    "    modelsPareto = ffx.MultiFFXModelFactory().build(train_X, train_y, test_X, test_y,varnames=varnames)\n",
    "    #MultiFFXModelFactory gives the pareto optimal in term of complexity and test data performance set of models build with all strategies\n",
    "    #Strategy = ....\n",
    "    #model // featurisations\n",
    "    min_y = min(min(train_y), min(test_y))\n",
    "    max_y = max(max(train_y), max(test_y))\n",
    "    lowestNmse = np.inf\n",
    "    for model in modelsPareto:\n",
    "        yhat = model.simulate(test_X) #Simulate over the test_X \n",
    "        model.test_nmse = ffx.nmse(yhat, test_y, min_y, max_y) #Simply calculate the normalized mse \n",
    "        if model.test_nmse < lowestNmse: #gives the best model in terms of test error from pareto set, probably biggest complexity from pareto set\n",
    "            bestModel = model\n",
    "            lowestNmse = model.test_nmse\n",
    "    return([bestModel])\n",
    "    \n",
    "def estimateTotalReturn(factors,models):\n",
    "    totalLoss = 0\n",
    "    print(factors)\n",
    "    for i in range(len(stocksReturns)):\n",
    "        print(models[i].simulate(np.array[factors]))\n",
    "        totalLoss += models[i].simulate(np.array[factors])[0] #models[i] is associated to stock i \n",
    "    return totalLoss\n",
    "\n",
    "def estimateTotalReturnParalelleized(factors,models):\n",
    "    return models.map(lambda model : model.simulate(np.array([factors]))).reduce(lambda return1,return2:return1+return2)\n",
    "        \n",
    "def simulateTrialReturnsFFX(numTrials, factorMeans, factorCov, models):\n",
    "    trialReturns = []\n",
    "    for i in range(0, numTrials):\n",
    "        # generate sample of factors' returns\n",
    "        trialFactorReturns = np.random.multivariate_normal(factorMeans, factorCov)\n",
    "        \n",
    "        # estimateReturn with the ffx models previously computed\n",
    "        trialTotalReturn = estimateTotalReturn(trialFactorReturns,models)\n",
    "        \n",
    "        trialReturns.append(trialTotalReturn)\n",
    "        \n",
    "    return trialReturns\n",
    "def simulateFactorReturnsFFXParralelized(numTrials, factorMeans, factorCov):\n",
    "    trialFactoReturnsList = []\n",
    "    for i in range(0, numTrials):\n",
    "        # generate sample of factors' returns\n",
    "        trialFactorReturns = np.random.multivariate_normal(factorMeans, factorCov)\n",
    "        trialFactoReturnsList.append(trialFactorReturns)\n",
    "    return trialFactoReturnsList"
   ]
  },
  {
   "cell_type": "code",
   "execution_count": null,
   "metadata": {},
   "outputs": [],
   "source": [
    "stocksParalelized = sc.parallelize(stocksReturns,4)\n",
    "bfactorsMat = sc.broadcast(factorMat)\n",
    "trainTestRatios = [0.005,0.01,0.1];\n",
    "vArs = []\n",
    "cVars = []\n",
    "kupiecTestValues = []\n",
    "\n",
    "for trainTestRatio in trainTestRatios:\n",
    "    #Featurization step\n",
    "    models = stocksParalelized.flatMap(lambda stock: trainModelOneStock(bfactorsMat.value,stock,trainTestRation)) \n",
    "    models.cache() # similar to weights in the simple linear regression but no need for factor featurization matrix\n",
    "\n",
    "    #Simulation Step   \n",
    "    parallelism = 4 # our cluster is composed of 4 workers with 1 core each according to the Spark Master web interface\n",
    "    numTrials = 100000\n",
    "    trial_indexes = list(range(0, parallelism))\n",
    "    seedRDD = sc.parallelize(trial_indexes, parallelism)\n",
    "    trialsFactor = seedRDD.flatMap(lambda idx: \\\n",
    "                    simulateFactorReturnsFFXParralelized(\n",
    "                        max(int(numTrials/parallelism), 1), \n",
    "                        factorMeans, factorCov)).collect()\n",
    "    trials = models.map(lambda model: model.simulate(np.array(trialsFactor))) \\\n",
    "                    .reduce(lambda stock1returns,stock2returns:stock1returns+stock2returns) #Model.simulate returns all the returns for one stock over the set of factors, then simply add results to get portfolio returns\n",
    "\n",
    "    trials = sc.parallelize(trials,parallelism)\n",
    "    trials.cache()\n",
    "\n",
    "    valueAtRisk = fivePercentVaR(trials)\n",
    "    vArs.append(valueAtRisk)\n",
    "    conditionalValueAtRisk = fivePercentCVaR(trials)\n",
    "    cVars.append(conditionalValueAtRisk)\n",
    "    \n",
    "    print(\"Value at Risk(VaR) 5%:\", valueAtRisk)\n",
    "    print(\"Conditional Value at Risk(CVaR) 5%:\", conditionalValueAtRisk)\n",
    "    varConfidenceInterval = bootstrappedConfidenceInterval(trials, fivePercentVaR, 100, 0.05)\n",
    "    cvarConfidenceInterval = bootstrappedConfidenceInterval(trials, fivePercentCVaR, 100, .05)\n",
    "    \n",
    "    #print(\"VaR confidence interval: \" , varConfidenceInterval)\n",
    "    #print(\"Var =\",valueAtRisk)\n",
    "    #print(\"CVaR confidence interval: \" , cvarConfidenceInterval)\n",
    "    kupiecTestValue = kupiecTestPValue(stocksReturns, valueAtRisk, 0.05)\n",
    "    kupiecTestValues.append(kupiecTestValue)\n",
    "    print(\"Kupiec test p-value: \" ,kupiecTestValue)"
   ]
  },
  {
   "cell_type": "code",
   "execution_count": null,
   "metadata": {},
   "outputs": [],
   "source": [
    "plt.figure(figsize=(12,5))\n",
    "plt.subplot(121)\n",
    "plt.ylabel(\"Kupiec p-test value\")\n",
    "plt.plot(trainTestRatios,kupiecTestValues,'b--o')\n",
    "plt.subplot(122)\n",
    "plt.ylabel(\"Value at risk\")\n",
    "plt.plot(trainTestRatios,vArs,'b--o')\n",
    "plt.suptitle(\"backtesting with respect to test-train ration\",fontsize=15)\n",
    "plt.show()"
   ]
  },
  {
   "cell_type": "markdown",
   "metadata": {},
   "source": [
    "### Results and Comments\n",
    "<div class=\"alert alert-warning\">\n",
    "\n",
    "</div>"
   ]
  },
  {
   "cell_type": "markdown",
   "metadata": {},
   "source": [
    "# 6. Summary\n",
    "In this lecture, we studied the Monte Carlo Simulation method and its application to estimate financial risk. To apply it, first, we needed to define the relationship between market factors and the instruments' returns. In such step, you must define the model which maps the market factors' values to the instruments' values: in our use case, we used a linear regression function for building our model. Next, we also had to find the parameters of our model, which are the weights of the factors we considered. Then, we had to study the distribution of each market factor. A good way to do that is using Kernel density estimation to smooth the distribution and plot it. Depending on the shape of each figure, we had to guess the best fit distribution for each factor: in our use case, we used a very simple approach, and decided that our smoothed distributions all looked normal distributions. \n",
    "\n",
    "Then, the idea of Monte Carlo simulation was to generate many possible values for each factor and calculate the corresponding outcomes by a well-defined model in each trial. After many trials, we were able to calculate VaR from the sequences of outcome's values. When the number of trials is large enough, the VaR converges to reasonable values, that we could validate using well-known statistical hypothesis. "
   ]
  },
  {
   "cell_type": "markdown",
   "metadata": {},
   "source": [
    "# References\n",
    "- The example in section 2 is inspired from [this article](http://www.solver.com/monte-carlo-simulation-example).\n",
    "- [Backtesting Value-at-Risk models](https://aaltodoc.aalto.fi/bitstream/handle/123456789/181/hse_ethesis_12049.pdf?sequence=1) (Kansantaloustiede, 2009) - (A good reference to study Backtesting).\n"
   ]
  }
 ],
 "metadata": {
  "kernelspec": {
   "display_name": "Python 3",
   "language": "python",
   "name": "python3"
  },
  "language_info": {
   "codemirror_mode": {
    "name": "ipython",
    "version": 3
   },
   "file_extension": ".py",
   "mimetype": "text/x-python",
   "name": "python",
   "nbconvert_exporter": "python",
   "pygments_lexer": "ipython3",
   "version": "3.6.4"
  }
 },
 "nbformat": 4,
 "nbformat_minor": 2
}
